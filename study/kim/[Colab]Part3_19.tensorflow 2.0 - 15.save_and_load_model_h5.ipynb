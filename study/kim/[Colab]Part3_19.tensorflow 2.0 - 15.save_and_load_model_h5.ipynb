{
 "cells": [
  {
   "cell_type": "markdown",
   "metadata": {
    "colab_type": "text",
    "id": "l4C3b74Urw_d"
   },
   "source": [
    "# TensorFlow 2.0"
   ]
  },
  {
   "cell_type": "code",
   "execution_count": null,
   "metadata": {
    "colab": {},
    "colab_type": "code",
    "id": "t_ERzlXbrw_e"
   },
   "outputs": [],
   "source": [
    "import os\n",
    "from glob import glob\n",
    "from datetime import datetime\n",
    "\n",
    "import numpy as np\n",
    "\n",
    "import tensorflow as tf\n",
    "from tensorflow.keras import layers\n",
    "\n",
    "from tensorflow.keras import datasets \n",
    "\n",
    "import matplotlib.pyplot as plt\n",
    "\n",
    "%load_ext tensorboard\n",
    "%matplotlib inline"
   ]
  },
  {
   "cell_type": "markdown",
   "metadata": {
    "colab_type": "text",
    "id": "6zqfnliCrw_k"
   },
   "source": [
    "## Hyperparameter Tunning"
   ]
  },
  {
   "cell_type": "code",
   "execution_count": 2,
   "metadata": {
    "colab": {},
    "colab_type": "code",
    "id": "l7ZzExC_rw_l"
   },
   "outputs": [],
   "source": [
    "num_epochs = 5\n",
    "batch_size = 32\n",
    "\n",
    "learning_rate = 0.001\n",
    "\n",
    "dropout_rate = 0.5\n",
    "\n",
    "input_shape = (32, 32, 3)\n",
    "num_classes = 10"
   ]
  },
  {
   "cell_type": "markdown",
   "metadata": {
    "colab_type": "text",
    "id": "_9SRmnX0rw_p"
   },
   "source": [
    "## Build Model"
   ]
  },
  {
   "cell_type": "code",
   "execution_count": 3,
   "metadata": {
    "colab": {},
    "colab_type": "code",
    "id": "BegnvRodrw_q"
   },
   "outputs": [],
   "source": [
    "inputs = layers.Input(input_shape)\n",
    "\n",
    "net = layers.Conv2D(32, (3, 3), padding='SAME')(inputs)\n",
    "net = layers.Activation('relu')(net)\n",
    "net = layers.Conv2D(32, (3, 3), padding='SAME')(net)\n",
    "net = layers.Activation('relu')(net)\n",
    "net = layers.MaxPooling2D(pool_size=(2, 2))(net)\n",
    "net = layers.Dropout(dropout_rate)(net)\n",
    "\n",
    "net = layers.Conv2D(64, (3, 3), padding='SAME')(net)\n",
    "net = layers.Activation('relu')(net)\n",
    "net = layers.Conv2D(64, (3, 3), padding='SAME')(net)\n",
    "net = layers.Activation('relu')(net)\n",
    "net = layers.MaxPooling2D(pool_size=(2, 2))(net)\n",
    "net = layers.Dropout(dropout_rate)(net)\n",
    "\n",
    "net = layers.Flatten()(net)\n",
    "net = layers.Dense(512)(net)\n",
    "net = layers.Activation('relu')(net)\n",
    "net = layers.Dropout(dropout_rate)(net)\n",
    "net = layers.Dense(num_classes)(net)\n",
    "net = layers.Activation('softmax')(net)\n",
    "\n",
    "model = tf.keras.Model(inputs=inputs, outputs=net, name='Basic_CNN')"
   ]
  },
  {
   "cell_type": "code",
   "execution_count": null,
   "metadata": {
    "colab": {},
    "colab_type": "code",
    "id": "yM93xZB_rw_s"
   },
   "outputs": [],
   "source": [
    "# Model is the full model w/o custom layers\n",
    "model.compile(optimizer=tf.keras.optimizers.Adam(learning_rate),  # Optimization\n",
    "              loss='sparse_categorical_crossentropy',  # Loss Function \n",
    "              metrics=['accuracy'])  # Metrics / Accuracy"
   ]
  },
  {
   "cell_type": "markdown",
   "metadata": {
    "colab_type": "text",
    "id": "fPqafDVZrw_v"
   },
   "source": [
    "# Data Preprocess"
   ]
  },
  {
   "cell_type": "code",
   "execution_count": 5,
   "metadata": {
    "colab": {
     "base_uri": "https://localhost:8080/",
     "height": 122
    },
    "colab_type": "code",
    "id": "oUYiWVKIr1kW",
    "outputId": "c123a4ac-52ba-4ee4-f6e1-eeb06ac6cb9e"
   },
   "outputs": [
    {
     "name": "stdout",
     "output_type": "stream",
     "text": [
      "Go to this URL in a browser: https://accounts.google.com/o/oauth2/auth?client_id=947318989803-6bn6qk8qdgf4n4g3pfee6491hc0brc4i.apps.googleusercontent.com&redirect_uri=urn%3aietf%3awg%3aoauth%3a2.0%3aoob&scope=email%20https%3a%2f%2fwww.googleapis.com%2fauth%2fdocs.test%20https%3a%2f%2fwww.googleapis.com%2fauth%2fdrive%20https%3a%2f%2fwww.googleapis.com%2fauth%2fdrive.photos.readonly%20https%3a%2f%2fwww.googleapis.com%2fauth%2fpeopleapi.readonly&response_type=code\n",
      "\n",
      "Enter your authorization code:\n",
      "··········\n",
      "Mounted at /content/drive\n"
     ]
    }
   ],
   "source": [
    "from google.colab import drive\n",
    "drive.mount('/content/drive')"
   ]
  },
  {
   "cell_type": "code",
   "execution_count": null,
   "metadata": {
    "colab": {},
    "colab_type": "code",
    "id": "z7OgdFxrr1ey"
   },
   "outputs": [],
   "source": [
    "# 압축 풀기\n",
    "!unzip -qq /content/drive/\"My Drive\"/\"[AOP:딥러닝 인공지능]\"/TEST/\"1. [Tensorflow 2.0 과 Pytorch]\"/\"3. 이미지 분석으로 배우는 tensorflow 2.0과 Pytorch\"/\"3. dataset\"/cifar.zip\n"
   ]
  },
  {
   "cell_type": "code",
   "execution_count": null,
   "metadata": {
    "colab": {
     "base_uri": "https://localhost:8080/",
     "height": 34
    },
    "colab_type": "code",
    "id": "aTiykk6vr1W8",
    "outputId": "791beffe-97cf-482a-b908-2ba130b0ce98"
   },
   "outputs": [
    {
     "data": {
      "text/plain": [
       "['labels.txt', 'test', 'train']"
      ]
     },
     "execution_count": 7,
     "metadata": {
      "tags": []
     },
     "output_type": "execute_result"
    }
   ],
   "source": [
    "os.listdir('/content/cifar/')"
   ]
  },
  {
   "cell_type": "code",
   "execution_count": null,
   "metadata": {
    "colab": {},
    "colab_type": "code",
    "id": "yx3KVMl2rw_w"
   },
   "outputs": [],
   "source": [
    "train_paths = glob('/content/cifar/train/*.png')[:100]\n",
    "test_paths = glob('/content/cifar/test/*.png')[:100]"
   ]
  },
  {
   "cell_type": "code",
   "execution_count": null,
   "metadata": {
    "colab": {},
    "colab_type": "code",
    "id": "IVEx6NM2rw_y"
   },
   "outputs": [],
   "source": [
    "def get_class_name(path):\n",
    "    return path.split('_')[-1].replace('.png', '')"
   ]
  },
  {
   "cell_type": "code",
   "execution_count": null,
   "metadata": {
    "colab": {},
    "colab_type": "code",
    "id": "irvTL4Pcrw_0"
   },
   "outputs": [],
   "source": [
    "train_labels = [get_class_name(path) for path in train_paths]\n",
    "class_names = np.unique(train_labels)"
   ]
  },
  {
   "cell_type": "code",
   "execution_count": null,
   "metadata": {
    "colab": {},
    "colab_type": "code",
    "id": "jXp_vLPrrw_2"
   },
   "outputs": [],
   "source": [
    "def get_label(path):\n",
    "    fname = tf.strings.split(path, '_')[-1]\n",
    "    lbl_name = tf.strings.regex_replace(fname, '.png', '')\n",
    "    onehot = tf.cast(lbl_name == class_names, tf.uint8)\n",
    "    return tf.argmax(onehot)  # 이번에는 onehot이 아닌 label 번호로"
   ]
  },
  {
   "cell_type": "code",
   "execution_count": null,
   "metadata": {
    "colab": {},
    "colab_type": "code",
    "id": "btIy8Cpqrw_3"
   },
   "outputs": [],
   "source": [
    "def load_image_label(path):\n",
    "    gfile = tf.io.read_file(path)\n",
    "    image = tf.io.decode_image(gfile)\n",
    "    image = tf.cast(image, tf.float32) / 255.  # rescale\n",
    "    \n",
    "    label = get_label(path)\n",
    "    return image, label"
   ]
  },
  {
   "cell_type": "code",
   "execution_count": null,
   "metadata": {
    "colab": {},
    "colab_type": "code",
    "id": "RCSiZ745rw_5"
   },
   "outputs": [],
   "source": [
    "def image_preprocess(image, label):\n",
    "    image = tf.image.random_flip_up_down(image)\n",
    "    image = tf.image.random_flip_left_right(image)\n",
    "    return image, label"
   ]
  },
  {
   "cell_type": "code",
   "execution_count": null,
   "metadata": {
    "colab": {},
    "colab_type": "code",
    "id": "zHIy2hharw_6"
   },
   "outputs": [],
   "source": [
    "AUTOTUNE = tf.data.experimental.AUTOTUNE"
   ]
  },
  {
   "cell_type": "code",
   "execution_count": null,
   "metadata": {
    "colab": {},
    "colab_type": "code",
    "id": "TcbcWwi3rw_8"
   },
   "outputs": [],
   "source": [
    "train_dataset = tf.data.Dataset.from_tensor_slices(train_paths)\n",
    "train_dataset = train_dataset.map(load_image_label, num_parallel_calls=AUTOTUNE)\n",
    "train_dataset = train_dataset.map(image_preprocess, num_parallel_calls=AUTOTUNE)\n",
    "train_dataset = train_dataset.batch(batch_size)\n",
    "train_dataset = train_dataset.shuffle(buffer_size=len(train_paths))\n",
    "train_dataset = train_dataset.repeat()"
   ]
  },
  {
   "cell_type": "code",
   "execution_count": null,
   "metadata": {
    "colab": {},
    "colab_type": "code",
    "id": "uW1l_aSurw_9"
   },
   "outputs": [],
   "source": [
    "test_dataset = tf.data.Dataset.from_tensor_slices(test_paths)\n",
    "test_dataset = test_dataset.map(load_image_label, num_parallel_calls=AUTOTUNE)\n",
    "test_dataset = test_dataset.batch(batch_size)\n",
    "test_dataset = test_dataset.repeat()"
   ]
  },
  {
   "cell_type": "markdown",
   "metadata": {
    "colab_type": "text",
    "id": "dqGZm5TLrw_-"
   },
   "source": [
    "## Training"
   ]
  },
  {
   "cell_type": "markdown",
   "metadata": {
    "colab_type": "text",
    "id": "K9hbYAOErw__"
   },
   "source": [
    "http://localhost:6006"
   ]
  },
  {
   "cell_type": "code",
   "execution_count": null,
   "metadata": {
    "colab": {
     "base_uri": "https://localhost:8080/",
     "height": 258
    },
    "colab_type": "code",
    "id": "aSfZeD-wrw__",
    "outputId": "a8e7c626-d831-47f9-df53-e9cbc3463ac4"
   },
   "outputs": [
    {
     "name": "stdout",
     "output_type": "stream",
     "text": [
      "WARNING:tensorflow:From <ipython-input-17-ace97a0ab232>:9: Model.fit_generator (from tensorflow.python.keras.engine.training) is deprecated and will be removed in a future version.\n",
      "Instructions for updating:\n",
      "Please use Model.fit, which supports generators.\n",
      "Epoch 1/5\n",
      "3/3 [==============================] - 1s 232ms/step - loss: 2.3722 - accuracy: 0.1354 - val_loss: 2.2996 - val_accuracy: 0.1458\n",
      "Epoch 2/5\n",
      "3/3 [==============================] - 1s 206ms/step - loss: 2.2721 - accuracy: 0.2059 - val_loss: 2.2999 - val_accuracy: 0.1458\n",
      "Epoch 3/5\n",
      "3/3 [==============================] - 1s 179ms/step - loss: 2.2381 - accuracy: 0.2059 - val_loss: 2.3098 - val_accuracy: 0.1458\n",
      "Epoch 4/5\n",
      "3/3 [==============================] - 0s 150ms/step - loss: 2.4879 - accuracy: 0.2059 - val_loss: 2.3401 - val_accuracy: 0.1458\n",
      "Epoch 5/5\n",
      "3/3 [==============================] - 1s 189ms/step - loss: 2.3205 - accuracy: 0.1912 - val_loss: 2.3129 - val_accuracy: 0.1458\n"
     ]
    }
   ],
   "source": [
    "steps_per_epoch = len(train_paths) // batch_size\n",
    "validation_steps = len(test_paths) // batch_size\n",
    "\n",
    "history = model.fit_generator(\n",
    "    train_dataset,\n",
    "    steps_per_epoch=steps_per_epoch,\n",
    "    validation_data=test_dataset,\n",
    "    validation_steps=validation_steps,\n",
    "    epochs=num_epochs\n",
    ")"
   ]
  },
  {
   "cell_type": "markdown",
   "metadata": {
    "colab_type": "text",
    "id": "Ki70Fk8ZrxAB"
   },
   "source": [
    "# Load Checkpoint"
   ]
  },
  {
   "cell_type": "markdown",
   "metadata": {
    "colab_type": "text",
    "id": "jdeQBYlLrxAC"
   },
   "source": [
    "# Saving Model"
   ]
  },
  {
   "cell_type": "code",
   "execution_count": 19,
   "metadata": {
    "colab": {},
    "colab_type": "code",
    "id": "vplZkzx7rxAD"
   },
   "outputs": [],
   "source": [
    "save_path = '/content/my_model.h5'"
   ]
  },
  {
   "cell_type": "code",
   "execution_count": 20,
   "metadata": {
    "colab": {},
    "colab_type": "code",
    "id": "CpvfOM_ZrxAE"
   },
   "outputs": [],
   "source": [
    "model.save(save_path, include_optimizer=True)"
   ]
  },
  {
   "cell_type": "code",
   "execution_count": 21,
   "metadata": {
    "colab": {},
    "colab_type": "code",
    "id": "QMqkhEBArxAG"
   },
   "outputs": [],
   "source": [
    "model = tf.keras.models.load_model('/content/my_model.h5')"
   ]
  },
  {
   "cell_type": "code",
   "execution_count": null,
   "metadata": {
    "colab": {},
    "colab_type": "code",
    "id": "eVcudaDTrxAH"
   },
   "outputs": [],
   "source": []
  },
  {
   "cell_type": "markdown",
   "metadata": {
    "colab_type": "text",
    "id": "F_jdXfrjrxAI"
   },
   "source": [
    "# Saving Model - 2"
   ]
  },
  {
   "cell_type": "code",
   "execution_count": 22,
   "metadata": {
    "colab": {},
    "colab_type": "code",
    "id": "-CfCoP9xrxAJ"
   },
   "outputs": [],
   "source": [
    "model.save_weights('model_weights.h5')"
   ]
  },
  {
   "cell_type": "code",
   "execution_count": 23,
   "metadata": {
    "colab": {},
    "colab_type": "code",
    "id": "YE7GxYdlrxAK"
   },
   "outputs": [],
   "source": [
    "with open('/content/model_architecture.json', 'w') as f:\n",
    "  f.write(model.to_json())"
   ]
  },
  {
   "cell_type": "code",
   "execution_count": 24,
   "metadata": {
    "colab": {},
    "colab_type": "code",
    "id": "E65HxubPuDku"
   },
   "outputs": [],
   "source": [
    "from tensorflow.keras.models import model_from_json"
   ]
  },
  {
   "cell_type": "code",
   "execution_count": 25,
   "metadata": {
    "colab": {},
    "colab_type": "code",
    "id": "_D6NgIQ-uDbn"
   },
   "outputs": [],
   "source": [
    "with open('/content/model_architecture.json','r') as f:\n",
    "  model = model_from_json(f.read())"
   ]
  },
  {
   "cell_type": "code",
   "execution_count": 26,
   "metadata": {
    "colab": {},
    "colab_type": "code",
    "id": "gT-SRTknugNW"
   },
   "outputs": [],
   "source": [
    "model.load_weights('model_weights.h5')"
   ]
  },
  {
   "cell_type": "markdown",
   "metadata": {
    "colab_type": "text",
    "id": "ftiGEtVmrxAL"
   },
   "source": [
    "# model.h5 들여다보기"
   ]
  },
  {
   "cell_type": "code",
   "execution_count": 27,
   "metadata": {
    "colab": {},
    "colab_type": "code",
    "id": "wXfCy2KerxAM"
   },
   "outputs": [],
   "source": [
    "import h5py"
   ]
  },
  {
   "cell_type": "code",
   "execution_count": 29,
   "metadata": {
    "colab": {},
    "colab_type": "code",
    "id": "kLCAgVj1rxAN"
   },
   "outputs": [],
   "source": [
    "model_file = h5py.File('my_model.h5', 'r+')"
   ]
  },
  {
   "cell_type": "code",
   "execution_count": 30,
   "metadata": {
    "colab": {
     "base_uri": "https://localhost:8080/",
     "height": 34
    },
    "colab_type": "code",
    "id": "uhjVd_30rxAO",
    "outputId": "cfd38fee-d4c3-4b4c-9de6-868d39a4e863"
   },
   "outputs": [
    {
     "data": {
      "text/plain": [
       "<KeysViewHDF5 ['model_weights', 'optimizer_weights']>"
      ]
     },
     "execution_count": 30,
     "metadata": {
      "tags": []
     },
     "output_type": "execute_result"
    }
   ],
   "source": [
    "model_file.keys()"
   ]
  },
  {
   "cell_type": "code",
   "execution_count": 31,
   "metadata": {
    "colab": {
     "base_uri": "https://localhost:8080/",
     "height": 54
    },
    "colab_type": "code",
    "id": "2l0cWminrxAP",
    "outputId": "8346c939-e3f3-423d-d93a-39bf2386dc3f"
   },
   "outputs": [
    {
     "data": {
      "text/plain": [
       "<KeysViewHDF5 ['activation', 'activation_1', 'activation_2', 'activation_3', 'activation_4', 'activation_5', 'conv2d', 'conv2d_1', 'conv2d_2', 'conv2d_3', 'dense', 'dense_1', 'dropout', 'dropout_1', 'dropout_2', 'flatten', 'input_1', 'max_pooling2d', 'max_pooling2d_1']>"
      ]
     },
     "execution_count": 31,
     "metadata": {
      "tags": []
     },
     "output_type": "execute_result"
    }
   ],
   "source": [
    "model_file['model_weights'].keys()"
   ]
  },
  {
   "cell_type": "code",
   "execution_count": 32,
   "metadata": {
    "colab": {
     "base_uri": "https://localhost:8080/",
     "height": 34
    },
    "colab_type": "code",
    "id": "GHK1TwqPrxAQ",
    "outputId": "fe111274-17de-4965-bd81-2ece804bed91"
   },
   "outputs": [
    {
     "data": {
      "text/plain": [
       "<KeysViewHDF5 ['bias:0', 'kernel:0']>"
      ]
     },
     "execution_count": 32,
     "metadata": {
      "tags": []
     },
     "output_type": "execute_result"
    }
   ],
   "source": [
    "model_file['model_weights']['conv2d']['conv2d'].keys()"
   ]
  },
  {
   "cell_type": "code",
   "execution_count": 33,
   "metadata": {
    "colab": {
     "base_uri": "https://localhost:8080/",
     "height": 34
    },
    "colab_type": "code",
    "id": "5cFvAeMtrxAR",
    "outputId": "a8231ef0-ccea-48ba-f911-a6b1dd67aa0f"
   },
   "outputs": [
    {
     "data": {
      "text/plain": [
       "<HDF5 dataset \"kernel:0\": shape (3, 3, 3, 32), type \"<f4\">"
      ]
     },
     "execution_count": 33,
     "metadata": {
      "tags": []
     },
     "output_type": "execute_result"
    }
   ],
   "source": [
    "model_file['model_weights']['conv2d']['conv2d']['kernel:0']"
   ]
  },
  {
   "cell_type": "code",
   "execution_count": 35,
   "metadata": {
    "colab": {},
    "colab_type": "code",
    "id": "5P4TkvfarxAS"
   },
   "outputs": [],
   "source": [
    "weight = np.array(model_file['model_weights']['conv2d']['conv2d']['kernel:0'])"
   ]
  },
  {
   "cell_type": "code",
   "execution_count": 36,
   "metadata": {
    "colab": {
     "base_uri": "https://localhost:8080/",
     "height": 1000
    },
    "colab_type": "code",
    "id": "FYNDfleC2cTm",
    "outputId": "ecd25750-b9e2-44b2-b622-ec766f797d02"
   },
   "outputs": [
    {
     "data": {
      "text/plain": [
       "array([[[[-3.66097838e-02, -1.28953531e-01, -9.08701196e-02,\n",
       "           8.07273984e-02, -8.17036703e-02, -1.21979348e-01,\n",
       "          -9.62217376e-02, -5.15371896e-02,  1.10153005e-01,\n",
       "           1.18653633e-01, -6.98712394e-02, -6.29650727e-02,\n",
       "           9.60927829e-02, -1.12503812e-01, -8.87450650e-02,\n",
       "          -1.34827808e-01,  1.17947064e-01,  8.72314796e-02,\n",
       "          -1.06202021e-01,  4.08893079e-02,  2.41462397e-03,\n",
       "           1.09146923e-01, -1.12968087e-01,  1.10036535e-02,\n",
       "          -9.97726768e-02, -6.62183464e-02,  2.55011488e-02,\n",
       "          -4.82166298e-02, -1.12670153e-01,  1.04116872e-02,\n",
       "           1.20218433e-01,  7.18212053e-02],\n",
       "         [ 4.93689589e-02,  3.44628356e-02,  1.29849717e-01,\n",
       "           1.09441774e-02, -1.64914597e-02,  2.06914116e-02,\n",
       "          -6.30825683e-02, -1.17458932e-01,  5.98718859e-02,\n",
       "          -9.07893926e-02,  6.41699973e-03, -9.46100205e-02,\n",
       "           9.21126679e-02, -3.46894935e-02,  7.92289246e-03,\n",
       "           9.50413849e-03,  1.06364273e-01, -2.12690346e-02,\n",
       "          -2.45640781e-02, -7.77929053e-02, -7.09328353e-02,\n",
       "          -4.00893018e-02, -1.09009169e-01,  4.24351729e-02,\n",
       "           9.09402743e-02,  1.28049493e-01,  3.95269841e-02,\n",
       "          -3.64466794e-02,  1.37560561e-01, -5.67408316e-02,\n",
       "          -9.04031098e-02, -3.43993716e-02],\n",
       "         [ 1.35922637e-02,  5.31606749e-02,  5.22639193e-02,\n",
       "           1.20430961e-01, -7.94785023e-02,  1.14860252e-01,\n",
       "          -2.40866728e-02,  8.92731622e-02, -5.70590682e-02,\n",
       "           9.79112685e-02,  4.01892792e-03, -7.34964851e-03,\n",
       "          -5.15182279e-02, -1.91737171e-02, -9.01829079e-02,\n",
       "          -9.90810897e-03, -2.82779746e-02, -1.14690550e-02,\n",
       "          -3.28539722e-02, -1.20073138e-02, -4.24530618e-02,\n",
       "          -1.23457827e-01,  1.08005315e-01, -9.80089977e-02,\n",
       "          -1.03066884e-01, -1.34416625e-01, -6.38628900e-02,\n",
       "          -5.74812256e-02, -5.54158874e-02,  6.51131719e-02,\n",
       "           1.06676631e-01,  4.43397313e-02]],\n",
       "\n",
       "        [[-1.33497596e-01, -4.26249690e-02, -3.23797278e-02,\n",
       "          -1.31575033e-01,  1.16833173e-01,  7.76570365e-02,\n",
       "           9.55658108e-02, -3.38784344e-02,  2.79098600e-02,\n",
       "           1.01731762e-01, -4.77536917e-02,  3.28536481e-02,\n",
       "          -4.73778546e-02, -7.56307468e-02,  3.98551747e-02,\n",
       "           4.81345914e-02,  1.20749995e-01,  1.17882133e-01,\n",
       "          -4.58732527e-03,  1.08209938e-01, -1.09069921e-01,\n",
       "          -2.51384471e-02, -7.23366514e-02,  1.36809364e-01,\n",
       "          -1.68483891e-02, -7.50431791e-02,  2.89666522e-02,\n",
       "          -6.98494017e-02, -4.92781587e-02,  6.20014258e-02,\n",
       "           5.54556847e-02, -4.73826304e-02],\n",
       "         [-6.26238510e-02, -1.03788108e-01, -1.29693123e-02,\n",
       "          -4.39363234e-02, -3.11040785e-02,  3.58013250e-02,\n",
       "          -6.46499917e-02,  9.69141796e-02,  1.13977864e-01,\n",
       "          -7.60549232e-02,  9.26206335e-02, -1.16673730e-01,\n",
       "          -9.02004540e-02, -6.31542969e-03, -1.08208679e-01,\n",
       "          -6.03625737e-02, -8.20810534e-03,  1.12961300e-01,\n",
       "          -3.93955521e-02,  1.27345845e-01,  1.34692937e-01,\n",
       "          -9.98613890e-03, -7.57991523e-02,  2.98196003e-02,\n",
       "          -1.10743314e-01,  3.37122269e-02, -6.17047660e-02,\n",
       "          -1.20848536e-01,  3.15390304e-02,  1.27234399e-01,\n",
       "          -2.74829101e-02, -1.00777461e-03],\n",
       "         [-1.20775372e-01,  4.67596613e-02, -1.38821453e-01,\n",
       "           4.82687168e-02, -4.22996581e-02, -5.01572564e-02,\n",
       "          -2.05626395e-02, -2.99481228e-02,  5.10400124e-02,\n",
       "           2.51513743e-03,  7.58499652e-02, -2.92979106e-02,\n",
       "          -9.81508195e-02, -1.91188380e-02, -1.22180961e-01,\n",
       "           5.66358753e-02, -1.21637844e-01,  1.23563275e-01,\n",
       "           4.39003557e-02, -2.28522718e-02, -6.40557185e-02,\n",
       "          -1.13802150e-01,  4.01463024e-02, -1.09510228e-01,\n",
       "          -1.30267352e-01, -7.02457055e-02, -1.13304578e-01,\n",
       "          -6.24256283e-02,  1.36595726e-01, -4.09533270e-02,\n",
       "          -1.37507215e-01, -1.03879511e-01]],\n",
       "\n",
       "        [[ 9.92057770e-02,  3.96816544e-02, -6.02714568e-02,\n",
       "           5.16421273e-02, -8.08275566e-02, -8.02910924e-02,\n",
       "           8.33488777e-02, -6.00698479e-02, -5.54768629e-02,\n",
       "          -5.83474934e-02,  3.58207300e-02, -7.44042620e-02,\n",
       "          -7.52494559e-02,  1.62453223e-02, -4.83054183e-02,\n",
       "          -6.56193122e-02, -1.07065521e-01,  4.37077396e-02,\n",
       "           6.95381984e-02, -3.75597328e-02, -1.02429278e-01,\n",
       "          -9.05507281e-02,  2.76967529e-02,  1.00193247e-01,\n",
       "           1.28200158e-01, -6.36077598e-02, -1.06795274e-01,\n",
       "          -4.36319597e-02, -6.69526830e-02,  8.29182938e-02,\n",
       "           1.86475646e-02,  1.06416740e-01],\n",
       "         [ 1.15786366e-01,  8.01749434e-03, -6.49494817e-03,\n",
       "           5.68301789e-02, -4.02984321e-02,  6.61690906e-02,\n",
       "           8.37648511e-02,  8.60879943e-02,  8.81574154e-02,\n",
       "           9.65532437e-02,  5.25974222e-02, -1.05635457e-01,\n",
       "          -4.28464413e-02, -8.47262740e-02,  4.54115495e-02,\n",
       "          -6.95240051e-02,  1.98920164e-02, -1.79231688e-02,\n",
       "           1.31025285e-01, -6.88996958e-03, -1.20981239e-01,\n",
       "          -3.45490989e-03,  9.22853723e-02, -1.24026062e-02,\n",
       "          -1.04409657e-01, -5.26853986e-02, -5.72273806e-02,\n",
       "           1.12675183e-01, -1.35734469e-01, -1.27231434e-01,\n",
       "           8.94120336e-02, -1.34991303e-01],\n",
       "         [ 2.75663510e-02,  1.05547778e-01, -6.12642430e-02,\n",
       "           1.33441418e-01,  1.07090645e-01, -1.00136243e-01,\n",
       "           9.82571021e-02, -1.26270175e-01,  6.69504553e-02,\n",
       "           6.74585849e-02,  7.97920078e-02,  1.33178355e-02,\n",
       "           1.34240523e-01,  8.96831676e-02,  1.23045571e-01,\n",
       "          -2.32333988e-02, -1.10508827e-02, -6.20336533e-02,\n",
       "           1.13980278e-01,  1.11642508e-02, -1.06306210e-01,\n",
       "           1.80795286e-02, -4.65664230e-02,  1.07605830e-01,\n",
       "           3.83928306e-02, -8.24348181e-02, -8.46228004e-02,\n",
       "           8.78195465e-02, -7.40624964e-02,  1.34706330e-02,\n",
       "          -7.03139305e-02,  1.13746170e-02]]],\n",
       "\n",
       "\n",
       "       [[[ 1.09234430e-01,  1.06811881e-01,  5.84553294e-02,\n",
       "           1.28556594e-01, -3.17685469e-03, -4.94782627e-02,\n",
       "          -3.42561044e-02, -1.33010373e-01,  2.35392991e-03,\n",
       "           1.09642066e-01,  9.01823565e-02,  2.34991033e-02,\n",
       "           2.81356201e-02, -8.80189389e-02, -1.37199238e-01,\n",
       "           8.29888284e-02, -9.64912921e-02, -1.56609602e-02,\n",
       "          -9.00718495e-02, -1.23065025e-01, -1.02303460e-01,\n",
       "          -1.25547782e-01,  2.39988044e-02, -1.22771464e-01,\n",
       "           1.00391224e-01, -1.35100707e-01, -4.53911535e-02,\n",
       "          -3.49301659e-02, -8.87182280e-02, -1.15860313e-01,\n",
       "           8.81964937e-02, -8.08812752e-02],\n",
       "         [ 1.07538223e-01, -1.56665891e-02,  1.01337843e-01,\n",
       "          -1.20844334e-01,  7.99830556e-02,  1.07802764e-01,\n",
       "           6.21146299e-02, -1.46840969e-02, -1.34011447e-01,\n",
       "           7.71042258e-02,  1.70082822e-02, -6.98730499e-02,\n",
       "          -3.76234353e-02, -9.54142362e-02, -7.95569643e-02,\n",
       "          -1.33295357e-01, -1.25473246e-01,  1.75416342e-03,\n",
       "          -8.11992735e-02,  5.23939207e-02,  5.57638519e-02,\n",
       "           1.09623156e-01, -1.58816800e-02, -3.00546922e-02,\n",
       "          -1.00761950e-01,  2.96355318e-02,  3.88793163e-02,\n",
       "          -2.84631774e-02,  1.31065533e-01, -3.31094265e-02,\n",
       "           1.11653514e-01, -6.33067563e-02],\n",
       "         [-9.29158852e-02,  1.35927618e-01,  3.83638181e-02,\n",
       "          -8.11362863e-02,  1.26331039e-02, -1.10179074e-01,\n",
       "           1.08039729e-01, -2.55706031e-02, -8.04217681e-02,\n",
       "          -1.68175306e-02, -9.41945910e-02,  1.70359258e-02,\n",
       "           3.37456167e-02,  5.20034321e-02,  6.50347918e-02,\n",
       "          -5.66116199e-02,  5.59830591e-02, -1.06019765e-01,\n",
       "           3.80252860e-02, -5.21933995e-02, -4.65087295e-02,\n",
       "          -8.02793354e-02,  1.59036797e-02, -2.39990558e-02,\n",
       "          -1.21185489e-01,  6.55999035e-02, -3.37643512e-02,\n",
       "          -1.26648918e-01, -1.10512711e-02,  4.52043265e-02,\n",
       "          -9.49920416e-02,  6.11467846e-02]],\n",
       "\n",
       "        [[ 5.06654568e-02,  6.05129860e-02,  1.28624618e-01,\n",
       "          -9.00428370e-03,  2.14059204e-02,  4.15974148e-02,\n",
       "          -1.20962620e-01,  4.47020568e-02, -8.39539692e-02,\n",
       "           9.73339230e-02, -8.65335949e-03, -1.05274670e-01,\n",
       "           1.80437695e-02, -4.76625711e-02,  9.74814221e-02,\n",
       "           1.20687097e-01, -9.15013030e-02,  1.27577707e-01,\n",
       "          -9.94484872e-02,  8.53999481e-02,  6.22057542e-02,\n",
       "          -5.48209436e-02, -1.12471208e-02, -4.51729521e-02,\n",
       "           7.62861297e-02,  2.08440684e-02,  6.97934479e-02,\n",
       "           1.13114901e-02,  1.05167203e-01,  1.27993971e-02,\n",
       "           1.03572961e-02,  3.21378745e-02],\n",
       "         [-7.36017972e-02,  3.74093559e-03, -1.21560305e-01,\n",
       "          -1.02267340e-01,  4.55625542e-02,  1.32582411e-01,\n",
       "          -1.21883929e-01,  9.27035511e-02, -1.04367509e-01,\n",
       "          -3.22426036e-02, -8.00300483e-03,  1.34826927e-02,\n",
       "          -2.42197867e-02,  6.49509579e-02, -7.56861120e-02,\n",
       "           1.54165097e-03, -3.87519896e-02, -9.73903015e-02,\n",
       "           2.06113476e-02, -1.02598965e-02, -1.37059838e-01,\n",
       "          -2.24775374e-02, -8.58961493e-02, -1.10480845e-01,\n",
       "          -3.67818289e-02,  1.13456547e-01, -1.06224708e-01,\n",
       "          -3.97837795e-02,  4.73306403e-02, -9.60517302e-02,\n",
       "           1.31734371e-01, -1.06750868e-01],\n",
       "         [-1.53725808e-02,  1.15275376e-01, -6.16804697e-02,\n",
       "           7.34817088e-02, -1.08009093e-01, -9.21043977e-02,\n",
       "          -1.10393345e-01,  9.80123580e-02, -1.04317382e-01,\n",
       "          -1.01453908e-01, -4.79447879e-02, -7.29650036e-02,\n",
       "           8.97809267e-02,  5.77556230e-02, -1.68882739e-02,\n",
       "           1.18646905e-01,  3.05261146e-02,  8.96045491e-02,\n",
       "          -9.31865424e-02, -1.08278006e-01, -6.57924935e-02,\n",
       "          -1.30013734e-01,  9.32442620e-02, -4.02990468e-02,\n",
       "           1.13391362e-01, -2.05006897e-02,  9.45384204e-02,\n",
       "           7.20138252e-02, -7.97328725e-02,  6.98302165e-02,\n",
       "           7.01958686e-02,  5.18723652e-02]],\n",
       "\n",
       "        [[-1.34531213e-02,  8.71145949e-02, -1.24823369e-01,\n",
       "           1.02316529e-01,  7.35067949e-02,  1.24653801e-01,\n",
       "          -6.34783208e-02,  7.41675496e-02, -1.02476507e-01,\n",
       "           1.17460210e-02,  2.31681280e-02, -3.53740118e-02,\n",
       "           2.72096526e-02, -2.92354673e-02, -6.47647306e-02,\n",
       "           4.57134843e-02,  9.41489115e-02, -4.95308489e-02,\n",
       "           3.73970643e-02, -1.54006900e-02, -9.40038729e-03,\n",
       "           1.37576953e-01, -2.92644766e-03, -5.45724966e-02,\n",
       "          -2.75036786e-02,  5.83698973e-02,  1.37146592e-01,\n",
       "          -3.73038240e-02,  1.31528914e-01,  1.05486713e-01,\n",
       "           3.08766286e-03, -1.10476732e-01],\n",
       "         [ 1.19323865e-01,  8.69018957e-02,  9.49357916e-03,\n",
       "          -4.25952487e-02,  5.31361401e-02,  1.33925751e-01,\n",
       "           7.46326521e-02, -3.37255150e-02, -1.27315184e-03,\n",
       "          -9.90191381e-03,  3.41808684e-02,  1.05329975e-01,\n",
       "          -5.54815345e-02, -5.25228493e-02,  4.65962589e-02,\n",
       "           9.93858501e-02,  2.65750531e-02,  1.07178479e-01,\n",
       "           1.22368038e-01,  1.00192405e-01, -1.39448643e-01,\n",
       "          -9.76620093e-02, -3.10789701e-02,  5.03510125e-02,\n",
       "           7.23406449e-02, -9.82414484e-02,  3.86294164e-03,\n",
       "           2.45889332e-02,  2.98471423e-06,  2.70237979e-02,\n",
       "           3.96497287e-02, -8.55811164e-02],\n",
       "         [-8.65406319e-02,  4.56255153e-02,  1.11028478e-02,\n",
       "          -5.86098917e-02, -7.43174180e-02,  2.07452402e-02,\n",
       "           7.72486776e-02,  1.11572072e-01, -3.08991913e-02,\n",
       "           3.21756564e-02,  8.09413642e-02, -1.18937314e-01,\n",
       "          -5.87790497e-02,  9.58513916e-02, -9.28199738e-02,\n",
       "           8.77814665e-02, -9.94400457e-02,  6.39404804e-02,\n",
       "           1.01640653e-02,  9.54211652e-02,  1.17338821e-01,\n",
       "          -5.96342310e-02, -1.39292866e-01, -6.38987273e-02,\n",
       "          -2.27706283e-02,  5.83765656e-02,  7.23202825e-02,\n",
       "          -2.35542953e-02,  8.69526565e-02, -1.78362224e-02,\n",
       "           5.15634790e-02, -1.18392393e-01]]],\n",
       "\n",
       "\n",
       "       [[[-3.97042520e-02,  1.25747934e-01,  4.13497090e-02,\n",
       "           5.07894866e-02,  3.42816263e-02, -8.65720734e-02,\n",
       "           4.33977619e-02,  1.10174634e-01,  1.29611924e-01,\n",
       "           1.23226434e-01,  1.17457651e-01, -1.21330850e-01,\n",
       "          -9.20503438e-02, -5.47665730e-02, -8.20921063e-02,\n",
       "           2.50368603e-02,  1.31359845e-01, -1.79749951e-02,\n",
       "          -1.09203212e-01,  3.83984856e-02, -6.60751462e-02,\n",
       "          -1.91816892e-02, -8.38461593e-02,  7.50257894e-02,\n",
       "           1.16074353e-01,  1.10871762e-01,  9.59532410e-02,\n",
       "          -9.08512473e-02, -9.80492160e-02, -4.87028025e-02,\n",
       "           8.67983401e-02, -1.16101809e-01],\n",
       "         [ 1.27075881e-01, -2.42352318e-02, -5.41173592e-02,\n",
       "           4.45217127e-04,  4.81144749e-02,  1.39020696e-01,\n",
       "          -1.29687205e-01,  1.17001999e-02, -6.58612698e-02,\n",
       "          -1.08306631e-01, -1.21293359e-01, -5.08583598e-02,\n",
       "           7.02496395e-02, -8.34672526e-02, -1.35206461e-01,\n",
       "          -1.10988587e-01, -9.87643152e-02,  7.39873573e-02,\n",
       "          -1.02994882e-01, -8.22819956e-03,  2.13099066e-02,\n",
       "          -3.94176543e-02, -1.21359155e-01, -5.79848960e-02,\n",
       "          -5.38155213e-02, -4.68948148e-02,  7.99513832e-02,\n",
       "           1.01263106e-01,  4.09832411e-03, -1.36909962e-01,\n",
       "          -1.28186688e-01, -2.77051982e-03],\n",
       "         [-6.76248968e-02, -9.99779031e-02, -1.18947891e-03,\n",
       "          -9.91295129e-02, -1.15149580e-02, -1.20129883e-01,\n",
       "           2.26416867e-02, -5.52256778e-02, -8.92589390e-02,\n",
       "           1.14178181e-01,  2.61332151e-02,  7.58115426e-02,\n",
       "           8.81786644e-02,  1.59501156e-03,  1.05615802e-01,\n",
       "           1.03256740e-01, -6.48933649e-02,  1.24629147e-01,\n",
       "           8.12033564e-02,  3.77515256e-02, -1.16743073e-02,\n",
       "          -5.26429825e-02, -1.08542308e-01, -8.49338621e-02,\n",
       "          -8.90067890e-02,  6.83590770e-02, -1.04112215e-01,\n",
       "          -1.52585134e-02,  3.86430770e-02,  5.30506931e-02,\n",
       "          -8.30663741e-03,  8.71349275e-02]],\n",
       "\n",
       "        [[ 1.97326485e-02,  5.00043295e-02, -1.20474435e-01,\n",
       "          -1.09622166e-01, -4.47276682e-02,  9.04943347e-02,\n",
       "          -4.61289734e-02,  6.14756383e-02, -5.12465946e-02,\n",
       "          -4.57535274e-02,  4.49479260e-02, -1.42884254e-03,\n",
       "          -1.09902442e-01,  6.13201819e-02,  3.70708704e-02,\n",
       "          -2.91551054e-02,  6.93793520e-02, -7.15962499e-02,\n",
       "          -2.45269417e-04,  1.07893674e-03, -1.76071711e-02,\n",
       "           1.23283872e-02,  9.92256477e-02,  7.87718669e-02,\n",
       "           1.35999992e-01,  1.97158046e-02, -3.09588481e-02,\n",
       "          -2.40806467e-03,  7.68497661e-02,  1.25753552e-01,\n",
       "          -1.17804267e-01,  6.64804950e-02],\n",
       "         [ 5.88820577e-02, -3.14411856e-02,  2.82691717e-02,\n",
       "          -1.33479431e-01,  7.70958513e-02,  3.36939469e-02,\n",
       "          -1.16502820e-02, -9.81151015e-02,  3.67901511e-02,\n",
       "          -8.17079619e-02, -2.84794345e-03,  7.83653483e-02,\n",
       "           1.18721567e-01, -1.01618193e-01, -2.65657119e-02,\n",
       "          -1.93951931e-02,  6.56943843e-02,  7.19236955e-02,\n",
       "           2.33079027e-02,  9.08684656e-02,  2.10026205e-02,\n",
       "          -6.20380901e-02, -1.22556657e-01, -4.64184806e-02,\n",
       "           1.14300735e-01, -4.93417718e-02, -8.91819522e-02,\n",
       "          -1.12700887e-01, -1.10947795e-01, -7.45501742e-02,\n",
       "           1.01336706e-02, -9.36642289e-02],\n",
       "         [ 9.26775187e-02, -2.42309505e-03,  1.38491979e-02,\n",
       "           1.32180348e-01, -1.31264150e-01, -1.21767800e-02,\n",
       "           7.77490139e-02,  1.32029831e-01,  4.21059579e-02,\n",
       "          -5.88793010e-02, -5.55262305e-02,  1.21574230e-01,\n",
       "           1.09127536e-01,  1.31217048e-01, -8.98438245e-02,\n",
       "          -3.31251733e-02, -7.92084932e-02, -5.03832242e-03,\n",
       "           1.33213773e-01, -1.07307574e-02, -1.24218076e-01,\n",
       "          -1.24001093e-01, -4.42749038e-02, -1.54563524e-02,\n",
       "          -1.02776617e-01,  1.03594206e-01, -4.51761819e-02,\n",
       "           1.25279903e-01, -1.10143475e-01,  3.07235289e-02,\n",
       "           1.42119154e-02,  7.08478317e-02]],\n",
       "\n",
       "        [[-5.44518530e-02, -3.87377255e-02, -3.95796672e-02,\n",
       "          -6.55888394e-02, -3.03159691e-02,  9.51136500e-02,\n",
       "          -6.69885129e-02,  1.08364791e-01, -1.32861078e-01,\n",
       "          -7.41179734e-02,  1.63813010e-02, -7.85349384e-02,\n",
       "          -3.40978913e-02,  8.38762224e-02,  2.84584351e-02,\n",
       "           3.67996469e-02, -5.08428998e-02, -3.96820083e-02,\n",
       "          -1.89834442e-02,  1.30101234e-01,  1.05638541e-01,\n",
       "          -7.15026818e-03, -8.15107301e-02,  1.35775477e-01,\n",
       "           4.35382873e-02, -4.06186581e-02, -4.91866730e-02,\n",
       "          -4.82946970e-02, -7.16070179e-04,  1.25418559e-01,\n",
       "           1.23601802e-01,  7.42171034e-02],\n",
       "         [ 8.53019208e-02, -1.30602300e-01,  4.72429357e-02,\n",
       "           1.25801926e-02,  7.82096758e-02, -1.02058873e-01,\n",
       "           1.23460621e-01,  1.26009300e-01,  1.26072004e-01,\n",
       "           2.72113346e-02,  1.02751173e-01, -1.36538148e-01,\n",
       "           9.84281078e-02,  9.41806212e-02, -9.81332660e-02,\n",
       "          -8.02803561e-02, -2.01886054e-02, -8.03311914e-02,\n",
       "           1.24777760e-03, -1.01173177e-01,  1.05876945e-01,\n",
       "          -2.51121297e-02, -6.35205582e-03,  5.93000837e-02,\n",
       "          -2.12844722e-02, -1.01250812e-01,  7.78726265e-02,\n",
       "          -1.15494989e-01,  8.45645890e-02,  7.53906667e-02,\n",
       "          -1.39826968e-01,  7.59942224e-04],\n",
       "         [-1.14797860e-01, -1.09553114e-01, -4.46302406e-02,\n",
       "           3.80163938e-02,  7.36399600e-03, -3.36880386e-02,\n",
       "          -3.16629815e-03, -8.30680504e-02,  7.06675202e-02,\n",
       "          -8.55474621e-02,  2.51069777e-02, -4.60509881e-02,\n",
       "           2.99921613e-02, -3.44881937e-02, -5.31131625e-02,\n",
       "           8.78538936e-02,  1.24501586e-01,  1.30687818e-01,\n",
       "           7.12158084e-02, -4.44298238e-02, -6.19184114e-02,\n",
       "          -9.43012387e-02, -7.60816857e-02,  3.22143249e-02,\n",
       "           9.56411064e-02,  7.15286508e-02, -6.13692366e-02,\n",
       "          -9.93042253e-03,  1.27298338e-02, -2.24353466e-02,\n",
       "           1.02979548e-01, -3.24717313e-02]]]], dtype=float32)"
      ]
     },
     "execution_count": 36,
     "metadata": {
      "tags": []
     },
     "output_type": "execute_result"
    }
   ],
   "source": [
    "weight"
   ]
  },
  {
   "cell_type": "code",
   "execution_count": null,
   "metadata": {
    "colab": {},
    "colab_type": "code",
    "id": "awgrMhp22fWX"
   },
   "outputs": [],
   "source": []
  }
 ],
 "metadata": {
  "colab": {
   "name": "[검수완료]19. save and load model - h5.ipynb",
   "provenance": []
  },
  "kernelspec": {
   "display_name": "Python 3",
   "language": "python",
   "name": "python3"
  },
  "language_info": {
   "codemirror_mode": {
    "name": "ipython",
    "version": 3
   },
   "file_extension": ".py",
   "mimetype": "text/x-python",
   "name": "python",
   "nbconvert_exporter": "python",
   "pygments_lexer": "ipython3",
   "version": "3.8.3"
  }
 },
 "nbformat": 4,
 "nbformat_minor": 4
}
