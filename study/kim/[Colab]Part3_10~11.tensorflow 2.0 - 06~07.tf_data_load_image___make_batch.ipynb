{
  "nbformat": 4,
  "nbformat_minor": 0,
  "metadata": {
    "kernelspec": {
      "display_name": "Python 3",
      "language": "python",
      "name": "python3"
    },
    "language_info": {
      "codemirror_mode": {
        "name": "ipython",
        "version": 3
      },
      "file_extension": ".py",
      "mimetype": "text/x-python",
      "name": "python",
      "nbconvert_exporter": "python",
      "pygments_lexer": "ipython3",
      "version": "3.7.3"
    },
    "colab": {
      "name": "[검수완료]09. tf.data - load image _ make batch.ipynb",
      "provenance": []
    }
  },
  "cells": [
    {
      "cell_type": "code",
      "metadata": {
        "id": "H8ACNx5LJsyi",
        "colab_type": "code",
        "colab": {}
      },
      "source": [
        "import os \n",
        "from glob import glob\n",
        "\n",
        "import numpy as np\n",
        "import tensorflow as tf\n",
        "\n",
        "import matplotlib.pyplot as plt\n",
        "%matplotlib inline"
      ],
      "execution_count": 1,
      "outputs": []
    },
    {
      "cell_type": "code",
      "metadata": {
        "id": "gSQKMlhuJ4aD",
        "colab_type": "code",
        "colab": {
          "base_uri": "https://localhost:8080/",
          "height": 122
        },
        "outputId": "1e41038d-0d32-46de-9728-c6657e5dd8e4"
      },
      "source": [
        "from google.colab import drive\n",
        "drive.mount('/content/drive')"
      ],
      "execution_count": 2,
      "outputs": [
        {
          "output_type": "stream",
          "text": [
            "Go to this URL in a browser: https://accounts.google.com/o/oauth2/auth?client_id=947318989803-6bn6qk8qdgf4n4g3pfee6491hc0brc4i.apps.googleusercontent.com&redirect_uri=urn%3aietf%3awg%3aoauth%3a2.0%3aoob&response_type=code&scope=email%20https%3a%2f%2fwww.googleapis.com%2fauth%2fdocs.test%20https%3a%2f%2fwww.googleapis.com%2fauth%2fdrive%20https%3a%2f%2fwww.googleapis.com%2fauth%2fdrive.photos.readonly%20https%3a%2f%2fwww.googleapis.com%2fauth%2fpeopleapi.readonly\n",
            "\n",
            "Enter your authorization code:\n",
            "··········\n",
            "Mounted at /content/drive\n"
          ],
          "name": "stdout"
        }
      ]
    },
    {
      "cell_type": "code",
      "metadata": {
        "id": "YmV3LoTDJ_0F",
        "colab_type": "code",
        "colab": {}
      },
      "source": [
        "# 압축 풀기\n",
        "!unzip -qq /content/drive/\"My Drive\"/\"[AOP:딥러닝 인공지능]\"/TEST/\"1. [Tensorflow 2.0 과 Pytorch]\"/\"3. 이미지 분석으로 배우는 tensorflow 2.0과 Pytorch\"/\"3. dataset\"/cifar.zip\n"
      ],
      "execution_count": 3,
      "outputs": []
    },
    {
      "cell_type": "code",
      "metadata": {
        "id": "8v2qtVjKJsyo",
        "colab_type": "code",
        "colab": {
          "base_uri": "https://localhost:8080/",
          "height": 37
        },
        "outputId": "c57f412d-d3b5-4e70-a257-679b9ee88a7c"
      },
      "source": [
        "data_paths=glob('/content/cifar/train/*.png')\n",
        "data_paths.sort()\n",
        "data_paths[0]"
      ],
      "execution_count": 5,
      "outputs": [
        {
          "output_type": "execute_result",
          "data": {
            "application/vnd.google.colaboratory.intrinsic+json": {
              "type": "string"
            },
            "text/plain": [
              "'/content/cifar/train/0_frog.png'"
            ]
          },
          "metadata": {
            "tags": []
          },
          "execution_count": 5
        }
      ]
    },
    {
      "cell_type": "code",
      "metadata": {
        "id": "i4CcZna8KZgY",
        "colab_type": "code",
        "colab": {
          "base_uri": "https://localhost:8080/",
          "height": 37
        },
        "outputId": "b24fc8a1-05da-414c-ca9a-231e65a83446"
      },
      "source": [
        "path = data_paths[0]\n",
        "path"
      ],
      "execution_count": 8,
      "outputs": [
        {
          "output_type": "execute_result",
          "data": {
            "application/vnd.google.colaboratory.intrinsic+json": {
              "type": "string"
            },
            "text/plain": [
              "'/content/cifar/train/0_frog.png'"
            ]
          },
          "metadata": {
            "tags": []
          },
          "execution_count": 8
        }
      ]
    },
    {
      "cell_type": "code",
      "metadata": {
        "id": "_zBQLTulJsyt",
        "colab_type": "code",
        "colab": {}
      },
      "source": [
        "gfile = tf.io.read_file(path)\n",
        "image = tf.io.decode_image(gfile)"
      ],
      "execution_count": 9,
      "outputs": []
    },
    {
      "cell_type": "code",
      "metadata": {
        "id": "exXdQ2j0Jsyx",
        "colab_type": "code",
        "colab": {
          "base_uri": "https://localhost:8080/",
          "height": 34
        },
        "outputId": "45287592-d070-427f-e490-fc2d2a1019de"
      },
      "source": [
        "image.shape"
      ],
      "execution_count": 10,
      "outputs": [
        {
          "output_type": "execute_result",
          "data": {
            "text/plain": [
              "TensorShape([32, 32, 3])"
            ]
          },
          "metadata": {
            "tags": []
          },
          "execution_count": 10
        }
      ]
    },
    {
      "cell_type": "code",
      "metadata": {
        "id": "fJ2KgmdEJsy0",
        "colab_type": "code",
        "colab": {
          "base_uri": "https://localhost:8080/",
          "height": 281
        },
        "outputId": "87012307-28da-4ca6-d2e3-44519c70fa13"
      },
      "source": [
        "plt.title(os.path.basename(path))\n",
        "plt.imshow(image)\n",
        "plt.show()"
      ],
      "execution_count": 12,
      "outputs": [
        {
          "output_type": "display_data",
          "data": {
            "image/png": "[encoded data removed]",
            "text/plain": [
              "<Figure size 432x288 with 1 Axes>"
            ]
          },
          "metadata": {
            "tags": [],
            "needs_background": "light"
          }
        }
      ]
    },
    {
      "cell_type": "markdown",
      "metadata": {
        "id": "q_5HQ5JXJsy3",
        "colab_type": "text"
      },
      "source": [
        "# tf.data"
      ]
    },
    {
      "cell_type": "code",
      "metadata": {
        "id": "gd8TKu4nJsy3",
        "colab_type": "code",
        "colab": {
          "base_uri": "https://localhost:8080/",
          "height": 187
        },
        "outputId": "ffe3ab93-903d-46c8-b966-e93b6a833140"
      },
      "source": [
        "data_paths[:10]"
      ],
      "execution_count": 13,
      "outputs": [
        {
          "output_type": "execute_result",
          "data": {
            "text/plain": [
              "['/content/cifar/train/0_frog.png',\n",
              " '/content/cifar/train/10000_automobile.png',\n",
              " '/content/cifar/train/10001_frog.png',\n",
              " '/content/cifar/train/10002_frog.png',\n",
              " '/content/cifar/train/10003_ship.png',\n",
              " '/content/cifar/train/10004_ship.png',\n",
              " '/content/cifar/train/10005_cat.png',\n",
              " '/content/cifar/train/10006_deer.png',\n",
              " '/content/cifar/train/10007_frog.png',\n",
              " '/content/cifar/train/10008_airplane.png']"
            ]
          },
          "metadata": {
            "tags": []
          },
          "execution_count": 13
        }
      ]
    },
    {
      "cell_type": "code",
      "metadata": {
        "id": "KT1EbBRuJsy5",
        "colab_type": "code",
        "colab": {}
      },
      "source": [
        "def read_image(path):\n",
        "    gfile = tf.io.read_file(path)\n",
        "    image = tf.io.decode_image(gfile, dtype=tf.float32)\n",
        "    return image"
      ],
      "execution_count": 14,
      "outputs": []
    },
    {
      "cell_type": "code",
      "metadata": {
        "id": "DgU--f5YJsy9",
        "colab_type": "code",
        "colab": {}
      },
      "source": [
        "  dataset = tf.data.Dataset.from_tensor_slices(data_paths)\n",
        "  dataset = dataset.map(read_image)"
      ],
      "execution_count": 15,
      "outputs": []
    },
    {
      "cell_type": "code",
      "metadata": {
        "id": "fyxHSxt2Jsy_",
        "colab_type": "code",
        "colab": {
          "base_uri": "https://localhost:8080/",
          "height": 34
        },
        "outputId": "97646b0d-5d60-4f4f-c547-49cf3e4e5437"
      },
      "source": [
        "tf_image = next(iter(dataset))\n",
        "tf_image.shape"
      ],
      "execution_count": 16,
      "outputs": [
        {
          "output_type": "execute_result",
          "data": {
            "text/plain": [
              "TensorShape([32, 32, 3])"
            ]
          },
          "metadata": {
            "tags": []
          },
          "execution_count": 16
        }
      ]
    },
    {
      "cell_type": "code",
      "metadata": {
        "id": "FCc1JY47JszA",
        "colab_type": "code",
        "colab": {
          "base_uri": "https://localhost:8080/",
          "height": 266
        },
        "outputId": "f27c50fe-919b-4e9c-9f5c-963df2eef199"
      },
      "source": [
        "plt.imshow(tf_image)\n",
        "plt.show()"
      ],
      "execution_count": 18,
      "outputs": [
        {
          "output_type": "display_data",
          "data": {
            "image/png": "[encoded data removed]",
            "text/plain": [
              "<Figure size 432x288 with 1 Axes>"
            ]
          },
          "metadata": {
            "tags": [],
            "needs_background": "light"
          }
        }
      ]
    },
    {
      "cell_type": "markdown",
      "metadata": {
        "id": "Noixq_xhJszC",
        "colab_type": "text"
      },
      "source": [
        "## Batch로 묶기"
      ]
    },
    {
      "cell_type": "code",
      "metadata": {
        "id": "7YgpGXGoLr7y",
        "colab_type": "code",
        "colab": {}
      },
      "source": [
        "batch_size=8"
      ],
      "execution_count": 20,
      "outputs": []
    },
    {
      "cell_type": "code",
      "metadata": {
        "id": "UEp23ZqcLryw",
        "colab_type": "code",
        "colab": {}
      },
      "source": [
        "dataset = tf.data.Dataset.from_tensor_slices(data_paths)\n",
        "dataset = dataset.map(read_image)\n",
        "dataset = dataset.batch(batch_size)"
      ],
      "execution_count": 22,
      "outputs": []
    },
    {
      "cell_type": "code",
      "metadata": {
        "id": "C5xBgKOvLrxw",
        "colab_type": "code",
        "colab": {}
      },
      "source": [
        "tf_image = next(iter(dataset))"
      ],
      "execution_count": 23,
      "outputs": []
    },
    {
      "cell_type": "code",
      "metadata": {
        "id": "kGDK5B-kLrpL",
        "colab_type": "code",
        "colab": {
          "base_uri": "https://localhost:8080/",
          "height": 34
        },
        "outputId": "bdf2a490-1c65-4b1c-fc04-77910ebb6cbf"
      },
      "source": [
        "tf_image.shape"
      ],
      "execution_count": 25,
      "outputs": [
        {
          "output_type": "execute_result",
          "data": {
            "text/plain": [
              "TensorShape([8, 32, 32, 3])"
            ]
          },
          "metadata": {
            "tags": []
          },
          "execution_count": 25
        }
      ]
    },
    {
      "cell_type": "code",
      "metadata": {
        "id": "1X1ulPzTJszF",
        "colab_type": "code",
        "colab": {
          "base_uri": "https://localhost:8080/",
          "height": 266
        },
        "outputId": "a911d045-9535-48fc-f731-2b479d1c3b65"
      },
      "source": [
        "plt.imshow(tf_image[4])\n",
        "plt.show()"
      ],
      "execution_count": 27,
      "outputs": [
        {
          "output_type": "display_data",
          "data": {
            "image/png": "[encoded data removed]",
            "text/plain": [
              "<Figure size 432x288 with 1 Axes>"
            ]
          },
          "metadata": {
            "tags": [],
            "needs_background": "light"
          }
        }
      ]
    },
    {
      "cell_type": "markdown",
      "metadata": {
        "id": "HHgx-bjsJszG",
        "colab_type": "text"
      },
      "source": [
        "## Shuffle 하기"
      ]
    },
    {
      "cell_type": "code",
      "metadata": {
        "id": "MghWMEQoJszG",
        "colab_type": "code",
        "colab": {}
      },
      "source": [
        "dataset = tf.data.Dataset.from_tensor_slices(data_paths)\n",
        "dataset = dataset.map(read_image)\n",
        "dataset = dataset.batch(batch_size)\n",
        "dataset = dataset.shuffle(buffer_size=len(data_paths))"
      ],
      "execution_count": 31,
      "outputs": []
    },
    {
      "cell_type": "code",
      "metadata": {
        "id": "JfS8K2g8JszI",
        "colab_type": "code",
        "colab": {
          "base_uri": "https://localhost:8080/",
          "height": 266
        },
        "outputId": "6c40073f-ddef-4200-923d-6b60faa35226"
      },
      "source": [
        "tf_images = next(iter(dataset))\n",
        "plt.imshow(tf_images[0])\n",
        "plt.show()"
      ],
      "execution_count": 32,
      "outputs": [
        {
          "output_type": "display_data",
          "data": {
            "image/png": "[encoded data removed]",
            "text/plain": [
              "<Figure size 432x288 with 1 Axes>"
            ]
          },
          "metadata": {
            "tags": [],
            "needs_background": "light"
          }
        }
      ]
    },
    {
      "cell_type": "markdown",
      "metadata": {
        "id": "AseqlxoPJszJ",
        "colab_type": "text"
      },
      "source": [
        "## Label하고 같이 넣기 "
      ]
    },
    {
      "cell_type": "code",
      "metadata": {
        "id": "Qp2y66M-M89Q",
        "colab_type": "code",
        "colab": {
          "base_uri": "https://localhost:8080/",
          "height": 37
        },
        "outputId": "2f9f7d4e-2111-4d1e-d610-d07aef4854c5"
      },
      "source": [
        "path"
      ],
      "execution_count": 33,
      "outputs": [
        {
          "output_type": "execute_result",
          "data": {
            "application/vnd.google.colaboratory.intrinsic+json": {
              "type": "string"
            },
            "text/plain": [
              "'/content/cifar/train/0_frog.png'"
            ]
          },
          "metadata": {
            "tags": []
          },
          "execution_count": 33
        }
      ]
    },
    {
      "cell_type": "code",
      "metadata": {
        "id": "7yicc8DbM82q",
        "colab_type": "code",
        "colab": {
          "base_uri": "https://localhost:8080/",
          "height": 37
        },
        "outputId": "cb16ecad-1c98-4942-fb17-d8d04f4b72ad"
      },
      "source": [
        "class_name = path.split('_')[-1].replace('.png','')\n",
        "class_name"
      ],
      "execution_count": 34,
      "outputs": [
        {
          "output_type": "execute_result",
          "data": {
            "application/vnd.google.colaboratory.intrinsic+json": {
              "type": "string"
            },
            "text/plain": [
              "'frog'"
            ]
          },
          "metadata": {
            "tags": []
          },
          "execution_count": 34
        }
      ]
    },
    {
      "cell_type": "code",
      "metadata": {
        "id": "D4f-EVT4M8tj",
        "colab_type": "code",
        "colab": {}
      },
      "source": [
        "def get_label(path):\n",
        "  return path.split('_')[-1].replace('.png','')"
      ],
      "execution_count": 35,
      "outputs": []
    },
    {
      "cell_type": "code",
      "metadata": {
        "id": "3wY4mERTNOhb",
        "colab_type": "code",
        "colab": {
          "base_uri": "https://localhost:8080/",
          "height": 34
        },
        "outputId": "56e49ec0-6f83-4c6f-f289-96570b17e8a7"
      },
      "source": [
        "path, get_label(path)"
      ],
      "execution_count": 36,
      "outputs": [
        {
          "output_type": "execute_result",
          "data": {
            "text/plain": [
              "('/content/cifar/train/0_frog.png', 'frog')"
            ]
          },
          "metadata": {
            "tags": []
          },
          "execution_count": 36
        }
      ]
    },
    {
      "cell_type": "code",
      "metadata": {
        "id": "blhJ2OLYNObI",
        "colab_type": "code",
        "colab": {}
      },
      "source": [
        "label_names = [get_label(path) for path in data_paths]"
      ],
      "execution_count": 37,
      "outputs": []
    },
    {
      "cell_type": "code",
      "metadata": {
        "id": "M9-lUUh0NSAo",
        "colab_type": "code",
        "colab": {
          "base_uri": "https://localhost:8080/",
          "height": 187
        },
        "outputId": "15981f09-0c3c-447b-e138-dcbcc2abe5f5"
      },
      "source": [
        "label_names[:10]"
      ],
      "execution_count": 38,
      "outputs": [
        {
          "output_type": "execute_result",
          "data": {
            "text/plain": [
              "['frog',\n",
              " 'automobile',\n",
              " 'frog',\n",
              " 'frog',\n",
              " 'ship',\n",
              " 'ship',\n",
              " 'cat',\n",
              " 'deer',\n",
              " 'frog',\n",
              " 'airplane']"
            ]
          },
          "metadata": {
            "tags": []
          },
          "execution_count": 38
        }
      ]
    },
    {
      "cell_type": "code",
      "metadata": {
        "id": "EvUmv7ckNR0G",
        "colab_type": "code",
        "colab": {
          "base_uri": "https://localhost:8080/",
          "height": 51
        },
        "outputId": "cd2778c9-6796-482b-e0db-6c098c4ce640"
      },
      "source": [
        "class_names = np.unique(label_names)\n",
        "class_names"
      ],
      "execution_count": 39,
      "outputs": [
        {
          "output_type": "execute_result",
          "data": {
            "text/plain": [
              "array(['airplane', 'automobile', 'bird', 'cat', 'deer', 'dog', 'frog',\n",
              "       'horse', 'ship', 'truck'], dtype='<U10')"
            ]
          },
          "metadata": {
            "tags": []
          },
          "execution_count": 39
        }
      ]
    },
    {
      "cell_type": "code",
      "metadata": {
        "id": "BPY2sabqNRfW",
        "colab_type": "code",
        "colab": {
          "base_uri": "https://localhost:8080/",
          "height": 51
        },
        "outputId": "9c0f473d-7165-4751-b4b0-f15226ea069b"
      },
      "source": [
        "# 원핫인코딩 개념\n",
        "class_names == 'frog'"
      ],
      "execution_count": 40,
      "outputs": [
        {
          "output_type": "execute_result",
          "data": {
            "text/plain": [
              "array([False, False, False, False, False, False,  True, False, False,\n",
              "       False])"
            ]
          },
          "metadata": {
            "tags": []
          },
          "execution_count": 40
        }
      ]
    },
    {
      "cell_type": "code",
      "metadata": {
        "id": "jpswRK6tNuJN",
        "colab_type": "code",
        "colab": {
          "base_uri": "https://localhost:8080/",
          "height": 34
        },
        "outputId": "1d1596e4-2c64-4da2-ac7c-0153f68f14b1"
      },
      "source": [
        "# 원핫인코딩 테스트\n",
        "onehot_encoding = np.array(class_names == 'frog', np.uint8)\n",
        "onehot_encoding"
      ],
      "execution_count": 42,
      "outputs": [
        {
          "output_type": "execute_result",
          "data": {
            "text/plain": [
              "array([0, 0, 0, 0, 0, 0, 1, 0, 0, 0], dtype=uint8)"
            ]
          },
          "metadata": {
            "tags": []
          },
          "execution_count": 42
        }
      ]
    },
    {
      "cell_type": "code",
      "metadata": {
        "id": "W3rkdhJFNuAJ",
        "colab_type": "code",
        "colab": {}
      },
      "source": [
        "# 원핫 인코딩 함수로 구현.\n",
        "def onehot_encoding(label):\n",
        "  return np.array(class_names == label, np.uint8)"
      ],
      "execution_count": 43,
      "outputs": []
    },
    {
      "cell_type": "code",
      "metadata": {
        "id": "CjfBy8UDO5zC",
        "colab_type": "code",
        "colab": {
          "base_uri": "https://localhost:8080/",
          "height": 187
        },
        "outputId": "e3a4121f-93b6-4b13-8118-f9707bd27a16"
      },
      "source": [
        "data_paths[:10]"
      ],
      "execution_count": 44,
      "outputs": [
        {
          "output_type": "execute_result",
          "data": {
            "text/plain": [
              "['/content/cifar/train/0_frog.png',\n",
              " '/content/cifar/train/10000_automobile.png',\n",
              " '/content/cifar/train/10001_frog.png',\n",
              " '/content/cifar/train/10002_frog.png',\n",
              " '/content/cifar/train/10003_ship.png',\n",
              " '/content/cifar/train/10004_ship.png',\n",
              " '/content/cifar/train/10005_cat.png',\n",
              " '/content/cifar/train/10006_deer.png',\n",
              " '/content/cifar/train/10007_frog.png',\n",
              " '/content/cifar/train/10008_airplane.png']"
            ]
          },
          "metadata": {
            "tags": []
          },
          "execution_count": 44
        }
      ]
    },
    {
      "cell_type": "code",
      "metadata": {
        "id": "ifW6HkPpO8N8",
        "colab_type": "code",
        "colab": {
          "base_uri": "https://localhost:8080/",
          "height": 187
        },
        "outputId": "2d6b9bf3-0e1e-48aa-9df3-38ebe30af5dc"
      },
      "source": [
        "label_names[:10]"
      ],
      "execution_count": 45,
      "outputs": [
        {
          "output_type": "execute_result",
          "data": {
            "text/plain": [
              "['frog',\n",
              " 'automobile',\n",
              " 'frog',\n",
              " 'frog',\n",
              " 'ship',\n",
              " 'ship',\n",
              " 'cat',\n",
              " 'deer',\n",
              " 'frog',\n",
              " 'airplane']"
            ]
          },
          "metadata": {
            "tags": []
          },
          "execution_count": 45
        }
      ]
    },
    {
      "cell_type": "code",
      "metadata": {
        "id": "xIOnVfjcOyLY",
        "colab_type": "code",
        "colab": {}
      },
      "source": [
        "# 인자를 2개 받을 수 있는 read_image_label 함수 생성\n",
        "def read_image_label(path, label):\n",
        "  gfile = tf.io.read_file(path)\n",
        "  image = tf.io.decode_image(gfile)\n",
        "  return image, label"
      ],
      "execution_count": 47,
      "outputs": []
    },
    {
      "cell_type": "code",
      "metadata": {
        "id": "DsVad-nBOyBY",
        "colab_type": "code",
        "colab": {}
      },
      "source": [
        "dataset = tf.data.Dataset.from_tensor_slices((data_paths, label_names)) # 인자 1 : 경로, 인자 2 : 라벨\n",
        "dataset = dataset.map(read_image_label) # 인자가 2개이므로 2개 받을 수 있는 함수 필요\n",
        "dataset = dataset.batch(batch_size)\n",
        "dataset = dataset.repeat()"
      ],
      "execution_count": 49,
      "outputs": []
    },
    {
      "cell_type": "code",
      "metadata": {
        "id": "L3gx4PkYP4D7",
        "colab_type": "code",
        "colab": {}
      },
      "source": [
        "image, label = next(iter(dataset))"
      ],
      "execution_count": 50,
      "outputs": []
    },
    {
      "cell_type": "code",
      "metadata": {
        "id": "_Pyh_0qWP39b",
        "colab_type": "code",
        "colab": {
          "base_uri": "https://localhost:8080/",
          "height": 34
        },
        "outputId": "82abe251-277b-47b7-9f77-9a4511e636cc"
      },
      "source": [
        "image.shape, label.shape"
      ],
      "execution_count": 51,
      "outputs": [
        {
          "output_type": "execute_result",
          "data": {
            "text/plain": [
              "(TensorShape([8, 32, 32, 3]), TensorShape([8]))"
            ]
          },
          "metadata": {
            "tags": []
          },
          "execution_count": 51
        }
      ]
    },
    {
      "cell_type": "code",
      "metadata": {
        "id": "YJ6zDUTSP31p",
        "colab_type": "code",
        "colab": {
          "base_uri": "https://localhost:8080/",
          "height": 34
        },
        "outputId": "e6303880-649a-409f-bb95-9d3cdcf69c22"
      },
      "source": [
        "label[0]"
      ],
      "execution_count": 52,
      "outputs": [
        {
          "output_type": "execute_result",
          "data": {
            "text/plain": [
              "<tf.Tensor: shape=(), dtype=string, numpy=b'frog'>"
            ]
          },
          "metadata": {
            "tags": []
          },
          "execution_count": 52
        }
      ]
    },
    {
      "cell_type": "code",
      "metadata": {
        "id": "CmWUbOzFQT3S",
        "colab_type": "code",
        "colab": {
          "base_uri": "https://localhost:8080/",
          "height": 281
        },
        "outputId": "9b155ed6-ca2e-4301-d972-098281d77ff5"
      },
      "source": [
        "plt.imshow(image[0])\n",
        "plt.title(np.array(label[0]))\n",
        "plt.show()"
      ],
      "execution_count": 53,
      "outputs": [
        {
          "output_type": "display_data",
          "data": {
            "image/png": "[encoded data removed]",
            "text/plain": [
              "<Figure size 432x288 with 1 Axes>"
            ]
          },
          "metadata": {
            "tags": [],
            "needs_background": "light"
          }
        }
      ]
    },
    {
      "cell_type": "markdown",
      "metadata": {
        "id": "04MzcmiwJsza",
        "colab_type": "text"
      },
      "source": [
        "## tensorflow 함수로 label 얻기"
      ]
    },
    {
      "cell_type": "code",
      "metadata": {
        "id": "ruxLUmR_Jszi",
        "colab_type": "code",
        "colab": {
          "base_uri": "https://localhost:8080/",
          "height": 37
        },
        "outputId": "b6576648-ee24-4887-d523-86e852b2e8fa"
      },
      "source": [
        "path"
      ],
      "execution_count": 54,
      "outputs": [
        {
          "output_type": "execute_result",
          "data": {
            "application/vnd.google.colaboratory.intrinsic+json": {
              "type": "string"
            },
            "text/plain": [
              "'/content/cifar/train/0_frog.png'"
            ]
          },
          "metadata": {
            "tags": []
          },
          "execution_count": 54
        }
      ]
    },
    {
      "cell_type": "code",
      "metadata": {
        "id": "Foxyv8uETEze",
        "colab_type": "code",
        "colab": {
          "base_uri": "https://localhost:8080/",
          "height": 34
        },
        "outputId": "bf32d495-70d0-48ad-af60-32e16deec88e"
      },
      "source": [
        "fname = tf.strings.split(path, '_')[-1]\n",
        "fname"
      ],
      "execution_count": 59,
      "outputs": [
        {
          "output_type": "execute_result",
          "data": {
            "text/plain": [
              "<tf.Tensor: shape=(), dtype=string, numpy=b'frog.png'>"
            ]
          },
          "metadata": {
            "tags": []
          },
          "execution_count": 59
        }
      ]
    },
    {
      "cell_type": "code",
      "metadata": {
        "id": "2qzZAAdiTLME",
        "colab_type": "code",
        "colab": {
          "base_uri": "https://localhost:8080/",
          "height": 34
        },
        "outputId": "1c5f53a0-7784-4614-844f-8142d420ba7b"
      },
      "source": [
        "cls_name = tf.strings.regex_replace(fname, '.png', '')\n",
        "cls_name"
      ],
      "execution_count": 61,
      "outputs": [
        {
          "output_type": "execute_result",
          "data": {
            "text/plain": [
              "<tf.Tensor: shape=(), dtype=string, numpy=b'frog'>"
            ]
          },
          "metadata": {
            "tags": []
          },
          "execution_count": 61
        }
      ]
    },
    {
      "cell_type": "code",
      "metadata": {
        "id": "JndvFGTATfej",
        "colab_type": "code",
        "colab": {
          "base_uri": "https://localhost:8080/",
          "height": 51
        },
        "outputId": "8eb0e63e-d040-4345-8c99-b5f1c40dd6f1"
      },
      "source": [
        "class_names"
      ],
      "execution_count": 62,
      "outputs": [
        {
          "output_type": "execute_result",
          "data": {
            "text/plain": [
              "array(['airplane', 'automobile', 'bird', 'cat', 'deer', 'dog', 'frog',\n",
              "       'horse', 'ship', 'truck'], dtype='<U10')"
            ]
          },
          "metadata": {
            "tags": []
          },
          "execution_count": 62
        }
      ]
    },
    {
      "cell_type": "code",
      "metadata": {
        "id": "TeQgs4apTjj9",
        "colab_type": "code",
        "colab": {
          "base_uri": "https://localhost:8080/",
          "height": 68
        },
        "outputId": "dfc64f8c-3eb0-40ec-fed7-aaa0d418280f"
      },
      "source": [
        "class_names == cls_name"
      ],
      "execution_count": 66,
      "outputs": [
        {
          "output_type": "execute_result",
          "data": {
            "text/plain": [
              "<tf.Tensor: shape=(10,), dtype=bool, numpy=\n",
              "array([False, False, False, False, False, False,  True, False, False,\n",
              "       False])>"
            ]
          },
          "metadata": {
            "tags": []
          },
          "execution_count": 66
        }
      ]
    },
    {
      "cell_type": "code",
      "metadata": {
        "id": "NE8UBoR0Tn9e",
        "colab_type": "code",
        "colab": {
          "base_uri": "https://localhost:8080/",
          "height": 34
        },
        "outputId": "43047b05-c4a4-4eae-87b2-dabd27ca280f"
      },
      "source": [
        "# tf.cast로 원핫인코딩 하는 방식\n",
        "onehot_encoding = tf.cast(class_names == cls_name, tf.uint8) #불린을 인티저로 변환\n",
        "onehot_encoding"
      ],
      "execution_count": 67,
      "outputs": [
        {
          "output_type": "execute_result",
          "data": {
            "text/plain": [
              "<tf.Tensor: shape=(10,), dtype=uint8, numpy=array([0, 0, 0, 0, 0, 0, 1, 0, 0, 0], dtype=uint8)>"
            ]
          },
          "metadata": {
            "tags": []
          },
          "execution_count": 67
        }
      ]
    },
    {
      "cell_type": "code",
      "metadata": {
        "id": "h-X-ZJZDUFsY",
        "colab_type": "code",
        "colab": {}
      },
      "source": [
        "# 위 과정을 함수로 정리해보자.\n",
        "def get_label(path):\n",
        "  fname = tf.strings.split(path, '_')[-1]\n",
        "  cls_name = tf.strings.regex_replace(fname, '.png', '')\n",
        "  onehot_encoding = tf.cast(class_names == cls_name, tf.uint8)\n",
        "  return onehot_encoding"
      ],
      "execution_count": 68,
      "outputs": []
    },
    {
      "cell_type": "code",
      "metadata": {
        "id": "8fXc6dd4UfsD",
        "colab_type": "code",
        "colab": {}
      },
      "source": [
        "def read_image_label(path): # 인자는 하나\n",
        "  # read image\n",
        "  gfile = tf.io.read_file(path)\n",
        "  image = tf.io.decode_image(gfile)\n",
        "\n",
        "  # get label\n",
        "  label = get_label(path)\n",
        "\n",
        "  return image, label # 아웃풋은 2"
      ],
      "execution_count": 70,
      "outputs": []
    },
    {
      "cell_type": "code",
      "metadata": {
        "id": "pgxxpm2WUq0b",
        "colab_type": "code",
        "colab": {}
      },
      "source": [
        "dataset = tf.data.Dataset.from_tensor_slices(data_paths) # 인자 하나\n",
        "dataset = dataset.map(read_image_label)\n",
        "dataset = dataset.batch(batch_size)\n",
        "dataset = dataset.repeat()"
      ],
      "execution_count": 71,
      "outputs": []
    },
    {
      "cell_type": "code",
      "metadata": {
        "id": "ldP2TcfLVq-f",
        "colab_type": "code",
        "colab": {}
      },
      "source": [
        "image, label = next(iter(dataset))"
      ],
      "execution_count": 72,
      "outputs": []
    },
    {
      "cell_type": "code",
      "metadata": {
        "id": "j6TMsly0ZStB",
        "colab_type": "code",
        "colab": {
          "base_uri": "https://localhost:8080/",
          "height": 34
        },
        "outputId": "601bf66b-6c5e-4e32-c217-c433049c2fc7"
      },
      "source": [
        "image.shape, label.shape"
      ],
      "execution_count": 73,
      "outputs": [
        {
          "output_type": "execute_result",
          "data": {
            "text/plain": [
              "(TensorShape([8, 32, 32, 3]), TensorShape([8, 10]))"
            ]
          },
          "metadata": {
            "tags": []
          },
          "execution_count": 73
        }
      ]
    },
    {
      "cell_type": "code",
      "metadata": {
        "id": "TqlKzmbZZVBZ",
        "colab_type": "code",
        "colab": {
          "base_uri": "https://localhost:8080/",
          "height": 34
        },
        "outputId": "d836b748-c4a3-4356-e82e-2f9367cd6c9a"
      },
      "source": [
        "label[0]"
      ],
      "execution_count": 74,
      "outputs": [
        {
          "output_type": "execute_result",
          "data": {
            "text/plain": [
              "<tf.Tensor: shape=(10,), dtype=uint8, numpy=array([0, 0, 0, 0, 0, 0, 1, 0, 0, 0], dtype=uint8)>"
            ]
          },
          "metadata": {
            "tags": []
          },
          "execution_count": 74
        }
      ]
    },
    {
      "cell_type": "code",
      "metadata": {
        "id": "m33Jhj7UZaAj",
        "colab_type": "code",
        "colab": {
          "base_uri": "https://localhost:8080/",
          "height": 335
        },
        "outputId": "5eb9dfd2-0fc1-451e-8f14-b2702846b868"
      },
      "source": [
        "plt.imshow(image[0])\n",
        "plt.title(np.array(label[0]))\n",
        "plt.show()"
      ],
      "execution_count": 75,
      "outputs": [
        {
          "output_type": "stream",
          "text": [
            "/usr/local/lib/python3.6/dist-packages/matplotlib/text.py:1165: FutureWarning: elementwise comparison failed; returning scalar instead, but in the future will perform elementwise comparison\n",
            "  if s != self._text:\n"
          ],
          "name": "stderr"
        },
        {
          "output_type": "display_data",
          "data": {
            "image/png": "[encoded data removed]",
            "text/plain": [
              "<Figure size 432x288 with 1 Axes>"
            ]
          },
          "metadata": {
            "tags": [],
            "needs_background": "light"
          }
        }
      ]
    },
    {
      "cell_type": "code",
      "metadata": {
        "id": "vWMcCBkmZgNh",
        "colab_type": "code",
        "colab": {}
      },
      "source": [
        ""
      ],
      "execution_count": null,
      "outputs": []
    }
  ]
}