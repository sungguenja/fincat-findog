{
  "nbformat": 4,
  "nbformat_minor": 0,
  "metadata": {
    "kernelspec": {
      "display_name": "Python 3",
      "language": "python",
      "name": "python3"
    },
    "language_info": {
      "codemirror_mode": {
        "name": "ipython",
        "version": 3
      },
      "file_extension": ".py",
      "mimetype": "text/x-python",
      "name": "python",
      "nbconvert_exporter": "python",
      "pygments_lexer": "ipython3",
      "version": "3.7.3"
    },
    "colab": {
      "name": "[검수완료]02. 데이터 준비하기 .ipynb",
      "provenance": [],
      "toc_visible": true
    },
    "widgets": {
      "application/vnd.jupyter.widget-state+json": {
        "8effd3d645494ec1a74802d3c22d0058": {
          "model_module": "@jupyter-widgets/controls",
          "model_name": "HBoxModel",
          "state": {
            "_view_name": "HBoxView",
            "_dom_classes": [],
            "_model_name": "HBoxModel",
            "_view_module": "@jupyter-widgets/controls",
            "_model_module_version": "1.5.0",
            "_view_count": null,
            "_view_module_version": "1.5.0",
            "box_style": "",
            "layout": "IPY_MODEL_e4f7032e245b4827a05788c1b9d319b3",
            "_model_module": "@jupyter-widgets/controls",
            "children": [
              "IPY_MODEL_3dab96a209d144d4829315de1fc8ad30",
              "IPY_MODEL_12dcc66aa7a14939ab9d5a7e3c1dac67"
            ]
          }
        },
        "e4f7032e245b4827a05788c1b9d319b3": {
          "model_module": "@jupyter-widgets/base",
          "model_name": "LayoutModel",
          "state": {
            "_view_name": "LayoutView",
            "grid_template_rows": null,
            "right": null,
            "justify_content": null,
            "_view_module": "@jupyter-widgets/base",
            "overflow": null,
            "_model_module_version": "1.2.0",
            "_view_count": null,
            "flex_flow": null,
            "width": null,
            "min_width": null,
            "border": null,
            "align_items": null,
            "bottom": null,
            "_model_module": "@jupyter-widgets/base",
            "top": null,
            "grid_column": null,
            "overflow_y": null,
            "overflow_x": null,
            "grid_auto_flow": null,
            "grid_area": null,
            "grid_template_columns": null,
            "flex": null,
            "_model_name": "LayoutModel",
            "justify_items": null,
            "grid_row": null,
            "max_height": null,
            "align_content": null,
            "visibility": null,
            "align_self": null,
            "height": null,
            "min_height": null,
            "padding": null,
            "grid_auto_rows": null,
            "grid_gap": null,
            "max_width": null,
            "order": null,
            "_view_module_version": "1.2.0",
            "grid_template_areas": null,
            "object_position": null,
            "object_fit": null,
            "grid_auto_columns": null,
            "margin": null,
            "display": null,
            "left": null
          }
        },
        "3dab96a209d144d4829315de1fc8ad30": {
          "model_module": "@jupyter-widgets/controls",
          "model_name": "FloatProgressModel",
          "state": {
            "_view_name": "ProgressView",
            "style": "IPY_MODEL_c505b84615fa455fae08c24ac2232f26",
            "_dom_classes": [],
            "description": "100%",
            "_model_name": "FloatProgressModel",
            "bar_style": "success",
            "max": 60000,
            "_view_module": "@jupyter-widgets/controls",
            "_model_module_version": "1.5.0",
            "value": 60000,
            "_view_count": null,
            "_view_module_version": "1.5.0",
            "orientation": "horizontal",
            "min": 0,
            "description_tooltip": null,
            "_model_module": "@jupyter-widgets/controls",
            "layout": "IPY_MODEL_b99f69134adc4108922110bfcc92d4f6"
          }
        },
        "12dcc66aa7a14939ab9d5a7e3c1dac67": {
          "model_module": "@jupyter-widgets/controls",
          "model_name": "HTMLModel",
          "state": {
            "_view_name": "HTMLView",
            "style": "IPY_MODEL_51603f0bdbba444cb465b219e396ed06",
            "_dom_classes": [],
            "description": "",
            "_model_name": "HTMLModel",
            "placeholder": "​",
            "_view_module": "@jupyter-widgets/controls",
            "_model_module_version": "1.5.0",
            "value": " 60000/60000 [00:04&lt;00:00, 12379.79it/s]",
            "_view_count": null,
            "_view_module_version": "1.5.0",
            "description_tooltip": null,
            "_model_module": "@jupyter-widgets/controls",
            "layout": "IPY_MODEL_fd029783d5794c30a4e2887c6a7ca949"
          }
        },
        "c505b84615fa455fae08c24ac2232f26": {
          "model_module": "@jupyter-widgets/controls",
          "model_name": "ProgressStyleModel",
          "state": {
            "_view_name": "StyleView",
            "_model_name": "ProgressStyleModel",
            "description_width": "initial",
            "_view_module": "@jupyter-widgets/base",
            "_model_module_version": "1.5.0",
            "_view_count": null,
            "_view_module_version": "1.2.0",
            "bar_color": null,
            "_model_module": "@jupyter-widgets/controls"
          }
        },
        "b99f69134adc4108922110bfcc92d4f6": {
          "model_module": "@jupyter-widgets/base",
          "model_name": "LayoutModel",
          "state": {
            "_view_name": "LayoutView",
            "grid_template_rows": null,
            "right": null,
            "justify_content": null,
            "_view_module": "@jupyter-widgets/base",
            "overflow": null,
            "_model_module_version": "1.2.0",
            "_view_count": null,
            "flex_flow": null,
            "width": null,
            "min_width": null,
            "border": null,
            "align_items": null,
            "bottom": null,
            "_model_module": "@jupyter-widgets/base",
            "top": null,
            "grid_column": null,
            "overflow_y": null,
            "overflow_x": null,
            "grid_auto_flow": null,
            "grid_area": null,
            "grid_template_columns": null,
            "flex": null,
            "_model_name": "LayoutModel",
            "justify_items": null,
            "grid_row": null,
            "max_height": null,
            "align_content": null,
            "visibility": null,
            "align_self": null,
            "height": null,
            "min_height": null,
            "padding": null,
            "grid_auto_rows": null,
            "grid_gap": null,
            "max_width": null,
            "order": null,
            "_view_module_version": "1.2.0",
            "grid_template_areas": null,
            "object_position": null,
            "object_fit": null,
            "grid_auto_columns": null,
            "margin": null,
            "display": null,
            "left": null
          }
        },
        "51603f0bdbba444cb465b219e396ed06": {
          "model_module": "@jupyter-widgets/controls",
          "model_name": "DescriptionStyleModel",
          "state": {
            "_view_name": "StyleView",
            "_model_name": "DescriptionStyleModel",
            "description_width": "",
            "_view_module": "@jupyter-widgets/base",
            "_model_module_version": "1.5.0",
            "_view_count": null,
            "_view_module_version": "1.2.0",
            "_model_module": "@jupyter-widgets/controls"
          }
        },
        "fd029783d5794c30a4e2887c6a7ca949": {
          "model_module": "@jupyter-widgets/base",
          "model_name": "LayoutModel",
          "state": {
            "_view_name": "LayoutView",
            "grid_template_rows": null,
            "right": null,
            "justify_content": null,
            "_view_module": "@jupyter-widgets/base",
            "overflow": null,
            "_model_module_version": "1.2.0",
            "_view_count": null,
            "flex_flow": null,
            "width": null,
            "min_width": null,
            "border": null,
            "align_items": null,
            "bottom": null,
            "_model_module": "@jupyter-widgets/base",
            "top": null,
            "grid_column": null,
            "overflow_y": null,
            "overflow_x": null,
            "grid_auto_flow": null,
            "grid_area": null,
            "grid_template_columns": null,
            "flex": null,
            "_model_name": "LayoutModel",
            "justify_items": null,
            "grid_row": null,
            "max_height": null,
            "align_content": null,
            "visibility": null,
            "align_self": null,
            "height": null,
            "min_height": null,
            "padding": null,
            "grid_auto_rows": null,
            "grid_gap": null,
            "max_width": null,
            "order": null,
            "_view_module_version": "1.2.0",
            "grid_template_areas": null,
            "object_position": null,
            "object_fit": null,
            "grid_auto_columns": null,
            "margin": null,
            "display": null,
            "left": null
          }
        }
      }
    }
  },
  "cells": [
    {
      "cell_type": "code",
      "metadata": {
        "id": "21nD6WmW_okI",
        "colab_type": "code",
        "colab": {
          "base_uri": "https://localhost:8080/",
          "height": 125
        },
        "outputId": "4b6e9219-8ef8-4319-b017-673661939120"
      },
      "source": [
        "from google.colab import drive\n",
        "drive.mount('/content/drive')"
      ],
      "execution_count": 1,
      "outputs": [
        {
          "output_type": "stream",
          "text": [
            "Go to this URL in a browser: https://accounts.google.com/o/oauth2/auth?client_id=947318989803-6bn6qk8qdgf4n4g3pfee6491hc0brc4i.apps.googleusercontent.com&redirect_uri=urn%3aietf%3awg%3aoauth%3a2.0%3aoob&response_type=code&scope=email%20https%3a%2f%2fwww.googleapis.com%2fauth%2fdocs.test%20https%3a%2f%2fwww.googleapis.com%2fauth%2fdrive%20https%3a%2f%2fwww.googleapis.com%2fauth%2fdrive.photos.readonly%20https%3a%2f%2fwww.googleapis.com%2fauth%2fpeopleapi.readonly\n",
            "\n",
            "Enter your authorization code:\n",
            "··········\n",
            "Mounted at /content/drive\n"
          ],
          "name": "stdout"
        }
      ]
    },
    {
      "cell_type": "code",
      "metadata": {
        "id": "t3w0f0ky_fgA",
        "colab_type": "code",
        "colab": {}
      },
      "source": [
        "import os\n",
        "from glob import glob\n",
        "\n",
        "import numpy as np\n",
        "\n",
        "import tensorflow as tf\n",
        "from PIL import Image\n",
        "\n",
        "import matplotlib.pyplot as plt\n",
        "%matplotlib inline"
      ],
      "execution_count": 2,
      "outputs": []
    },
    {
      "cell_type": "code",
      "metadata": {
        "id": "vjwPoZrU_fgF",
        "colab_type": "code",
        "colab": {}
      },
      "source": [
        "!unzip -qq /content/drive/My\\ Drive/'[AOP:딥러닝 인공지능]'/'TEST'/'1. [Tensorflow 2.0 과 Pytorch]'/'3. 이미지 분석으로 배우는 tensorflow 2.0과 Pytorch'/'3. dataset'/'mnist_png.zip'\n"
      ],
      "execution_count": 10,
      "outputs": []
    },
    {
      "cell_type": "code",
      "metadata": {
        "id": "vniJcpBwIL6P",
        "colab_type": "code",
        "colab": {
          "base_uri": "https://localhost:8080/",
          "height": 1000
        },
        "outputId": "2040b805-a523-4ade-8c6c-a979a6aba54a"
      },
      "source": [
        "glob('/content/mnist_png/training/0/*.png') #경로가 포함된 파일 이름을 리스트로 가져옴. 레이블 0에 속한 모든 이미지를 불러옵니다."
      ],
      "execution_count": 12,
      "outputs": [
        {
          "output_type": "execute_result",
          "data": {
            "text/plain": [
              "['/content/mnist_png/training/0/27841.png',\n",
              " '/content/mnist_png/training/0/52928.png',\n",
              " '/content/mnist_png/training/0/22364.png',\n",
              " '/content/mnist_png/training/0/4756.png',\n",
              " '/content/mnist_png/training/0/47957.png',\n",
              " '/content/mnist_png/training/0/46944.png',\n",
              " '/content/mnist_png/training/0/38411.png',\n",
              " '/content/mnist_png/training/0/53255.png',\n",
              " '/content/mnist_png/training/0/5905.png',\n",
              " '/content/mnist_png/training/0/26178.png',\n",
              " '/content/mnist_png/training/0/43727.png',\n",
              " '/content/mnist_png/training/0/6663.png',\n",
              " '/content/mnist_png/training/0/29074.png',\n",
              " '/content/mnist_png/training/0/15890.png',\n",
              " '/content/mnist_png/training/0/10488.png',\n",
              " '/content/mnist_png/training/0/46371.png',\n",
              " '/content/mnist_png/training/0/23589.png',\n",
              " '/content/mnist_png/training/0/47241.png',\n",
              " '/content/mnist_png/training/0/22757.png',\n",
              " '/content/mnist_png/training/0/45596.png',\n",
              " '/content/mnist_png/training/0/28946.png',\n",
              " '/content/mnist_png/training/0/21314.png',\n",
              " '/content/mnist_png/training/0/69.png',\n",
              " '/content/mnist_png/training/0/28895.png',\n",
              " '/content/mnist_png/training/0/12421.png',\n",
              " '/content/mnist_png/training/0/8021.png',\n",
              " '/content/mnist_png/training/0/9166.png',\n",
              " '/content/mnist_png/training/0/48729.png',\n",
              " '/content/mnist_png/training/0/38696.png',\n",
              " '/content/mnist_png/training/0/12325.png',\n",
              " '/content/mnist_png/training/0/4500.png',\n",
              " '/content/mnist_png/training/0/24085.png',\n",
              " '/content/mnist_png/training/0/29067.png',\n",
              " '/content/mnist_png/training/0/35157.png',\n",
              " '/content/mnist_png/training/0/39044.png',\n",
              " '/content/mnist_png/training/0/11019.png',\n",
              " '/content/mnist_png/training/0/45695.png',\n",
              " '/content/mnist_png/training/0/38744.png',\n",
              " '/content/mnist_png/training/0/25980.png',\n",
              " '/content/mnist_png/training/0/37510.png',\n",
              " '/content/mnist_png/training/0/9978.png',\n",
              " '/content/mnist_png/training/0/52021.png',\n",
              " '/content/mnist_png/training/0/9790.png',\n",
              " '/content/mnist_png/training/0/39119.png',\n",
              " '/content/mnist_png/training/0/28565.png',\n",
              " '/content/mnist_png/training/0/54985.png',\n",
              " '/content/mnist_png/training/0/22932.png',\n",
              " '/content/mnist_png/training/0/4288.png',\n",
              " '/content/mnist_png/training/0/14089.png',\n",
              " '/content/mnist_png/training/0/51818.png',\n",
              " '/content/mnist_png/training/0/59099.png',\n",
              " '/content/mnist_png/training/0/3049.png',\n",
              " '/content/mnist_png/training/0/32109.png',\n",
              " '/content/mnist_png/training/0/57027.png',\n",
              " '/content/mnist_png/training/0/6883.png',\n",
              " '/content/mnist_png/training/0/8912.png',\n",
              " '/content/mnist_png/training/0/37497.png',\n",
              " '/content/mnist_png/training/0/20225.png',\n",
              " '/content/mnist_png/training/0/35800.png',\n",
              " '/content/mnist_png/training/0/952.png',\n",
              " '/content/mnist_png/training/0/10859.png',\n",
              " '/content/mnist_png/training/0/6704.png',\n",
              " '/content/mnist_png/training/0/51148.png',\n",
              " '/content/mnist_png/training/0/18424.png',\n",
              " '/content/mnist_png/training/0/56512.png',\n",
              " '/content/mnist_png/training/0/48578.png',\n",
              " '/content/mnist_png/training/0/17693.png',\n",
              " '/content/mnist_png/training/0/49974.png',\n",
              " '/content/mnist_png/training/0/54272.png',\n",
              " '/content/mnist_png/training/0/18124.png',\n",
              " '/content/mnist_png/training/0/15700.png',\n",
              " '/content/mnist_png/training/0/41490.png',\n",
              " '/content/mnist_png/training/0/56454.png',\n",
              " '/content/mnist_png/training/0/30871.png',\n",
              " '/content/mnist_png/training/0/42131.png',\n",
              " '/content/mnist_png/training/0/48128.png',\n",
              " '/content/mnist_png/training/0/34244.png',\n",
              " '/content/mnist_png/training/0/10323.png',\n",
              " '/content/mnist_png/training/0/41338.png',\n",
              " '/content/mnist_png/training/0/8961.png',\n",
              " '/content/mnist_png/training/0/23627.png',\n",
              " '/content/mnist_png/training/0/25518.png',\n",
              " '/content/mnist_png/training/0/49535.png',\n",
              " '/content/mnist_png/training/0/42608.png',\n",
              " '/content/mnist_png/training/0/9963.png',\n",
              " '/content/mnist_png/training/0/30413.png',\n",
              " '/content/mnist_png/training/0/34273.png',\n",
              " '/content/mnist_png/training/0/45837.png',\n",
              " '/content/mnist_png/training/0/2955.png',\n",
              " '/content/mnist_png/training/0/39224.png',\n",
              " '/content/mnist_png/training/0/11231.png',\n",
              " '/content/mnist_png/training/0/42053.png',\n",
              " '/content/mnist_png/training/0/4389.png',\n",
              " '/content/mnist_png/training/0/38865.png',\n",
              " '/content/mnist_png/training/0/17108.png',\n",
              " '/content/mnist_png/training/0/43701.png',\n",
              " '/content/mnist_png/training/0/16868.png',\n",
              " '/content/mnist_png/training/0/23104.png',\n",
              " '/content/mnist_png/training/0/18590.png',\n",
              " '/content/mnist_png/training/0/28965.png',\n",
              " '/content/mnist_png/training/0/1857.png',\n",
              " '/content/mnist_png/training/0/52154.png',\n",
              " '/content/mnist_png/training/0/49601.png',\n",
              " '/content/mnist_png/training/0/33904.png',\n",
              " '/content/mnist_png/training/0/16439.png',\n",
              " '/content/mnist_png/training/0/47267.png',\n",
              " '/content/mnist_png/training/0/32144.png',\n",
              " '/content/mnist_png/training/0/2473.png',\n",
              " '/content/mnist_png/training/0/32541.png',\n",
              " '/content/mnist_png/training/0/18603.png',\n",
              " '/content/mnist_png/training/0/17761.png',\n",
              " '/content/mnist_png/training/0/23971.png',\n",
              " '/content/mnist_png/training/0/38926.png',\n",
              " '/content/mnist_png/training/0/35816.png',\n",
              " '/content/mnist_png/training/0/2904.png',\n",
              " '/content/mnist_png/training/0/23809.png',\n",
              " '/content/mnist_png/training/0/52817.png',\n",
              " '/content/mnist_png/training/0/54608.png',\n",
              " '/content/mnist_png/training/0/4455.png',\n",
              " '/content/mnist_png/training/0/53897.png',\n",
              " '/content/mnist_png/training/0/20843.png',\n",
              " '/content/mnist_png/training/0/36975.png',\n",
              " '/content/mnist_png/training/0/16178.png',\n",
              " '/content/mnist_png/training/0/29895.png',\n",
              " '/content/mnist_png/training/0/19012.png',\n",
              " '/content/mnist_png/training/0/59472.png',\n",
              " '/content/mnist_png/training/0/33843.png',\n",
              " '/content/mnist_png/training/0/46726.png',\n",
              " '/content/mnist_png/training/0/51831.png',\n",
              " '/content/mnist_png/training/0/55095.png',\n",
              " '/content/mnist_png/training/0/1927.png',\n",
              " '/content/mnist_png/training/0/10221.png',\n",
              " '/content/mnist_png/training/0/15559.png',\n",
              " '/content/mnist_png/training/0/26731.png',\n",
              " '/content/mnist_png/training/0/51167.png',\n",
              " '/content/mnist_png/training/0/48295.png',\n",
              " '/content/mnist_png/training/0/51520.png',\n",
              " '/content/mnist_png/training/0/37158.png',\n",
              " '/content/mnist_png/training/0/47756.png',\n",
              " '/content/mnist_png/training/0/52126.png',\n",
              " '/content/mnist_png/training/0/59197.png',\n",
              " '/content/mnist_png/training/0/3693.png',\n",
              " '/content/mnist_png/training/0/26389.png',\n",
              " '/content/mnist_png/training/0/6502.png',\n",
              " '/content/mnist_png/training/0/19369.png',\n",
              " '/content/mnist_png/training/0/40188.png',\n",
              " '/content/mnist_png/training/0/31082.png',\n",
              " '/content/mnist_png/training/0/11973.png',\n",
              " '/content/mnist_png/training/0/49889.png',\n",
              " '/content/mnist_png/training/0/39746.png',\n",
              " '/content/mnist_png/training/0/4343.png',\n",
              " '/content/mnist_png/training/0/35217.png',\n",
              " '/content/mnist_png/training/0/8897.png',\n",
              " '/content/mnist_png/training/0/37980.png',\n",
              " '/content/mnist_png/training/0/36318.png',\n",
              " '/content/mnist_png/training/0/52245.png',\n",
              " '/content/mnist_png/training/0/33522.png',\n",
              " '/content/mnist_png/training/0/30382.png',\n",
              " '/content/mnist_png/training/0/5502.png',\n",
              " '/content/mnist_png/training/0/10471.png',\n",
              " '/content/mnist_png/training/0/13074.png',\n",
              " '/content/mnist_png/training/0/34580.png',\n",
              " '/content/mnist_png/training/0/34440.png',\n",
              " '/content/mnist_png/training/0/53536.png',\n",
              " '/content/mnist_png/training/0/15508.png',\n",
              " '/content/mnist_png/training/0/19072.png',\n",
              " '/content/mnist_png/training/0/21809.png',\n",
              " '/content/mnist_png/training/0/40336.png',\n",
              " '/content/mnist_png/training/0/55045.png',\n",
              " '/content/mnist_png/training/0/11661.png',\n",
              " '/content/mnist_png/training/0/29755.png',\n",
              " '/content/mnist_png/training/0/8877.png',\n",
              " '/content/mnist_png/training/0/6973.png',\n",
              " '/content/mnist_png/training/0/51464.png',\n",
              " '/content/mnist_png/training/0/5398.png',\n",
              " '/content/mnist_png/training/0/21600.png',\n",
              " '/content/mnist_png/training/0/11451.png',\n",
              " '/content/mnist_png/training/0/45682.png',\n",
              " '/content/mnist_png/training/0/37153.png',\n",
              " '/content/mnist_png/training/0/10237.png',\n",
              " '/content/mnist_png/training/0/668.png',\n",
              " '/content/mnist_png/training/0/11501.png',\n",
              " '/content/mnist_png/training/0/23380.png',\n",
              " '/content/mnist_png/training/0/24896.png',\n",
              " '/content/mnist_png/training/0/29211.png',\n",
              " '/content/mnist_png/training/0/49675.png',\n",
              " '/content/mnist_png/training/0/14557.png',\n",
              " '/content/mnist_png/training/0/41557.png',\n",
              " '/content/mnist_png/training/0/45115.png',\n",
              " '/content/mnist_png/training/0/11948.png',\n",
              " '/content/mnist_png/training/0/3667.png',\n",
              " '/content/mnist_png/training/0/320.png',\n",
              " '/content/mnist_png/training/0/56023.png',\n",
              " '/content/mnist_png/training/0/10505.png',\n",
              " '/content/mnist_png/training/0/51883.png',\n",
              " '/content/mnist_png/training/0/47046.png',\n",
              " '/content/mnist_png/training/0/13492.png',\n",
              " '/content/mnist_png/training/0/5627.png',\n",
              " '/content/mnist_png/training/0/32461.png',\n",
              " '/content/mnist_png/training/0/33148.png',\n",
              " '/content/mnist_png/training/0/58170.png',\n",
              " '/content/mnist_png/training/0/53678.png',\n",
              " '/content/mnist_png/training/0/47722.png',\n",
              " '/content/mnist_png/training/0/32905.png',\n",
              " '/content/mnist_png/training/0/1742.png',\n",
              " '/content/mnist_png/training/0/9986.png',\n",
              " '/content/mnist_png/training/0/4115.png',\n",
              " '/content/mnist_png/training/0/26241.png',\n",
              " '/content/mnist_png/training/0/49621.png',\n",
              " '/content/mnist_png/training/0/19027.png',\n",
              " '/content/mnist_png/training/0/29541.png',\n",
              " '/content/mnist_png/training/0/59342.png',\n",
              " '/content/mnist_png/training/0/53174.png',\n",
              " '/content/mnist_png/training/0/5249.png',\n",
              " '/content/mnist_png/training/0/4532.png',\n",
              " '/content/mnist_png/training/0/18909.png',\n",
              " '/content/mnist_png/training/0/4870.png',\n",
              " '/content/mnist_png/training/0/30384.png',\n",
              " '/content/mnist_png/training/0/46952.png',\n",
              " '/content/mnist_png/training/0/18515.png',\n",
              " '/content/mnist_png/training/0/44900.png',\n",
              " '/content/mnist_png/training/0/43423.png',\n",
              " '/content/mnist_png/training/0/41609.png',\n",
              " '/content/mnist_png/training/0/22637.png',\n",
              " '/content/mnist_png/training/0/13117.png',\n",
              " '/content/mnist_png/training/0/8233.png',\n",
              " '/content/mnist_png/training/0/5464.png',\n",
              " '/content/mnist_png/training/0/16355.png',\n",
              " '/content/mnist_png/training/0/27637.png',\n",
              " '/content/mnist_png/training/0/58015.png',\n",
              " '/content/mnist_png/training/0/54320.png',\n",
              " '/content/mnist_png/training/0/49443.png',\n",
              " '/content/mnist_png/training/0/15798.png',\n",
              " '/content/mnist_png/training/0/40082.png',\n",
              " '/content/mnist_png/training/0/30340.png',\n",
              " '/content/mnist_png/training/0/30370.png',\n",
              " '/content/mnist_png/training/0/53195.png',\n",
              " '/content/mnist_png/training/0/19407.png',\n",
              " '/content/mnist_png/training/0/56686.png',\n",
              " '/content/mnist_png/training/0/19376.png',\n",
              " '/content/mnist_png/training/0/17365.png',\n",
              " '/content/mnist_png/training/0/33536.png',\n",
              " '/content/mnist_png/training/0/37950.png',\n",
              " '/content/mnist_png/training/0/6103.png',\n",
              " '/content/mnist_png/training/0/34623.png',\n",
              " '/content/mnist_png/training/0/15777.png',\n",
              " '/content/mnist_png/training/0/52821.png',\n",
              " '/content/mnist_png/training/0/55840.png',\n",
              " '/content/mnist_png/training/0/13335.png',\n",
              " '/content/mnist_png/training/0/40122.png',\n",
              " '/content/mnist_png/training/0/32778.png',\n",
              " '/content/mnist_png/training/0/47096.png',\n",
              " '/content/mnist_png/training/0/40228.png',\n",
              " '/content/mnist_png/training/0/56857.png',\n",
              " '/content/mnist_png/training/0/33847.png',\n",
              " '/content/mnist_png/training/0/30388.png',\n",
              " '/content/mnist_png/training/0/37752.png',\n",
              " '/content/mnist_png/training/0/8247.png',\n",
              " '/content/mnist_png/training/0/41789.png',\n",
              " '/content/mnist_png/training/0/38929.png',\n",
              " '/content/mnist_png/training/0/55398.png',\n",
              " '/content/mnist_png/training/0/21576.png',\n",
              " '/content/mnist_png/training/0/46962.png',\n",
              " '/content/mnist_png/training/0/10167.png',\n",
              " '/content/mnist_png/training/0/8113.png',\n",
              " '/content/mnist_png/training/0/29713.png',\n",
              " '/content/mnist_png/training/0/13005.png',\n",
              " '/content/mnist_png/training/0/53256.png',\n",
              " '/content/mnist_png/training/0/7552.png',\n",
              " '/content/mnist_png/training/0/57629.png',\n",
              " '/content/mnist_png/training/0/42358.png',\n",
              " '/content/mnist_png/training/0/39233.png',\n",
              " '/content/mnist_png/training/0/41606.png',\n",
              " '/content/mnist_png/training/0/16354.png',\n",
              " '/content/mnist_png/training/0/14319.png',\n",
              " '/content/mnist_png/training/0/8387.png',\n",
              " '/content/mnist_png/training/0/41635.png',\n",
              " '/content/mnist_png/training/0/27829.png',\n",
              " '/content/mnist_png/training/0/41810.png',\n",
              " '/content/mnist_png/training/0/36764.png',\n",
              " '/content/mnist_png/training/0/48059.png',\n",
              " '/content/mnist_png/training/0/34502.png',\n",
              " '/content/mnist_png/training/0/48523.png',\n",
              " '/content/mnist_png/training/0/59313.png',\n",
              " '/content/mnist_png/training/0/33157.png',\n",
              " '/content/mnist_png/training/0/51587.png',\n",
              " '/content/mnist_png/training/0/36882.png',\n",
              " '/content/mnist_png/training/0/48830.png',\n",
              " '/content/mnist_png/training/0/52655.png',\n",
              " '/content/mnist_png/training/0/33253.png',\n",
              " '/content/mnist_png/training/0/927.png',\n",
              " '/content/mnist_png/training/0/8304.png',\n",
              " '/content/mnist_png/training/0/18284.png',\n",
              " '/content/mnist_png/training/0/36948.png',\n",
              " '/content/mnist_png/training/0/3376.png',\n",
              " '/content/mnist_png/training/0/26298.png',\n",
              " '/content/mnist_png/training/0/56161.png',\n",
              " '/content/mnist_png/training/0/18743.png',\n",
              " '/content/mnist_png/training/0/8368.png',\n",
              " '/content/mnist_png/training/0/1015.png',\n",
              " '/content/mnist_png/training/0/14877.png',\n",
              " '/content/mnist_png/training/0/52294.png',\n",
              " '/content/mnist_png/training/0/5773.png',\n",
              " '/content/mnist_png/training/0/59762.png',\n",
              " '/content/mnist_png/training/0/29736.png',\n",
              " '/content/mnist_png/training/0/41286.png',\n",
              " '/content/mnist_png/training/0/53705.png',\n",
              " '/content/mnist_png/training/0/31575.png',\n",
              " '/content/mnist_png/training/0/3410.png',\n",
              " '/content/mnist_png/training/0/50511.png',\n",
              " '/content/mnist_png/training/0/10750.png',\n",
              " '/content/mnist_png/training/0/23067.png',\n",
              " '/content/mnist_png/training/0/27305.png',\n",
              " '/content/mnist_png/training/0/23401.png',\n",
              " '/content/mnist_png/training/0/49011.png',\n",
              " '/content/mnist_png/training/0/37914.png',\n",
              " '/content/mnist_png/training/0/42797.png',\n",
              " '/content/mnist_png/training/0/22306.png',\n",
              " '/content/mnist_png/training/0/38161.png',\n",
              " '/content/mnist_png/training/0/28296.png',\n",
              " '/content/mnist_png/training/0/15955.png',\n",
              " '/content/mnist_png/training/0/11129.png',\n",
              " '/content/mnist_png/training/0/15566.png',\n",
              " '/content/mnist_png/training/0/20123.png',\n",
              " '/content/mnist_png/training/0/11330.png',\n",
              " '/content/mnist_png/training/0/7709.png',\n",
              " '/content/mnist_png/training/0/25214.png',\n",
              " '/content/mnist_png/training/0/42552.png',\n",
              " '/content/mnist_png/training/0/40320.png',\n",
              " '/content/mnist_png/training/0/49214.png',\n",
              " '/content/mnist_png/training/0/15770.png',\n",
              " '/content/mnist_png/training/0/5505.png',\n",
              " '/content/mnist_png/training/0/32605.png',\n",
              " '/content/mnist_png/training/0/38315.png',\n",
              " '/content/mnist_png/training/0/55029.png',\n",
              " '/content/mnist_png/training/0/32313.png',\n",
              " '/content/mnist_png/training/0/30578.png',\n",
              " '/content/mnist_png/training/0/16485.png',\n",
              " '/content/mnist_png/training/0/46488.png',\n",
              " '/content/mnist_png/training/0/35060.png',\n",
              " '/content/mnist_png/training/0/59187.png',\n",
              " '/content/mnist_png/training/0/23367.png',\n",
              " '/content/mnist_png/training/0/34457.png',\n",
              " '/content/mnist_png/training/0/37377.png',\n",
              " '/content/mnist_png/training/0/46303.png',\n",
              " '/content/mnist_png/training/0/903.png',\n",
              " '/content/mnist_png/training/0/7130.png',\n",
              " '/content/mnist_png/training/0/46111.png',\n",
              " '/content/mnist_png/training/0/52617.png',\n",
              " '/content/mnist_png/training/0/23506.png',\n",
              " '/content/mnist_png/training/0/7158.png',\n",
              " '/content/mnist_png/training/0/7272.png',\n",
              " '/content/mnist_png/training/0/35857.png',\n",
              " '/content/mnist_png/training/0/35823.png',\n",
              " '/content/mnist_png/training/0/57575.png',\n",
              " '/content/mnist_png/training/0/24389.png',\n",
              " '/content/mnist_png/training/0/47190.png',\n",
              " '/content/mnist_png/training/0/29364.png',\n",
              " '/content/mnist_png/training/0/39624.png',\n",
              " '/content/mnist_png/training/0/7373.png',\n",
              " '/content/mnist_png/training/0/9313.png',\n",
              " '/content/mnist_png/training/0/34016.png',\n",
              " '/content/mnist_png/training/0/30331.png',\n",
              " '/content/mnist_png/training/0/15471.png',\n",
              " '/content/mnist_png/training/0/11071.png',\n",
              " '/content/mnist_png/training/0/19902.png',\n",
              " '/content/mnist_png/training/0/32682.png',\n",
              " '/content/mnist_png/training/0/15581.png',\n",
              " '/content/mnist_png/training/0/56318.png',\n",
              " '/content/mnist_png/training/0/39740.png',\n",
              " '/content/mnist_png/training/0/29540.png',\n",
              " '/content/mnist_png/training/0/22860.png',\n",
              " '/content/mnist_png/training/0/5246.png',\n",
              " '/content/mnist_png/training/0/26038.png',\n",
              " '/content/mnist_png/training/0/6730.png',\n",
              " '/content/mnist_png/training/0/7566.png',\n",
              " '/content/mnist_png/training/0/21910.png',\n",
              " '/content/mnist_png/training/0/13751.png',\n",
              " '/content/mnist_png/training/0/51917.png',\n",
              " '/content/mnist_png/training/0/54221.png',\n",
              " '/content/mnist_png/training/0/28910.png',\n",
              " '/content/mnist_png/training/0/15795.png',\n",
              " '/content/mnist_png/training/0/15765.png',\n",
              " '/content/mnist_png/training/0/21354.png',\n",
              " '/content/mnist_png/training/0/25707.png',\n",
              " '/content/mnist_png/training/0/1796.png',\n",
              " '/content/mnist_png/training/0/23131.png',\n",
              " '/content/mnist_png/training/0/21848.png',\n",
              " '/content/mnist_png/training/0/1571.png',\n",
              " '/content/mnist_png/training/0/58668.png',\n",
              " '/content/mnist_png/training/0/519.png',\n",
              " '/content/mnist_png/training/0/19900.png',\n",
              " '/content/mnist_png/training/0/19216.png',\n",
              " '/content/mnist_png/training/0/45766.png',\n",
              " '/content/mnist_png/training/0/49280.png',\n",
              " '/content/mnist_png/training/0/55354.png',\n",
              " '/content/mnist_png/training/0/46294.png',\n",
              " '/content/mnist_png/training/0/17392.png',\n",
              " '/content/mnist_png/training/0/32531.png',\n",
              " '/content/mnist_png/training/0/56259.png',\n",
              " '/content/mnist_png/training/0/662.png',\n",
              " '/content/mnist_png/training/0/14356.png',\n",
              " '/content/mnist_png/training/0/47482.png',\n",
              " '/content/mnist_png/training/0/2411.png',\n",
              " '/content/mnist_png/training/0/4931.png',\n",
              " '/content/mnist_png/training/0/3213.png',\n",
              " '/content/mnist_png/training/0/42862.png',\n",
              " '/content/mnist_png/training/0/20010.png',\n",
              " '/content/mnist_png/training/0/57730.png',\n",
              " '/content/mnist_png/training/0/11846.png',\n",
              " '/content/mnist_png/training/0/47405.png',\n",
              " '/content/mnist_png/training/0/22634.png',\n",
              " '/content/mnist_png/training/0/38289.png',\n",
              " '/content/mnist_png/training/0/56556.png',\n",
              " '/content/mnist_png/training/0/49374.png',\n",
              " '/content/mnist_png/training/0/44208.png',\n",
              " '/content/mnist_png/training/0/1377.png',\n",
              " '/content/mnist_png/training/0/14723.png',\n",
              " '/content/mnist_png/training/0/20481.png',\n",
              " '/content/mnist_png/training/0/23120.png',\n",
              " '/content/mnist_png/training/0/7003.png',\n",
              " '/content/mnist_png/training/0/38501.png',\n",
              " '/content/mnist_png/training/0/38162.png',\n",
              " '/content/mnist_png/training/0/45066.png',\n",
              " '/content/mnist_png/training/0/22917.png',\n",
              " '/content/mnist_png/training/0/9151.png',\n",
              " '/content/mnist_png/training/0/27822.png',\n",
              " '/content/mnist_png/training/0/18892.png',\n",
              " '/content/mnist_png/training/0/28771.png',\n",
              " '/content/mnist_png/training/0/2483.png',\n",
              " '/content/mnist_png/training/0/31476.png',\n",
              " '/content/mnist_png/training/0/6245.png',\n",
              " '/content/mnist_png/training/0/6023.png',\n",
              " '/content/mnist_png/training/0/11780.png',\n",
              " '/content/mnist_png/training/0/2298.png',\n",
              " '/content/mnist_png/training/0/42867.png',\n",
              " '/content/mnist_png/training/0/30391.png',\n",
              " '/content/mnist_png/training/0/48780.png',\n",
              " '/content/mnist_png/training/0/40329.png',\n",
              " '/content/mnist_png/training/0/52409.png',\n",
              " '/content/mnist_png/training/0/37723.png',\n",
              " '/content/mnist_png/training/0/50042.png',\n",
              " '/content/mnist_png/training/0/31095.png',\n",
              " '/content/mnist_png/training/0/38605.png',\n",
              " '/content/mnist_png/training/0/53027.png',\n",
              " '/content/mnist_png/training/0/24103.png',\n",
              " '/content/mnist_png/training/0/26338.png',\n",
              " '/content/mnist_png/training/0/55745.png',\n",
              " '/content/mnist_png/training/0/2525.png',\n",
              " '/content/mnist_png/training/0/34514.png',\n",
              " '/content/mnist_png/training/0/58386.png',\n",
              " '/content/mnist_png/training/0/21608.png',\n",
              " '/content/mnist_png/training/0/33023.png',\n",
              " '/content/mnist_png/training/0/4776.png',\n",
              " '/content/mnist_png/training/0/20292.png',\n",
              " '/content/mnist_png/training/0/23728.png',\n",
              " '/content/mnist_png/training/0/54328.png',\n",
              " '/content/mnist_png/training/0/8323.png',\n",
              " '/content/mnist_png/training/0/35463.png',\n",
              " '/content/mnist_png/training/0/58952.png',\n",
              " '/content/mnist_png/training/0/18028.png',\n",
              " '/content/mnist_png/training/0/34737.png',\n",
              " '/content/mnist_png/training/0/35502.png',\n",
              " '/content/mnist_png/training/0/28904.png',\n",
              " '/content/mnist_png/training/0/55484.png',\n",
              " '/content/mnist_png/training/0/16598.png',\n",
              " '/content/mnist_png/training/0/44335.png',\n",
              " '/content/mnist_png/training/0/53575.png',\n",
              " '/content/mnist_png/training/0/46740.png',\n",
              " '/content/mnist_png/training/0/20827.png',\n",
              " '/content/mnist_png/training/0/3612.png',\n",
              " '/content/mnist_png/training/0/23613.png',\n",
              " '/content/mnist_png/training/0/28323.png',\n",
              " '/content/mnist_png/training/0/36620.png',\n",
              " '/content/mnist_png/training/0/3391.png',\n",
              " '/content/mnist_png/training/0/32952.png',\n",
              " '/content/mnist_png/training/0/9287.png',\n",
              " '/content/mnist_png/training/0/52799.png',\n",
              " '/content/mnist_png/training/0/25529.png',\n",
              " '/content/mnist_png/training/0/26095.png',\n",
              " '/content/mnist_png/training/0/30097.png',\n",
              " '/content/mnist_png/training/0/30101.png',\n",
              " '/content/mnist_png/training/0/7462.png',\n",
              " '/content/mnist_png/training/0/40173.png',\n",
              " '/content/mnist_png/training/0/88.png',\n",
              " '/content/mnist_png/training/0/55408.png',\n",
              " '/content/mnist_png/training/0/16083.png',\n",
              " '/content/mnist_png/training/0/37901.png',\n",
              " '/content/mnist_png/training/0/34064.png',\n",
              " '/content/mnist_png/training/0/48121.png',\n",
              " '/content/mnist_png/training/0/45942.png',\n",
              " '/content/mnist_png/training/0/37921.png',\n",
              " '/content/mnist_png/training/0/56969.png',\n",
              " '/content/mnist_png/training/0/32950.png',\n",
              " '/content/mnist_png/training/0/36667.png',\n",
              " '/content/mnist_png/training/0/31392.png',\n",
              " '/content/mnist_png/training/0/10384.png',\n",
              " '/content/mnist_png/training/0/41646.png',\n",
              " '/content/mnist_png/training/0/47396.png',\n",
              " '/content/mnist_png/training/0/56.png',\n",
              " '/content/mnist_png/training/0/35343.png',\n",
              " '/content/mnist_png/training/0/997.png',\n",
              " '/content/mnist_png/training/0/42835.png',\n",
              " '/content/mnist_png/training/0/30948.png',\n",
              " '/content/mnist_png/training/0/38212.png',\n",
              " '/content/mnist_png/training/0/39955.png',\n",
              " '/content/mnist_png/training/0/59940.png',\n",
              " '/content/mnist_png/training/0/34471.png',\n",
              " '/content/mnist_png/training/0/46683.png',\n",
              " '/content/mnist_png/training/0/50909.png',\n",
              " '/content/mnist_png/training/0/19744.png',\n",
              " '/content/mnist_png/training/0/39055.png',\n",
              " '/content/mnist_png/training/0/45354.png',\n",
              " '/content/mnist_png/training/0/7597.png',\n",
              " '/content/mnist_png/training/0/27735.png',\n",
              " '/content/mnist_png/training/0/4926.png',\n",
              " '/content/mnist_png/training/0/32621.png',\n",
              " '/content/mnist_png/training/0/1626.png',\n",
              " '/content/mnist_png/training/0/20727.png',\n",
              " '/content/mnist_png/training/0/5196.png',\n",
              " '/content/mnist_png/training/0/32574.png',\n",
              " '/content/mnist_png/training/0/18232.png',\n",
              " '/content/mnist_png/training/0/38914.png',\n",
              " '/content/mnist_png/training/0/35039.png',\n",
              " '/content/mnist_png/training/0/50808.png',\n",
              " '/content/mnist_png/training/0/22254.png',\n",
              " '/content/mnist_png/training/0/53350.png',\n",
              " '/content/mnist_png/training/0/46446.png',\n",
              " '/content/mnist_png/training/0/22938.png',\n",
              " '/content/mnist_png/training/0/1501.png',\n",
              " '/content/mnist_png/training/0/50630.png',\n",
              " '/content/mnist_png/training/0/7707.png',\n",
              " '/content/mnist_png/training/0/13044.png',\n",
              " '/content/mnist_png/training/0/11701.png',\n",
              " '/content/mnist_png/training/0/45905.png',\n",
              " '/content/mnist_png/training/0/37841.png',\n",
              " '/content/mnist_png/training/0/9823.png',\n",
              " '/content/mnist_png/training/0/49387.png',\n",
              " '/content/mnist_png/training/0/21372.png',\n",
              " '/content/mnist_png/training/0/22882.png',\n",
              " '/content/mnist_png/training/0/35423.png',\n",
              " '/content/mnist_png/training/0/44127.png',\n",
              " '/content/mnist_png/training/0/30547.png',\n",
              " '/content/mnist_png/training/0/34197.png',\n",
              " '/content/mnist_png/training/0/57384.png',\n",
              " '/content/mnist_png/training/0/16705.png',\n",
              " '/content/mnist_png/training/0/2615.png',\n",
              " '/content/mnist_png/training/0/52558.png',\n",
              " '/content/mnist_png/training/0/36842.png',\n",
              " '/content/mnist_png/training/0/1076.png',\n",
              " '/content/mnist_png/training/0/12144.png',\n",
              " '/content/mnist_png/training/0/42764.png',\n",
              " '/content/mnist_png/training/0/59296.png',\n",
              " '/content/mnist_png/training/0/2974.png',\n",
              " '/content/mnist_png/training/0/25167.png',\n",
              " '/content/mnist_png/training/0/49561.png',\n",
              " '/content/mnist_png/training/0/47205.png',\n",
              " '/content/mnist_png/training/0/40895.png',\n",
              " '/content/mnist_png/training/0/8838.png',\n",
              " '/content/mnist_png/training/0/53101.png',\n",
              " '/content/mnist_png/training/0/46617.png',\n",
              " '/content/mnist_png/training/0/44826.png',\n",
              " '/content/mnist_png/training/0/49996.png',\n",
              " '/content/mnist_png/training/0/46344.png',\n",
              " '/content/mnist_png/training/0/33703.png',\n",
              " '/content/mnist_png/training/0/53124.png',\n",
              " '/content/mnist_png/training/0/29918.png',\n",
              " '/content/mnist_png/training/0/2581.png',\n",
              " '/content/mnist_png/training/0/17106.png',\n",
              " '/content/mnist_png/training/0/16817.png',\n",
              " '/content/mnist_png/training/0/4047.png',\n",
              " '/content/mnist_png/training/0/29994.png',\n",
              " '/content/mnist_png/training/0/21971.png',\n",
              " '/content/mnist_png/training/0/56509.png',\n",
              " '/content/mnist_png/training/0/12575.png',\n",
              " '/content/mnist_png/training/0/18295.png',\n",
              " '/content/mnist_png/training/0/8979.png',\n",
              " '/content/mnist_png/training/0/5115.png',\n",
              " '/content/mnist_png/training/0/19772.png',\n",
              " '/content/mnist_png/training/0/40428.png',\n",
              " '/content/mnist_png/training/0/41553.png',\n",
              " '/content/mnist_png/training/0/29578.png',\n",
              " '/content/mnist_png/training/0/13366.png',\n",
              " '/content/mnist_png/training/0/9857.png',\n",
              " '/content/mnist_png/training/0/20463.png',\n",
              " '/content/mnist_png/training/0/39326.png',\n",
              " '/content/mnist_png/training/0/19060.png',\n",
              " '/content/mnist_png/training/0/45193.png',\n",
              " '/content/mnist_png/training/0/34771.png',\n",
              " '/content/mnist_png/training/0/51685.png',\n",
              " '/content/mnist_png/training/0/40820.png',\n",
              " '/content/mnist_png/training/0/30699.png',\n",
              " '/content/mnist_png/training/0/30751.png',\n",
              " '/content/mnist_png/training/0/47488.png',\n",
              " '/content/mnist_png/training/0/25839.png',\n",
              " '/content/mnist_png/training/0/42776.png',\n",
              " '/content/mnist_png/training/0/12716.png',\n",
              " '/content/mnist_png/training/0/45467.png',\n",
              " '/content/mnist_png/training/0/31518.png',\n",
              " '/content/mnist_png/training/0/21097.png',\n",
              " '/content/mnist_png/training/0/16412.png',\n",
              " '/content/mnist_png/training/0/13164.png',\n",
              " '/content/mnist_png/training/0/59929.png',\n",
              " '/content/mnist_png/training/0/36586.png',\n",
              " '/content/mnist_png/training/0/24615.png',\n",
              " '/content/mnist_png/training/0/47316.png',\n",
              " '/content/mnist_png/training/0/38473.png',\n",
              " '/content/mnist_png/training/0/26623.png',\n",
              " '/content/mnist_png/training/0/55830.png',\n",
              " '/content/mnist_png/training/0/54459.png',\n",
              " '/content/mnist_png/training/0/19325.png',\n",
              " '/content/mnist_png/training/0/24696.png',\n",
              " '/content/mnist_png/training/0/20608.png',\n",
              " '/content/mnist_png/training/0/46391.png',\n",
              " '/content/mnist_png/training/0/1403.png',\n",
              " '/content/mnist_png/training/0/22487.png',\n",
              " '/content/mnist_png/training/0/35700.png',\n",
              " '/content/mnist_png/training/0/46812.png',\n",
              " '/content/mnist_png/training/0/13874.png',\n",
              " '/content/mnist_png/training/0/43169.png',\n",
              " '/content/mnist_png/training/0/38035.png',\n",
              " '/content/mnist_png/training/0/108.png',\n",
              " '/content/mnist_png/training/0/25497.png',\n",
              " '/content/mnist_png/training/0/20724.png',\n",
              " '/content/mnist_png/training/0/11014.png',\n",
              " '/content/mnist_png/training/0/40969.png',\n",
              " '/content/mnist_png/training/0/37653.png',\n",
              " '/content/mnist_png/training/0/16122.png',\n",
              " '/content/mnist_png/training/0/52182.png',\n",
              " '/content/mnist_png/training/0/27327.png',\n",
              " '/content/mnist_png/training/0/10128.png',\n",
              " '/content/mnist_png/training/0/26422.png',\n",
              " '/content/mnist_png/training/0/43205.png',\n",
              " '/content/mnist_png/training/0/12635.png',\n",
              " '/content/mnist_png/training/0/20369.png',\n",
              " '/content/mnist_png/training/0/57397.png',\n",
              " '/content/mnist_png/training/0/20947.png',\n",
              " '/content/mnist_png/training/0/30748.png',\n",
              " '/content/mnist_png/training/0/26999.png',\n",
              " '/content/mnist_png/training/0/3514.png',\n",
              " '/content/mnist_png/training/0/22440.png',\n",
              " '/content/mnist_png/training/0/16192.png',\n",
              " '/content/mnist_png/training/0/45349.png',\n",
              " '/content/mnist_png/training/0/46439.png',\n",
              " '/content/mnist_png/training/0/12764.png',\n",
              " '/content/mnist_png/training/0/4981.png',\n",
              " '/content/mnist_png/training/0/21874.png',\n",
              " '/content/mnist_png/training/0/2144.png',\n",
              " '/content/mnist_png/training/0/23926.png',\n",
              " '/content/mnist_png/training/0/9524.png',\n",
              " '/content/mnist_png/training/0/7466.png',\n",
              " '/content/mnist_png/training/0/4220.png',\n",
              " '/content/mnist_png/training/0/59541.png',\n",
              " '/content/mnist_png/training/0/31202.png',\n",
              " '/content/mnist_png/training/0/56419.png',\n",
              " '/content/mnist_png/training/0/55576.png',\n",
              " '/content/mnist_png/training/0/41069.png',\n",
              " '/content/mnist_png/training/0/42180.png',\n",
              " '/content/mnist_png/training/0/29187.png',\n",
              " '/content/mnist_png/training/0/11969.png',\n",
              " '/content/mnist_png/training/0/23095.png',\n",
              " '/content/mnist_png/training/0/10974.png',\n",
              " '/content/mnist_png/training/0/23828.png',\n",
              " '/content/mnist_png/training/0/45255.png',\n",
              " '/content/mnist_png/training/0/5147.png',\n",
              " '/content/mnist_png/training/0/15567.png',\n",
              " '/content/mnist_png/training/0/11577.png',\n",
              " '/content/mnist_png/training/0/38746.png',\n",
              " '/content/mnist_png/training/0/34943.png',\n",
              " '/content/mnist_png/training/0/58247.png',\n",
              " '/content/mnist_png/training/0/11036.png',\n",
              " '/content/mnist_png/training/0/10645.png',\n",
              " '/content/mnist_png/training/0/33723.png',\n",
              " '/content/mnist_png/training/0/29235.png',\n",
              " '/content/mnist_png/training/0/53861.png',\n",
              " '/content/mnist_png/training/0/16415.png',\n",
              " '/content/mnist_png/training/0/54549.png',\n",
              " '/content/mnist_png/training/0/36519.png',\n",
              " '/content/mnist_png/training/0/293.png',\n",
              " '/content/mnist_png/training/0/46412.png',\n",
              " '/content/mnist_png/training/0/15445.png',\n",
              " '/content/mnist_png/training/0/29903.png',\n",
              " '/content/mnist_png/training/0/57542.png',\n",
              " '/content/mnist_png/training/0/5108.png',\n",
              " '/content/mnist_png/training/0/26300.png',\n",
              " '/content/mnist_png/training/0/48414.png',\n",
              " '/content/mnist_png/training/0/52048.png',\n",
              " '/content/mnist_png/training/0/35620.png',\n",
              " '/content/mnist_png/training/0/49336.png',\n",
              " '/content/mnist_png/training/0/23504.png',\n",
              " '/content/mnist_png/training/0/47172.png',\n",
              " '/content/mnist_png/training/0/27893.png',\n",
              " '/content/mnist_png/training/0/9523.png',\n",
              " '/content/mnist_png/training/0/790.png',\n",
              " '/content/mnist_png/training/0/47078.png',\n",
              " '/content/mnist_png/training/0/49268.png',\n",
              " '/content/mnist_png/training/0/52095.png',\n",
              " '/content/mnist_png/training/0/8046.png',\n",
              " '/content/mnist_png/training/0/36484.png',\n",
              " '/content/mnist_png/training/0/51466.png',\n",
              " '/content/mnist_png/training/0/17169.png',\n",
              " '/content/mnist_png/training/0/25676.png',\n",
              " '/content/mnist_png/training/0/55873.png',\n",
              " '/content/mnist_png/training/0/34251.png',\n",
              " '/content/mnist_png/training/0/25383.png',\n",
              " '/content/mnist_png/training/0/20846.png',\n",
              " '/content/mnist_png/training/0/58659.png',\n",
              " '/content/mnist_png/training/0/55681.png',\n",
              " '/content/mnist_png/training/0/34553.png',\n",
              " '/content/mnist_png/training/0/16987.png',\n",
              " '/content/mnist_png/training/0/30034.png',\n",
              " '/content/mnist_png/training/0/12837.png',\n",
              " '/content/mnist_png/training/0/28814.png',\n",
              " '/content/mnist_png/training/0/6968.png',\n",
              " '/content/mnist_png/training/0/14511.png',\n",
              " '/content/mnist_png/training/0/20577.png',\n",
              " '/content/mnist_png/training/0/56404.png',\n",
              " '/content/mnist_png/training/0/26369.png',\n",
              " '/content/mnist_png/training/0/40746.png',\n",
              " '/content/mnist_png/training/0/27620.png',\n",
              " '/content/mnist_png/training/0/24661.png',\n",
              " '/content/mnist_png/training/0/3881.png',\n",
              " '/content/mnist_png/training/0/37678.png',\n",
              " '/content/mnist_png/training/0/25199.png',\n",
              " '/content/mnist_png/training/0/7164.png',\n",
              " '/content/mnist_png/training/0/55785.png',\n",
              " '/content/mnist_png/training/0/50968.png',\n",
              " '/content/mnist_png/training/0/5801.png',\n",
              " '/content/mnist_png/training/0/14820.png',\n",
              " '/content/mnist_png/training/0/54121.png',\n",
              " '/content/mnist_png/training/0/48187.png',\n",
              " '/content/mnist_png/training/0/10425.png',\n",
              " '/content/mnist_png/training/0/48210.png',\n",
              " '/content/mnist_png/training/0/22337.png',\n",
              " '/content/mnist_png/training/0/13798.png',\n",
              " '/content/mnist_png/training/0/28821.png',\n",
              " '/content/mnist_png/training/0/17133.png',\n",
              " '/content/mnist_png/training/0/20418.png',\n",
              " '/content/mnist_png/training/0/30807.png',\n",
              " '/content/mnist_png/training/0/32463.png',\n",
              " '/content/mnist_png/training/0/6034.png',\n",
              " '/content/mnist_png/training/0/21137.png',\n",
              " '/content/mnist_png/training/0/52305.png',\n",
              " '/content/mnist_png/training/0/24840.png',\n",
              " '/content/mnist_png/training/0/40200.png',\n",
              " '/content/mnist_png/training/0/6832.png',\n",
              " '/content/mnist_png/training/0/25743.png',\n",
              " '/content/mnist_png/training/0/59878.png',\n",
              " '/content/mnist_png/training/0/37506.png',\n",
              " '/content/mnist_png/training/0/121.png',\n",
              " '/content/mnist_png/training/0/22877.png',\n",
              " '/content/mnist_png/training/0/47186.png',\n",
              " '/content/mnist_png/training/0/44614.png',\n",
              " '/content/mnist_png/training/0/1819.png',\n",
              " '/content/mnist_png/training/0/40002.png',\n",
              " '/content/mnist_png/training/0/47470.png',\n",
              " '/content/mnist_png/training/0/12276.png',\n",
              " '/content/mnist_png/training/0/53381.png',\n",
              " '/content/mnist_png/training/0/26903.png',\n",
              " '/content/mnist_png/training/0/39683.png',\n",
              " '/content/mnist_png/training/0/36749.png',\n",
              " '/content/mnist_png/training/0/27247.png',\n",
              " '/content/mnist_png/training/0/50820.png',\n",
              " '/content/mnist_png/training/0/52865.png',\n",
              " '/content/mnist_png/training/0/54943.png',\n",
              " '/content/mnist_png/training/0/13184.png',\n",
              " '/content/mnist_png/training/0/54629.png',\n",
              " '/content/mnist_png/training/0/25243.png',\n",
              " '/content/mnist_png/training/0/24440.png',\n",
              " '/content/mnist_png/training/0/55048.png',\n",
              " '/content/mnist_png/training/0/25803.png',\n",
              " '/content/mnist_png/training/0/31904.png',\n",
              " '/content/mnist_png/training/0/44333.png',\n",
              " '/content/mnist_png/training/0/27894.png',\n",
              " '/content/mnist_png/training/0/4181.png',\n",
              " '/content/mnist_png/training/0/34730.png',\n",
              " '/content/mnist_png/training/0/8309.png',\n",
              " '/content/mnist_png/training/0/6279.png',\n",
              " '/content/mnist_png/training/0/18324.png',\n",
              " '/content/mnist_png/training/0/30071.png',\n",
              " '/content/mnist_png/training/0/6227.png',\n",
              " '/content/mnist_png/training/0/24320.png',\n",
              " '/content/mnist_png/training/0/6097.png',\n",
              " '/content/mnist_png/training/0/25325.png',\n",
              " '/content/mnist_png/training/0/39483.png',\n",
              " '/content/mnist_png/training/0/19491.png',\n",
              " '/content/mnist_png/training/0/35488.png',\n",
              " '/content/mnist_png/training/0/12799.png',\n",
              " '/content/mnist_png/training/0/12741.png',\n",
              " '/content/mnist_png/training/0/55582.png',\n",
              " '/content/mnist_png/training/0/11391.png',\n",
              " '/content/mnist_png/training/0/51598.png',\n",
              " '/content/mnist_png/training/0/40313.png',\n",
              " '/content/mnist_png/training/0/1029.png',\n",
              " '/content/mnist_png/training/0/18715.png',\n",
              " '/content/mnist_png/training/0/26176.png',\n",
              " '/content/mnist_png/training/0/42374.png',\n",
              " '/content/mnist_png/training/0/36780.png',\n",
              " '/content/mnist_png/training/0/29374.png',\n",
              " '/content/mnist_png/training/0/25399.png',\n",
              " '/content/mnist_png/training/0/9209.png',\n",
              " '/content/mnist_png/training/0/22744.png',\n",
              " '/content/mnist_png/training/0/25823.png',\n",
              " '/content/mnist_png/training/0/54922.png',\n",
              " '/content/mnist_png/training/0/46653.png',\n",
              " '/content/mnist_png/training/0/44060.png',\n",
              " '/content/mnist_png/training/0/825.png',\n",
              " '/content/mnist_png/training/0/29925.png',\n",
              " '/content/mnist_png/training/0/22063.png',\n",
              " '/content/mnist_png/training/0/18538.png',\n",
              " '/content/mnist_png/training/0/29409.png',\n",
              " '/content/mnist_png/training/0/15761.png',\n",
              " '/content/mnist_png/training/0/49281.png',\n",
              " '/content/mnist_png/training/0/13926.png',\n",
              " '/content/mnist_png/training/0/44268.png',\n",
              " '/content/mnist_png/training/0/25714.png',\n",
              " '/content/mnist_png/training/0/44603.png',\n",
              " '/content/mnist_png/training/0/40108.png',\n",
              " '/content/mnist_png/training/0/41285.png',\n",
              " '/content/mnist_png/training/0/46192.png',\n",
              " '/content/mnist_png/training/0/612.png',\n",
              " '/content/mnist_png/training/0/59319.png',\n",
              " '/content/mnist_png/training/0/56176.png',\n",
              " '/content/mnist_png/training/0/5321.png',\n",
              " '/content/mnist_png/training/0/3160.png',\n",
              " '/content/mnist_png/training/0/15542.png',\n",
              " '/content/mnist_png/training/0/56163.png',\n",
              " '/content/mnist_png/training/0/34451.png',\n",
              " '/content/mnist_png/training/0/54368.png',\n",
              " '/content/mnist_png/training/0/25024.png',\n",
              " '/content/mnist_png/training/0/29704.png',\n",
              " '/content/mnist_png/training/0/51375.png',\n",
              " '/content/mnist_png/training/0/2617.png',\n",
              " '/content/mnist_png/training/0/58108.png',\n",
              " '/content/mnist_png/training/0/52508.png',\n",
              " '/content/mnist_png/training/0/7932.png',\n",
              " '/content/mnist_png/training/0/26685.png',\n",
              " '/content/mnist_png/training/0/19689.png',\n",
              " '/content/mnist_png/training/0/43404.png',\n",
              " '/content/mnist_png/training/0/13033.png',\n",
              " '/content/mnist_png/training/0/4688.png',\n",
              " '/content/mnist_png/training/0/40454.png',\n",
              " '/content/mnist_png/training/0/20928.png',\n",
              " '/content/mnist_png/training/0/35663.png',\n",
              " '/content/mnist_png/training/0/35972.png',\n",
              " '/content/mnist_png/training/0/4744.png',\n",
              " '/content/mnist_png/training/0/39376.png',\n",
              " '/content/mnist_png/training/0/23875.png',\n",
              " '/content/mnist_png/training/0/54284.png',\n",
              " '/content/mnist_png/training/0/56989.png',\n",
              " '/content/mnist_png/training/0/56174.png',\n",
              " '/content/mnist_png/training/0/37744.png',\n",
              " '/content/mnist_png/training/0/666.png',\n",
              " '/content/mnist_png/training/0/36994.png',\n",
              " '/content/mnist_png/training/0/43834.png',\n",
              " '/content/mnist_png/training/0/38008.png',\n",
              " '/content/mnist_png/training/0/59557.png',\n",
              " '/content/mnist_png/training/0/30255.png',\n",
              " '/content/mnist_png/training/0/35757.png',\n",
              " '/content/mnist_png/training/0/13196.png',\n",
              " '/content/mnist_png/training/0/35261.png',\n",
              " '/content/mnist_png/training/0/28072.png',\n",
              " '/content/mnist_png/training/0/2310.png',\n",
              " '/content/mnist_png/training/0/39527.png',\n",
              " '/content/mnist_png/training/0/39789.png',\n",
              " '/content/mnist_png/training/0/6603.png',\n",
              " '/content/mnist_png/training/0/29684.png',\n",
              " '/content/mnist_png/training/0/44744.png',\n",
              " '/content/mnist_png/training/0/54711.png',\n",
              " '/content/mnist_png/training/0/31321.png',\n",
              " '/content/mnist_png/training/0/43556.png',\n",
              " '/content/mnist_png/training/0/56639.png',\n",
              " '/content/mnist_png/training/0/5330.png',\n",
              " '/content/mnist_png/training/0/59433.png',\n",
              " '/content/mnist_png/training/0/13231.png',\n",
              " '/content/mnist_png/training/0/49014.png',\n",
              " '/content/mnist_png/training/0/26507.png',\n",
              " '/content/mnist_png/training/0/17223.png',\n",
              " '/content/mnist_png/training/0/41296.png',\n",
              " '/content/mnist_png/training/0/21898.png',\n",
              " '/content/mnist_png/training/0/32899.png',\n",
              " '/content/mnist_png/training/0/16777.png',\n",
              " '/content/mnist_png/training/0/56950.png',\n",
              " '/content/mnist_png/training/0/1443.png',\n",
              " '/content/mnist_png/training/0/4444.png',\n",
              " '/content/mnist_png/training/0/32727.png',\n",
              " '/content/mnist_png/training/0/17314.png',\n",
              " '/content/mnist_png/training/0/31470.png',\n",
              " '/content/mnist_png/training/0/14110.png',\n",
              " '/content/mnist_png/training/0/6629.png',\n",
              " '/content/mnist_png/training/0/53928.png',\n",
              " '/content/mnist_png/training/0/9742.png',\n",
              " '/content/mnist_png/training/0/35639.png',\n",
              " '/content/mnist_png/training/0/34392.png',\n",
              " '/content/mnist_png/training/0/50423.png',\n",
              " '/content/mnist_png/training/0/1349.png',\n",
              " '/content/mnist_png/training/0/1600.png',\n",
              " '/content/mnist_png/training/0/18837.png',\n",
              " '/content/mnist_png/training/0/50492.png',\n",
              " '/content/mnist_png/training/0/41627.png',\n",
              " '/content/mnist_png/training/0/19485.png',\n",
              " '/content/mnist_png/training/0/38484.png',\n",
              " '/content/mnist_png/training/0/23273.png',\n",
              " '/content/mnist_png/training/0/24693.png',\n",
              " '/content/mnist_png/training/0/52554.png',\n",
              " '/content/mnist_png/training/0/19082.png',\n",
              " '/content/mnist_png/training/0/7055.png',\n",
              " '/content/mnist_png/training/0/15249.png',\n",
              " '/content/mnist_png/training/0/37917.png',\n",
              " '/content/mnist_png/training/0/42038.png',\n",
              " '/content/mnist_png/training/0/33732.png',\n",
              " '/content/mnist_png/training/0/43149.png',\n",
              " '/content/mnist_png/training/0/29151.png',\n",
              " '/content/mnist_png/training/0/20929.png',\n",
              " '/content/mnist_png/training/0/54104.png',\n",
              " '/content/mnist_png/training/0/50476.png',\n",
              " '/content/mnist_png/training/0/53524.png',\n",
              " '/content/mnist_png/training/0/9544.png',\n",
              " '/content/mnist_png/training/0/29055.png',\n",
              " '/content/mnist_png/training/0/24189.png',\n",
              " '/content/mnist_png/training/0/25460.png',\n",
              " '/content/mnist_png/training/0/29283.png',\n",
              " '/content/mnist_png/training/0/17770.png',\n",
              " '/content/mnist_png/training/0/46144.png',\n",
              " '/content/mnist_png/training/0/32564.png',\n",
              " '/content/mnist_png/training/0/59987.png',\n",
              " '/content/mnist_png/training/0/11993.png',\n",
              " '/content/mnist_png/training/0/52397.png',\n",
              " '/content/mnist_png/training/0/59439.png',\n",
              " '/content/mnist_png/training/0/10563.png',\n",
              " '/content/mnist_png/training/0/56444.png',\n",
              " '/content/mnist_png/training/0/11914.png',\n",
              " '/content/mnist_png/training/0/47406.png',\n",
              " '/content/mnist_png/training/0/29368.png',\n",
              " '/content/mnist_png/training/0/15189.png',\n",
              " '/content/mnist_png/training/0/26840.png',\n",
              " '/content/mnist_png/training/0/57349.png',\n",
              " '/content/mnist_png/training/0/58943.png',\n",
              " '/content/mnist_png/training/0/7318.png',\n",
              " '/content/mnist_png/training/0/13734.png',\n",
              " '/content/mnist_png/training/0/20681.png',\n",
              " '/content/mnist_png/training/0/36692.png',\n",
              " '/content/mnist_png/training/0/34985.png',\n",
              " '/content/mnist_png/training/0/29559.png',\n",
              " '/content/mnist_png/training/0/35905.png',\n",
              " '/content/mnist_png/training/0/59536.png',\n",
              " '/content/mnist_png/training/0/52696.png',\n",
              " '/content/mnist_png/training/0/10259.png',\n",
              " '/content/mnist_png/training/0/57162.png',\n",
              " '/content/mnist_png/training/0/16474.png',\n",
              " '/content/mnist_png/training/0/53893.png',\n",
              " '/content/mnist_png/training/0/55254.png',\n",
              " '/content/mnist_png/training/0/32846.png',\n",
              " '/content/mnist_png/training/0/1195.png',\n",
              " '/content/mnist_png/training/0/42612.png',\n",
              " '/content/mnist_png/training/0/48547.png',\n",
              " '/content/mnist_png/training/0/1028.png',\n",
              " '/content/mnist_png/training/0/43045.png',\n",
              " '/content/mnist_png/training/0/12584.png',\n",
              " '/content/mnist_png/training/0/34582.png',\n",
              " '/content/mnist_png/training/0/50654.png',\n",
              " '/content/mnist_png/training/0/49244.png',\n",
              " '/content/mnist_png/training/0/46680.png',\n",
              " '/content/mnist_png/training/0/10022.png',\n",
              " '/content/mnist_png/training/0/38380.png',\n",
              " '/content/mnist_png/training/0/24541.png',\n",
              " '/content/mnist_png/training/0/58356.png',\n",
              " '/content/mnist_png/training/0/12217.png',\n",
              " '/content/mnist_png/training/0/24476.png',\n",
              " '/content/mnist_png/training/0/18799.png',\n",
              " '/content/mnist_png/training/0/54783.png',\n",
              " '/content/mnist_png/training/0/48612.png',\n",
              " '/content/mnist_png/training/0/47552.png',\n",
              " '/content/mnist_png/training/0/42637.png',\n",
              " '/content/mnist_png/training/0/9530.png',\n",
              " '/content/mnist_png/training/0/39839.png',\n",
              " '/content/mnist_png/training/0/2404.png',\n",
              " '/content/mnist_png/training/0/23845.png',\n",
              " '/content/mnist_png/training/0/36277.png',\n",
              " '/content/mnist_png/training/0/527.png',\n",
              " '/content/mnist_png/training/0/4265.png',\n",
              " '/content/mnist_png/training/0/8788.png',\n",
              " '/content/mnist_png/training/0/7062.png',\n",
              " '/content/mnist_png/training/0/27257.png',\n",
              " '/content/mnist_png/training/0/46654.png',\n",
              " '/content/mnist_png/training/0/55805.png',\n",
              " '/content/mnist_png/training/0/18858.png',\n",
              " '/content/mnist_png/training/0/27429.png',\n",
              " '/content/mnist_png/training/0/15825.png',\n",
              " '/content/mnist_png/training/0/53959.png',\n",
              " '/content/mnist_png/training/0/37619.png',\n",
              " '/content/mnist_png/training/0/43059.png',\n",
              " '/content/mnist_png/training/0/18219.png',\n",
              " '/content/mnist_png/training/0/7858.png',\n",
              " '/content/mnist_png/training/0/19915.png',\n",
              " '/content/mnist_png/training/0/32131.png',\n",
              " '/content/mnist_png/training/0/46785.png',\n",
              " '/content/mnist_png/training/0/8369.png',\n",
              " '/content/mnist_png/training/0/17755.png',\n",
              " '/content/mnist_png/training/0/30484.png',\n",
              " ...]"
            ]
          },
          "metadata": {
            "tags": []
          },
          "execution_count": 12
        }
      ]
    },
    {
      "cell_type": "code",
      "metadata": {
        "id": "PeWTXYIEIW4z",
        "colab_type": "code",
        "colab": {}
      },
      "source": [
        "data_paths = glob('/content/mnist_png/training/*/*.png')"
      ],
      "execution_count": 13,
      "outputs": []
    },
    {
      "cell_type": "code",
      "metadata": {
        "id": "PG8_8XxTIWxY",
        "colab_type": "code",
        "colab": {
          "base_uri": "https://localhost:8080/",
          "height": 35
        },
        "outputId": "caf27acd-f142-4fca-f8c4-689a03f519f3"
      },
      "source": [
        "data_paths[-1] # 잘 불러왔는지 확인"
      ],
      "execution_count": 14,
      "outputs": [
        {
          "output_type": "execute_result",
          "data": {
            "application/vnd.google.colaboratory.intrinsic+json": {
              "type": "string"
            },
            "text/plain": [
              "'/content/mnist_png/training/4/23269.png'"
            ]
          },
          "metadata": {
            "tags": []
          },
          "execution_count": 14
        }
      ]
    },
    {
      "cell_type": "code",
      "metadata": {
        "id": "z5NNfTSYJ0OF",
        "colab_type": "code",
        "colab": {
          "base_uri": "https://localhost:8080/",
          "height": 34
        },
        "outputId": "76f8eb01-12e9-4b22-a979-929e8a96113a"
      },
      "source": [
        "len(data_paths)"
      ],
      "execution_count": 15,
      "outputs": [
        {
          "output_type": "execute_result",
          "data": {
            "text/plain": [
              "60000"
            ]
          },
          "metadata": {
            "tags": []
          },
          "execution_count": 15
        }
      ]
    },
    {
      "cell_type": "code",
      "metadata": {
        "id": "hcjbsP-AJ42D",
        "colab_type": "code",
        "colab": {}
      },
      "source": [
        "path = data_paths[0]  # 예제로 사용할 데이터 추출"
      ],
      "execution_count": 17,
      "outputs": []
    },
    {
      "cell_type": "code",
      "metadata": {
        "id": "tQY5yEkmJ7oR",
        "colab_type": "code",
        "colab": {
          "base_uri": "https://localhost:8080/",
          "height": 35
        },
        "outputId": "e73e29fc-04ea-45f8-a907-f4a8d3ed7fbf"
      },
      "source": [
        "path"
      ],
      "execution_count": 18,
      "outputs": [
        {
          "output_type": "execute_result",
          "data": {
            "application/vnd.google.colaboratory.intrinsic+json": {
              "type": "string"
            },
            "text/plain": [
              "'/content/mnist_png/training/6/52788.png'"
            ]
          },
          "metadata": {
            "tags": []
          },
          "execution_count": 18
        }
      ]
    },
    {
      "cell_type": "markdown",
      "metadata": {
        "id": "nd1i_QWe_fgK",
        "colab_type": "text"
      },
      "source": [
        "# 데이터 분석 (MNIST)"
      ]
    },
    {
      "cell_type": "code",
      "metadata": {
        "id": "UGxJX40l_fgK",
        "colab_type": "code",
        "colab": {
          "base_uri": "https://localhost:8080/",
          "height": 34
        },
        "outputId": "39e2440f-c9a9-4a6c-b2d8-efebfabc7d16"
      },
      "source": [
        "os.listdir('/content/mnist_png/training')"
      ],
      "execution_count": 23,
      "outputs": [
        {
          "output_type": "execute_result",
          "data": {
            "text/plain": [
              "['6', '0', '1', '2', '3', '5', '8', '7', '9', '4']"
            ]
          },
          "metadata": {
            "tags": []
          },
          "execution_count": 23
        }
      ]
    },
    {
      "cell_type": "code",
      "metadata": {
        "id": "oMaW48jd_fgN",
        "colab_type": "code",
        "colab": {
          "base_uri": "https://localhost:8080/",
          "height": 34
        },
        "outputId": "b1b0169a-e27b-4d38-a8e0-ccca63099a0d"
      },
      "source": [
        "len(os.listdir('/content/mnist_png/training'))"
      ],
      "execution_count": 21,
      "outputs": [
        {
          "output_type": "execute_result",
          "data": {
            "text/plain": [
              "10"
            ]
          },
          "metadata": {
            "tags": []
          },
          "execution_count": 21
        }
      ]
    },
    {
      "cell_type": "code",
      "metadata": {
        "id": "ubSHKgni_fgQ",
        "colab_type": "code",
        "colab": {
          "base_uri": "https://localhost:8080/",
          "height": 34
        },
        "outputId": "6f1d5719-0346-4ee8-c6de-7a9c4470225d"
      },
      "source": [
        "label_nums = os.listdir('/content/mnist_png/training')\n",
        "label_nums"
      ],
      "execution_count": 22,
      "outputs": [
        {
          "output_type": "execute_result",
          "data": {
            "text/plain": [
              "['6', '0', '1', '2', '3', '5', '8', '7', '9', '4']"
            ]
          },
          "metadata": {
            "tags": []
          },
          "execution_count": 22
        }
      ]
    },
    {
      "cell_type": "code",
      "metadata": {
        "id": "gXyS1v6rK2sP",
        "colab_type": "code",
        "colab": {}
      },
      "source": [
        "label_nums.sort() # 강의 실습환경과 동일하게 맞춰줌."
      ],
      "execution_count": 24,
      "outputs": []
    },
    {
      "cell_type": "code",
      "metadata": {
        "id": "Hh9kt2sEK5FO",
        "colab_type": "code",
        "colab": {
          "base_uri": "https://localhost:8080/",
          "height": 34
        },
        "outputId": "09b9777f-36cc-4e06-c36b-5b69e77cc273"
      },
      "source": [
        "label_nums"
      ],
      "execution_count": 25,
      "outputs": [
        {
          "output_type": "execute_result",
          "data": {
            "text/plain": [
              "['0', '1', '2', '3', '4', '5', '6', '7', '8', '9']"
            ]
          },
          "metadata": {
            "tags": []
          },
          "execution_count": 25
        }
      ]
    },
    {
      "cell_type": "markdown",
      "metadata": {
        "id": "0XNw2VlQ_fgS",
        "colab_type": "text"
      },
      "source": [
        "Label 0의 데이터 갯수 확인"
      ]
    },
    {
      "cell_type": "markdown",
      "metadata": {
        "id": "5R2MUl-gL5Hi",
        "colab_type": "text"
      },
      "source": [
        "## **데이터별 갯수 비교**"
      ]
    },
    {
      "cell_type": "code",
      "metadata": {
        "id": "kFH-_FF5_fgS",
        "colab_type": "code",
        "colab": {}
      },
      "source": [
        "nums_dataset = []\n",
        "\n",
        "for lbl_n in label_nums:\n",
        "  data_per_class = os.listdir('/content/mnist_png/training/' + lbl_n)\n",
        "  nums_dataset.append(len(data_per_class))"
      ],
      "execution_count": 31,
      "outputs": []
    },
    {
      "cell_type": "code",
      "metadata": {
        "id": "tYvSlGdULbcu",
        "colab_type": "code",
        "colab": {
          "base_uri": "https://localhost:8080/",
          "height": 34
        },
        "outputId": "27070918-3338-4906-e638-4ec9812dab98"
      },
      "source": [
        "nums_dataset"
      ],
      "execution_count": 29,
      "outputs": [
        {
          "output_type": "execute_result",
          "data": {
            "text/plain": [
              "[5923, 6742, 5958, 6131, 5842, 5421, 5918, 6265, 5851, 5949]"
            ]
          },
          "metadata": {
            "tags": []
          },
          "execution_count": 29
        }
      ]
    },
    {
      "cell_type": "code",
      "metadata": {
        "id": "dx3oUTH3LuDD",
        "colab_type": "code",
        "colab": {
          "base_uri": "https://localhost:8080/",
          "height": 281
        },
        "outputId": "a803c55b-0422-43d3-ea56-a53f36f7aaa3"
      },
      "source": [
        "plt.bar(label_nums, nums_dataset)\n",
        "plt.title('Number of Dataset per classes')\n",
        "plt.show()"
      ],
      "execution_count": 30,
      "outputs": [
        {
          "output_type": "display_data",
          "data": {
            "image/png": "[encoded data removed]",
            "text/plain": [
              "<Figure size 432x288 with 1 Axes>"
            ]
          },
          "metadata": {
            "tags": [],
            "needs_background": "light"
          }
        }
      ]
    },
    {
      "cell_type": "markdown",
      "metadata": {
        "id": "oasu_N4M_fga",
        "colab_type": "text"
      },
      "source": [
        "# Pillow로 열기"
      ]
    },
    {
      "cell_type": "code",
      "metadata": {
        "id": "BNvbhvOV_fgb",
        "colab_type": "code",
        "colab": {
          "base_uri": "https://localhost:8080/",
          "height": 35
        },
        "outputId": "2c3f79a3-7db8-4012-edc6-83c66d008f8f"
      },
      "source": [
        "path # 정렬하기 전에 추출된 예시데이터이기 때문에 강의에서는 0/1.PNG 이지만, 여기서는 임의추출된 6/52788.PNG  .- 실습에 문제 없음."
      ],
      "execution_count": 32,
      "outputs": [
        {
          "output_type": "execute_result",
          "data": {
            "application/vnd.google.colaboratory.intrinsic+json": {
              "type": "string"
            },
            "text/plain": [
              "'/content/mnist_png/training/6/52788.png'"
            ]
          },
          "metadata": {
            "tags": []
          },
          "execution_count": 32
        }
      ]
    },
    {
      "cell_type": "code",
      "metadata": {
        "id": "Na9Hk2xy_fgc",
        "colab_type": "code",
        "colab": {}
      },
      "source": [
        "image_pil = Image.open(path)\n",
        "image = np.array(image_pil)"
      ],
      "execution_count": 33,
      "outputs": []
    },
    {
      "cell_type": "code",
      "metadata": {
        "id": "qnjBb4Ce_fgd",
        "colab_type": "code",
        "colab": {
          "base_uri": "https://localhost:8080/",
          "height": 34
        },
        "outputId": "5a1d759d-f82d-47ac-c0c4-95b1bc693ec1"
      },
      "source": [
        "image.shape"
      ],
      "execution_count": 34,
      "outputs": [
        {
          "output_type": "execute_result",
          "data": {
            "text/plain": [
              "(28, 28)"
            ]
          },
          "metadata": {
            "tags": []
          },
          "execution_count": 34
        }
      ]
    },
    {
      "cell_type": "code",
      "metadata": {
        "id": "DNzF7zY0ML3c",
        "colab_type": "code",
        "colab": {
          "base_uri": "https://localhost:8080/",
          "height": 265
        },
        "outputId": "a1eaef1e-dc9e-4db4-f654-ca2cb17eb60b"
      },
      "source": [
        "plt.imshow(image, 'gray')\n",
        "plt.show()"
      ],
      "execution_count": 35,
      "outputs": [
        {
          "output_type": "display_data",
          "data": {
            "image/png": "[encoded data removed]",
            "text/plain": [
              "<Figure size 432x288 with 1 Axes>"
            ]
          },
          "metadata": {
            "tags": [],
            "needs_background": "light"
          }
        }
      ]
    },
    {
      "cell_type": "markdown",
      "metadata": {
        "id": "CN0eR3YR_fge",
        "colab_type": "text"
      },
      "source": [
        "# TensorFlow로 열기"
      ]
    },
    {
      "cell_type": "code",
      "metadata": {
        "id": "kZA_q8fu_fgf",
        "colab_type": "code",
        "colab": {}
      },
      "source": [
        "gfile = tf.io.read_file(path)\n",
        "image = tf.io.decode_image(gfile)"
      ],
      "execution_count": 36,
      "outputs": []
    },
    {
      "cell_type": "code",
      "metadata": {
        "id": "dfh1IxBY_fgg",
        "colab_type": "code",
        "colab": {
          "base_uri": "https://localhost:8080/",
          "height": 34
        },
        "outputId": "d8c3cfe2-64b7-4e68-c7b1-ebbe32441bba"
      },
      "source": [
        "image.shape # 출력값 : [28, 28, 1] -> 채널이 들어가 있음. 3차원 default"
      ],
      "execution_count": 37,
      "outputs": [
        {
          "output_type": "execute_result",
          "data": {
            "text/plain": [
              "TensorShape([28, 28, 1])"
            ]
          },
          "metadata": {
            "tags": []
          },
          "execution_count": 37
        }
      ]
    },
    {
      "cell_type": "code",
      "metadata": {
        "scrolled": true,
        "id": "zvd7-9bX_fgh",
        "colab_type": "code",
        "colab": {
          "base_uri": "https://localhost:8080/",
          "height": 265
        },
        "outputId": "477cc0cb-b107-428d-ad7f-6971cac7a5b7"
      },
      "source": [
        "#plt.imshow(image, 'gray') -> typeError. 채널이 들어가 있기 때문에 채널을 0으로 맞추고 출력해줘야함\n",
        "plt.imshow(image[:,:,0], 'gray')\n",
        "plt.show()"
      ],
      "execution_count": 39,
      "outputs": [
        {
          "output_type": "display_data",
          "data": {
            "image/png": "[encoded data removed]",
            "text/plain": [
              "<Figure size 432x288 with 1 Axes>"
            ]
          },
          "metadata": {
            "tags": [],
            "needs_background": "light"
          }
        }
      ]
    },
    {
      "cell_type": "markdown",
      "metadata": {
        "id": "e-AyNYUp_fgi",
        "colab_type": "text"
      },
      "source": [
        "# Label 얻기"
      ]
    },
    {
      "cell_type": "code",
      "metadata": {
        "id": "UvBSwjE3_fgi",
        "colab_type": "code",
        "colab": {
          "base_uri": "https://localhost:8080/",
          "height": 35
        },
        "outputId": "dffe83ea-1fa5-4f38-c39e-b3cb0251dc44"
      },
      "source": [
        "path"
      ],
      "execution_count": 40,
      "outputs": [
        {
          "output_type": "execute_result",
          "data": {
            "application/vnd.google.colaboratory.intrinsic+json": {
              "type": "string"
            },
            "text/plain": [
              "'/content/mnist_png/training/6/52788.png'"
            ]
          },
          "metadata": {
            "tags": []
          },
          "execution_count": 40
        }
      ]
    },
    {
      "cell_type": "code",
      "metadata": {
        "id": "lcX6yKiH_fgk",
        "colab_type": "code",
        "colab": {
          "base_uri": "https://localhost:8080/",
          "height": 34
        },
        "outputId": "e4b804af-9ab0-4e4f-bc5e-848d3c220080"
      },
      "source": [
        "path.split('/')"
      ],
      "execution_count": 41,
      "outputs": [
        {
          "output_type": "execute_result",
          "data": {
            "text/plain": [
              "['', 'content', 'mnist_png', 'training', '6', '52788.png']"
            ]
          },
          "metadata": {
            "tags": []
          },
          "execution_count": 41
        }
      ]
    },
    {
      "cell_type": "code",
      "metadata": {
        "id": "Jik0DfNt_fgp",
        "colab_type": "code",
        "colab": {
          "base_uri": "https://localhost:8080/",
          "height": 35
        },
        "outputId": "196377f5-3755-4f22-cee8-ed637838a3e7"
      },
      "source": [
        "path.split('/')[-2]"
      ],
      "execution_count": 42,
      "outputs": [
        {
          "output_type": "execute_result",
          "data": {
            "application/vnd.google.colaboratory.intrinsic+json": {
              "type": "string"
            },
            "text/plain": [
              "'6'"
            ]
          },
          "metadata": {
            "tags": []
          },
          "execution_count": 42
        }
      ]
    },
    {
      "cell_type": "code",
      "metadata": {
        "id": "sWoKSETuNrMJ",
        "colab_type": "code",
        "colab": {
          "base_uri": "https://localhost:8080/",
          "height": 34
        },
        "outputId": "b8a9c0c7-607b-4980-9109-771b058e4cd5"
      },
      "source": [
        "type(path.split('/')[-2])"
      ],
      "execution_count": 45,
      "outputs": [
        {
          "output_type": "execute_result",
          "data": {
            "text/plain": [
              "str"
            ]
          },
          "metadata": {
            "tags": []
          },
          "execution_count": 45
        }
      ]
    },
    {
      "cell_type": "code",
      "metadata": {
        "id": "1iZO7Eo9NySR",
        "colab_type": "code",
        "colab": {}
      },
      "source": [
        "def get_label(path):\n",
        "  class_name = path.split('/')[-2]\n",
        "  label = int(class_name)\n",
        "  return label"
      ],
      "execution_count": 46,
      "outputs": []
    },
    {
      "cell_type": "code",
      "metadata": {
        "id": "twrYsQffNyCw",
        "colab_type": "code",
        "colab": {
          "base_uri": "https://localhost:8080/",
          "height": 34
        },
        "outputId": "5c6862c4-df1c-4361-9ded-238414182cde"
      },
      "source": [
        "path, get_label(path)"
      ],
      "execution_count": 47,
      "outputs": [
        {
          "output_type": "execute_result",
          "data": {
            "text/plain": [
              "('/content/mnist_png/training/6/52788.png', 6)"
            ]
          },
          "metadata": {
            "tags": []
          },
          "execution_count": 47
        }
      ]
    },
    {
      "cell_type": "markdown",
      "metadata": {
        "id": "_FYdlDfQ_fgq",
        "colab_type": "text"
      },
      "source": [
        "# 데이터 이미지 사이즈 알기"
      ]
    },
    {
      "cell_type": "code",
      "metadata": {
        "id": "79Ypj1YW_fgq",
        "colab_type": "code",
        "colab": {}
      },
      "source": [
        "from tqdm import tqdm_notebook"
      ],
      "execution_count": 48,
      "outputs": []
    },
    {
      "cell_type": "code",
      "metadata": {
        "id": "K7PEKYDV_fgr",
        "colab_type": "code",
        "colab": {}
      },
      "source": [
        "heights = []\n",
        "widths = []"
      ],
      "execution_count": 49,
      "outputs": []
    },
    {
      "cell_type": "code",
      "metadata": {
        "id": "IveekJHC_fgs",
        "colab_type": "code",
        "colab": {
          "base_uri": "https://localhost:8080/",
          "height": 193
        },
        "outputId": "443bcd20-2c90-4345-ac21-b7724a0fdbd3"
      },
      "source": [
        "data_paths[:10]"
      ],
      "execution_count": 50,
      "outputs": [
        {
          "output_type": "execute_result",
          "data": {
            "text/plain": [
              "['/content/mnist_png/training/6/52788.png',\n",
              " '/content/mnist_png/training/6/48886.png',\n",
              " '/content/mnist_png/training/6/29370.png',\n",
              " '/content/mnist_png/training/6/21290.png',\n",
              " '/content/mnist_png/training/6/22869.png',\n",
              " '/content/mnist_png/training/6/24146.png',\n",
              " '/content/mnist_png/training/6/7717.png',\n",
              " '/content/mnist_png/training/6/56441.png',\n",
              " '/content/mnist_png/training/6/4934.png',\n",
              " '/content/mnist_png/training/6/8009.png']"
            ]
          },
          "metadata": {
            "tags": []
          },
          "execution_count": 50
        }
      ]
    },
    {
      "cell_type": "code",
      "metadata": {
        "id": "UTDioOLNOcud",
        "colab_type": "code",
        "colab": {
          "base_uri": "https://localhost:8080/",
          "height": 34
        },
        "outputId": "0cf6ea9b-ec94-4ab8-9d1a-5ae15a334270"
      },
      "source": [
        "len(data_paths)"
      ],
      "execution_count": 51,
      "outputs": [
        {
          "output_type": "execute_result",
          "data": {
            "text/plain": [
              "60000"
            ]
          },
          "metadata": {
            "tags": []
          },
          "execution_count": 51
        }
      ]
    },
    {
      "cell_type": "code",
      "metadata": {
        "id": "M_a1Xl3iOlGl",
        "colab_type": "code",
        "colab": {
          "base_uri": "https://localhost:8080/",
          "height": 34
        },
        "outputId": "38152f4d-6ae7-4797-b97b-84bc0996aa61"
      },
      "source": [
        "image.shape"
      ],
      "execution_count": 52,
      "outputs": [
        {
          "output_type": "execute_result",
          "data": {
            "text/plain": [
              "TensorShape([28, 28, 1])"
            ]
          },
          "metadata": {
            "tags": []
          },
          "execution_count": 52
        }
      ]
    },
    {
      "cell_type": "code",
      "metadata": {
        "id": "rGlHpwiWOnce",
        "colab_type": "code",
        "colab": {
          "base_uri": "https://localhost:8080/",
          "height": 34
        },
        "outputId": "2783d04b-8b8c-47d9-8b17-2e927a2b03c0"
      },
      "source": [
        "img_pil = Image.open(path)\n",
        "image = np.array(img_pil)\n",
        "image.shape"
      ],
      "execution_count": 53,
      "outputs": [
        {
          "output_type": "execute_result",
          "data": {
            "text/plain": [
              "(28, 28)"
            ]
          },
          "metadata": {
            "tags": []
          },
          "execution_count": 53
        }
      ]
    },
    {
      "cell_type": "code",
      "metadata": {
        "id": "yJi7_0YKOxvT",
        "colab_type": "code",
        "colab": {}
      },
      "source": [
        "h, w = image.shape"
      ],
      "execution_count": 54,
      "outputs": []
    },
    {
      "cell_type": "code",
      "metadata": {
        "id": "Q3W3HYu2Oeii",
        "colab_type": "code",
        "colab": {
          "base_uri": "https://localhost:8080/",
          "height": 119,
          "referenced_widgets": [
            "8effd3d645494ec1a74802d3c22d0058",
            "e4f7032e245b4827a05788c1b9d319b3",
            "3dab96a209d144d4829315de1fc8ad30",
            "12dcc66aa7a14939ab9d5a7e3c1dac67",
            "c505b84615fa455fae08c24ac2232f26",
            "b99f69134adc4108922110bfcc92d4f6",
            "51603f0bdbba444cb465b219e396ed06",
            "fd029783d5794c30a4e2887c6a7ca949"
          ]
        },
        "outputId": "1fc7ba6c-bb3c-4af9-d5d3-d2f145a11c03"
      },
      "source": [
        "#for path in data_paths:  --> 데이터 추출량이 많기 때문에 진행과정을 시각화해보면 좋음.\n",
        "for path in tqdm_notebook(data_paths):\n",
        "  img_pil = Image.open(path)\n",
        "  image = np.array(image_pil)\n",
        "  h, w = image.shape\n",
        "\n",
        "  heights.append(h)\n",
        "  widths.append(w)\n"
      ],
      "execution_count": 56,
      "outputs": [
        {
          "output_type": "stream",
          "text": [
            "/usr/local/lib/python3.6/dist-packages/ipykernel_launcher.py:2: TqdmDeprecationWarning: This function will be removed in tqdm==5.0.0\n",
            "Please use `tqdm.notebook.tqdm` instead of `tqdm.tqdm_notebook`\n",
            "  \n"
          ],
          "name": "stderr"
        },
        {
          "output_type": "display_data",
          "data": {
            "application/vnd.jupyter.widget-view+json": {
              "model_id": "8effd3d645494ec1a74802d3c22d0058",
              "version_minor": 0,
              "version_major": 2
            },
            "text/plain": [
              "HBox(children=(FloatProgress(value=0.0, max=60000.0), HTML(value='')))"
            ]
          },
          "metadata": {
            "tags": []
          }
        },
        {
          "output_type": "stream",
          "text": [
            "\n"
          ],
          "name": "stdout"
        }
      ]
    },
    {
      "cell_type": "code",
      "metadata": {
        "id": "Inrcm5qWPC-a",
        "colab_type": "code",
        "colab": {
          "base_uri": "https://localhost:8080/",
          "height": 34
        },
        "outputId": "86a55fbe-bd18-4775-ea39-b2fe899cd1ec"
      },
      "source": [
        "np.unique(heights)"
      ],
      "execution_count": 57,
      "outputs": [
        {
          "output_type": "execute_result",
          "data": {
            "text/plain": [
              "array([28])"
            ]
          },
          "metadata": {
            "tags": []
          },
          "execution_count": 57
        }
      ]
    },
    {
      "cell_type": "code",
      "metadata": {
        "id": "pmEk06a_PH1C",
        "colab_type": "code",
        "colab": {
          "base_uri": "https://localhost:8080/",
          "height": 34
        },
        "outputId": "7e911ea5-f3e9-4af8-e430-8f9770223988"
      },
      "source": [
        "np.unique(widths)"
      ],
      "execution_count": 58,
      "outputs": [
        {
          "output_type": "execute_result",
          "data": {
            "text/plain": [
              "array([28])"
            ]
          },
          "metadata": {
            "tags": []
          },
          "execution_count": 58
        }
      ]
    },
    {
      "cell_type": "code",
      "metadata": {
        "id": "KEo3vfJ3PJaG",
        "colab_type": "code",
        "colab": {
          "base_uri": "https://localhost:8080/",
          "height": 579
        },
        "outputId": "285c771e-9354-440c-be2b-27c06717fe63"
      },
      "source": [
        "plt.figure(figsize=(20,10))\n",
        "plt.subplot(121)\n",
        "plt.hist(heights)\n",
        "plt.title('Heights')\n",
        "plt.axvline(np.mean(heights), color='r', linestyle = 'dashed', linewidth=2)\n",
        "\n",
        "plt.subplot(122)\n",
        "plt.hist(widths)\n",
        "plt.title('Widths')\n",
        "plt.axvline(np.mean(heights), color='r', linestyle = 'dashed', linewidth=2)\n",
        "\n",
        "plt.show()"
      ],
      "execution_count": 61,
      "outputs": [
        {
          "output_type": "display_data",
          "data": {
            "image/png": "[encoded data removed]",
            "text/plain": [
              "<Figure size 1440x720 with 2 Axes>"
            ]
          },
          "metadata": {
            "tags": [],
            "needs_background": "light"
          }
        }
      ]
    },
    {
      "cell_type": "code",
      "metadata": {
        "id": "lt-ThowJPTvI",
        "colab_type": "code",
        "colab": {}
      },
      "source": [
        ""
      ],
      "execution_count": null,
      "outputs": []
    }
  ]
}