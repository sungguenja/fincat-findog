{
  "nbformat": 4,
  "nbformat_minor": 0,
  "metadata": {
    "kernelspec": {
      "display_name": "Python 3",
      "language": "python",
      "name": "python3"
    },
    "language_info": {
      "codemirror_mode": {
        "name": "ipython",
        "version": 3
      },
      "file_extension": ".py",
      "mimetype": "text/x-python",
      "name": "python",
      "nbconvert_exporter": "python",
      "pygments_lexer": "ipython3",
      "version": "3.7.3"
    },
    "colab": {
      "name": "[검수완료]08. flow_from_dataframe - dataframe 적용하여 학습 시키기.ipynb",
      "provenance": [],
      "toc_visible": true
    }
  },
  "cells": [
    {
      "cell_type": "markdown",
      "metadata": {
        "id": "WFzD8kIfy7Kv",
        "colab_type": "text"
      },
      "source": [
        "https://keras.io/preprocessing/image/"
      ]
    },
    {
      "cell_type": "markdown",
      "metadata": {
        "id": "pmMkinZay7Kw",
        "colab_type": "text"
      },
      "source": [
        "# TensorFlow 2.0"
      ]
    },
    {
      "cell_type": "code",
      "metadata": {
        "id": "xjnX5DHFy7Ky",
        "colab_type": "code",
        "colab": {}
      },
      "source": [
        "import tensorflow as tf\n",
        "from tensorflow.keras import layers\n",
        "\n",
        "from tensorflow.keras import datasets \n",
        "from tensorflow.keras.preprocessing.image import ImageDataGenerator"
      ],
      "execution_count": 1,
      "outputs": []
    },
    {
      "cell_type": "markdown",
      "metadata": {
        "id": "GkNidFDLzrjx",
        "colab_type": "text"
      },
      "source": [
        "# 복습\n",
        "- cifar 데이터 프레임 생성 후 csv로 저장하는 것 까지 복습합니다."
      ]
    },
    {
      "cell_type": "code",
      "metadata": {
        "id": "9TzloHcU0Y_J",
        "colab_type": "code",
        "colab": {}
      },
      "source": [
        "import os\n",
        "from glob import glob\n",
        "\n",
        "import numpy as np\n",
        "import pandas as pd\n",
        "import matplotlib.pyplot as plt"
      ],
      "execution_count": 8,
      "outputs": []
    },
    {
      "cell_type": "code",
      "metadata": {
        "id": "KjJB4TnYzh80",
        "colab_type": "code",
        "colab": {
          "base_uri": "https://localhost:8080/",
          "height": 122
        },
        "outputId": "6bf1c628-b22b-4a6f-d189-6d815019ea14"
      },
      "source": [
        "from google.colab import drive\n",
        "drive.mount('/content/drive')"
      ],
      "execution_count": 5,
      "outputs": [
        {
          "output_type": "stream",
          "text": [
            "Go to this URL in a browser: https://accounts.google.com/o/oauth2/auth?client_id=947318989803-6bn6qk8qdgf4n4g3pfee6491hc0brc4i.apps.googleusercontent.com&redirect_uri=urn%3aietf%3awg%3aoauth%3a2.0%3aoob&response_type=code&scope=email%20https%3a%2f%2fwww.googleapis.com%2fauth%2fdocs.test%20https%3a%2f%2fwww.googleapis.com%2fauth%2fdrive%20https%3a%2f%2fwww.googleapis.com%2fauth%2fdrive.photos.readonly%20https%3a%2f%2fwww.googleapis.com%2fauth%2fpeopleapi.readonly\n",
            "\n",
            "Enter your authorization code:\n",
            "··········\n",
            "Mounted at /content/drive\n"
          ],
          "name": "stdout"
        }
      ]
    },
    {
      "cell_type": "code",
      "metadata": {
        "id": "QM99PEaZznak",
        "colab_type": "code",
        "colab": {}
      },
      "source": [
        "# 압축 풀기\n",
        "!unzip -qq /content/drive/\"My Drive\"/\"[AOP:딥러닝 인공지능]\"/TEST/\"1. [Tensorflow 2.0 과 Pytorch]\"/\"3. 이미지 분석으로 배우는 tensorflow 2.0과 Pytorch\"/\"3. dataset\"/cifar.zip\n"
      ],
      "execution_count": 6,
      "outputs": []
    },
    {
      "cell_type": "code",
      "metadata": {
        "id": "i1H1uywh0N4w",
        "colab_type": "code",
        "colab": {}
      },
      "source": [
        "# train, test 경로 저장(label 처리를 위한 작업)\n",
        "train_paths = glob('/content/cifar/train/*.png')\n",
        "test_paths = glob('/content/cifar/test/*.png')"
      ],
      "execution_count": 9,
      "outputs": []
    },
    {
      "cell_type": "code",
      "metadata": {
        "id": "rIk_p4JT0Nhc",
        "colab_type": "code",
        "colab": {}
      },
      "source": [
        "# 강의와 환경 맞추기\n",
        "train_paths.sort()\n",
        "test_paths.sort()"
      ],
      "execution_count": 10,
      "outputs": []
    },
    {
      "cell_type": "code",
      "metadata": {
        "id": "K3LM99ei0gPD",
        "colab_type": "code",
        "colab": {
          "base_uri": "https://localhost:8080/",
          "height": 37
        },
        "outputId": "9579a2bd-70ae-45ee-de61-33b5ac98f6fe"
      },
      "source": [
        "# 테스트용 첫번째 이미지 경로 저장\n",
        "path = train_paths[0]\n",
        "path"
      ],
      "execution_count": 14,
      "outputs": [
        {
          "output_type": "execute_result",
          "data": {
            "application/vnd.google.colaboratory.intrinsic+json": {
              "type": "string"
            },
            "text/plain": [
              "'/content/cifar/train/0_frog.png'"
            ]
          },
          "metadata": {
            "tags": []
          },
          "execution_count": 14
        }
      ]
    },
    {
      "cell_type": "code",
      "metadata": {
        "id": "6BsFaxmb0sl3",
        "colab_type": "code",
        "colab": {
          "base_uri": "https://localhost:8080/",
          "height": 37
        },
        "outputId": "e594e47e-44bb-4299-9df9-9466e35f72a5"
      },
      "source": [
        "# 파일 이름만 뽑아봄.\n",
        "os.path.basename(path)"
      ],
      "execution_count": 15,
      "outputs": [
        {
          "output_type": "execute_result",
          "data": {
            "application/vnd.google.colaboratory.intrinsic+json": {
              "type": "string"
            },
            "text/plain": [
              "'0_frog.png'"
            ]
          },
          "metadata": {
            "tags": []
          },
          "execution_count": 15
        }
      ]
    },
    {
      "cell_type": "code",
      "metadata": {
        "id": "MyJRdruy0ymm",
        "colab_type": "code",
        "colab": {}
      },
      "source": [
        "# 파일 이름만 뽑고, 파일 이름 중 라벨 단어만 추출\n",
        "def get_class_name(path):\n",
        "  fname = os.path.basename(path)\n",
        "  cls_name = fname.replace('.png', '').split('_')[-1]\n",
        "  return cls_name"
      ],
      "execution_count": 16,
      "outputs": []
    },
    {
      "cell_type": "code",
      "metadata": {
        "id": "WRVquOU_0-Nh",
        "colab_type": "code",
        "colab": {
          "base_uri": "https://localhost:8080/",
          "height": 34
        },
        "outputId": "8ebaeac6-603c-4dce-d645-038f1bb519e9"
      },
      "source": [
        "# 잘 동작하는지 테스트\n",
        "cls_name = get_class_name(path)\n",
        "path, cls_name"
      ],
      "execution_count": 18,
      "outputs": [
        {
          "output_type": "execute_result",
          "data": {
            "text/plain": [
              "('/content/cifar/train/0_frog.png', 'frog')"
            ]
          },
          "metadata": {
            "tags": []
          },
          "execution_count": 18
        }
      ]
    },
    {
      "cell_type": "code",
      "metadata": {
        "id": "nIB0S21x1Ddq",
        "colab_type": "code",
        "colab": {}
      },
      "source": [
        "# 라벨 이름들을 배열로 저장한다.\n",
        "class_names = [get_class_name(path) for path in train_paths]\n"
      ],
      "execution_count": 19,
      "outputs": []
    },
    {
      "cell_type": "code",
      "metadata": {
        "id": "RK26h4J71Vw3",
        "colab_type": "code",
        "colab": {
          "base_uri": "https://localhost:8080/",
          "height": 34
        },
        "outputId": "1452599e-af5d-4422-c49e-2f0b5e65b4b9"
      },
      "source": [
        "# 잘 들어갔는지 확인\n",
        "len(class_names)"
      ],
      "execution_count": 20,
      "outputs": [
        {
          "output_type": "execute_result",
          "data": {
            "text/plain": [
              "50000"
            ]
          },
          "metadata": {
            "tags": []
          },
          "execution_count": 20
        }
      ]
    },
    {
      "cell_type": "code",
      "metadata": {
        "id": "4iN8VtoK1VqH",
        "colab_type": "code",
        "colab": {
          "base_uri": "https://localhost:8080/",
          "height": 187
        },
        "outputId": "1f3e5d6e-ef3f-4e22-e171-7a37e50dcbed"
      },
      "source": [
        "# 데이터를 일부만 확인해보면 당연하게도 중복이 있습니다. \n",
        "class_names[:10]"
      ],
      "execution_count": 21,
      "outputs": [
        {
          "output_type": "execute_result",
          "data": {
            "text/plain": [
              "['frog',\n",
              " 'automobile',\n",
              " 'frog',\n",
              " 'frog',\n",
              " 'ship',\n",
              " 'ship',\n",
              " 'cat',\n",
              " 'deer',\n",
              " 'frog',\n",
              " 'airplane']"
            ]
          },
          "metadata": {
            "tags": []
          },
          "execution_count": 21
        }
      ]
    },
    {
      "cell_type": "code",
      "metadata": {
        "id": "muUmT_Jc10nG",
        "colab_type": "code",
        "colab": {
          "base_uri": "https://localhost:8080/",
          "height": 51
        },
        "outputId": "466289c8-de5d-485e-aa2a-55bad77fac7d"
      },
      "source": [
        "# 라벨링을 위해 불필요한 중복 요소는 제거합니다. 먼저, 테스트해봅니다.\n",
        "np.unique(class_names)"
      ],
      "execution_count": 22,
      "outputs": [
        {
          "output_type": "execute_result",
          "data": {
            "text/plain": [
              "array(['airplane', 'automobile', 'bird', 'cat', 'deer', 'dog', 'frog',\n",
              "       'horse', 'ship', 'truck'], dtype='<U10')"
            ]
          },
          "metadata": {
            "tags": []
          },
          "execution_count": 22
        }
      ]
    },
    {
      "cell_type": "code",
      "metadata": {
        "id": "g3bB3ciM2Auz",
        "colab_type": "code",
        "colab": {
          "base_uri": "https://localhost:8080/",
          "height": 68
        },
        "outputId": "8c82ced7-a1e0-460f-83ad-30546d48fb15"
      },
      "source": [
        "# 중복을 제거하면서 return_counts를 통해 중복 라벨 수를 확인해봅니다.\n",
        "uniques = np.unique(class_names, return_counts=True)\n",
        "uniques"
      ],
      "execution_count": 24,
      "outputs": [
        {
          "output_type": "execute_result",
          "data": {
            "text/plain": [
              "(array(['airplane', 'automobile', 'bird', 'cat', 'deer', 'dog', 'frog',\n",
              "        'horse', 'ship', 'truck'], dtype='<U10'),\n",
              " array([5000, 5000, 5000, 5000, 5000, 5000, 5000, 5000, 5000, 5000]))"
            ]
          },
          "metadata": {
            "tags": []
          },
          "execution_count": 24
        }
      ]
    },
    {
      "cell_type": "code",
      "metadata": {
        "id": "x5ZHAL-42Y_u",
        "colab_type": "code",
        "colab": {
          "base_uri": "https://localhost:8080/",
          "height": 302
        },
        "outputId": "1190a56d-8236-485e-f748-a1012d9c24a1"
      },
      "source": [
        "# 시각화도 해볼 수 있습니다.\n",
        "plt.bar(*uniques)\n",
        "# 혹은 plt.bar(uniques[0], uniques[1])\n",
        "plt.xticks(rotation=45) # x축 글자 잘보이게 회전\n",
        "plt.show()"
      ],
      "execution_count": 25,
      "outputs": [
        {
          "output_type": "display_data",
          "data": {
            "image/png": "[encoded data removed]",
            "text/plain": [
              "<Figure size 432x288 with 1 Axes>"
            ]
          },
          "metadata": {
            "tags": [],
            "needs_background": "light"
          }
        }
      ]
    },
    {
      "cell_type": "code",
      "metadata": {
        "id": "tSD8mqOE3pg_",
        "colab_type": "code",
        "colab": {
          "base_uri": "https://localhost:8080/",
          "height": 34
        },
        "outputId": "a7cf75cd-8bc9-4042-e97d-94e3c4df2f5f"
      },
      "source": [
        "# 데이터프레임을 생성하기 전에 생김새를 다시 확인해봅니다.\n",
        "train_paths[0], class_names[0] "
      ],
      "execution_count": 26,
      "outputs": [
        {
          "output_type": "execute_result",
          "data": {
            "text/plain": [
              "('/content/cifar/train/0_frog.png', 'frog')"
            ]
          },
          "metadata": {
            "tags": []
          },
          "execution_count": 26
        }
      ]
    },
    {
      "cell_type": "code",
      "metadata": {
        "id": "DJyqcNFr32IZ",
        "colab_type": "code",
        "colab": {}
      },
      "source": [
        "# 딕셔너리 먼저 생성\n",
        "data = {'name': train_paths, 'class': class_names}"
      ],
      "execution_count": 30,
      "outputs": []
    },
    {
      "cell_type": "code",
      "metadata": {
        "id": "9PSvWcn34aXn",
        "colab_type": "code",
        "colab": {
          "base_uri": "https://localhost:8080/",
          "height": 204
        },
        "outputId": "fc226468-41de-4b7f-fdc7-49c8a7de3980"
      },
      "source": [
        "# 판다스로 데이터프레임 생성\n",
        "train_df = pd.DataFrame(data)\n",
        "train_df.head()"
      ],
      "execution_count": 31,
      "outputs": [
        {
          "output_type": "execute_result",
          "data": {
            "text/html": [
              "<div>\n",
              "<style scoped>\n",
              "    .dataframe tbody tr th:only-of-type {\n",
              "        vertical-align: middle;\n",
              "    }\n",
              "\n",
              "    .dataframe tbody tr th {\n",
              "        vertical-align: top;\n",
              "    }\n",
              "\n",
              "    .dataframe thead th {\n",
              "        text-align: right;\n",
              "    }\n",
              "</style>\n",
              "<table border=\"1\" class=\"dataframe\">\n",
              "  <thead>\n",
              "    <tr style=\"text-align: right;\">\n",
              "      <th></th>\n",
              "      <th>name</th>\n",
              "      <th>class</th>\n",
              "    </tr>\n",
              "  </thead>\n",
              "  <tbody>\n",
              "    <tr>\n",
              "      <th>0</th>\n",
              "      <td>/content/cifar/train/0_frog.png</td>\n",
              "      <td>frog</td>\n",
              "    </tr>\n",
              "    <tr>\n",
              "      <th>1</th>\n",
              "      <td>/content/cifar/train/10000_automobile.png</td>\n",
              "      <td>automobile</td>\n",
              "    </tr>\n",
              "    <tr>\n",
              "      <th>2</th>\n",
              "      <td>/content/cifar/train/10001_frog.png</td>\n",
              "      <td>frog</td>\n",
              "    </tr>\n",
              "    <tr>\n",
              "      <th>3</th>\n",
              "      <td>/content/cifar/train/10002_frog.png</td>\n",
              "      <td>frog</td>\n",
              "    </tr>\n",
              "    <tr>\n",
              "      <th>4</th>\n",
              "      <td>/content/cifar/train/10003_ship.png</td>\n",
              "      <td>ship</td>\n",
              "    </tr>\n",
              "  </tbody>\n",
              "</table>\n",
              "</div>"
            ],
            "text/plain": [
              "                                        name       class\n",
              "0            /content/cifar/train/0_frog.png        frog\n",
              "1  /content/cifar/train/10000_automobile.png  automobile\n",
              "2        /content/cifar/train/10001_frog.png        frog\n",
              "3        /content/cifar/train/10002_frog.png        frog\n",
              "4        /content/cifar/train/10003_ship.png        ship"
            ]
          },
          "metadata": {
            "tags": []
          },
          "execution_count": 31
        }
      ]
    },
    {
      "cell_type": "code",
      "metadata": {
        "id": "_rUyieoZ32AV",
        "colab_type": "code",
        "colab": {
          "base_uri": "https://localhost:8080/",
          "height": 204
        },
        "outputId": "ae60becf-c185-45cc-8658-7f43cacff28d"
      },
      "source": [
        "# training 데이터를 다룬 것처럼 test 데이터셋도 데이터프레임에 저장해봅니다.\n",
        "test_names = [get_class_name(path) for path in test_paths]\n",
        "test_data = {'name': test_paths, 'class': test_names}\n",
        "test_df = pd.DataFrame(test_data)\n",
        "test_df.head()"
      ],
      "execution_count": 33,
      "outputs": [
        {
          "output_type": "execute_result",
          "data": {
            "text/html": [
              "<div>\n",
              "<style scoped>\n",
              "    .dataframe tbody tr th:only-of-type {\n",
              "        vertical-align: middle;\n",
              "    }\n",
              "\n",
              "    .dataframe tbody tr th {\n",
              "        vertical-align: top;\n",
              "    }\n",
              "\n",
              "    .dataframe thead th {\n",
              "        text-align: right;\n",
              "    }\n",
              "</style>\n",
              "<table border=\"1\" class=\"dataframe\">\n",
              "  <thead>\n",
              "    <tr style=\"text-align: right;\">\n",
              "      <th></th>\n",
              "      <th>name</th>\n",
              "      <th>class</th>\n",
              "    </tr>\n",
              "  </thead>\n",
              "  <tbody>\n",
              "    <tr>\n",
              "      <th>0</th>\n",
              "      <td>/content/cifar/test/0_cat.png</td>\n",
              "      <td>cat</td>\n",
              "    </tr>\n",
              "    <tr>\n",
              "      <th>1</th>\n",
              "      <td>/content/cifar/test/1000_dog.png</td>\n",
              "      <td>dog</td>\n",
              "    </tr>\n",
              "    <tr>\n",
              "      <th>2</th>\n",
              "      <td>/content/cifar/test/1001_airplane.png</td>\n",
              "      <td>airplane</td>\n",
              "    </tr>\n",
              "    <tr>\n",
              "      <th>3</th>\n",
              "      <td>/content/cifar/test/1002_ship.png</td>\n",
              "      <td>ship</td>\n",
              "    </tr>\n",
              "    <tr>\n",
              "      <th>4</th>\n",
              "      <td>/content/cifar/test/1003_deer.png</td>\n",
              "      <td>deer</td>\n",
              "    </tr>\n",
              "  </tbody>\n",
              "</table>\n",
              "</div>"
            ],
            "text/plain": [
              "                                    name     class\n",
              "0          /content/cifar/test/0_cat.png       cat\n",
              "1       /content/cifar/test/1000_dog.png       dog\n",
              "2  /content/cifar/test/1001_airplane.png  airplane\n",
              "3      /content/cifar/test/1002_ship.png      ship\n",
              "4      /content/cifar/test/1003_deer.png      deer"
            ]
          },
          "metadata": {
            "tags": []
          },
          "execution_count": 33
        }
      ]
    },
    {
      "cell_type": "code",
      "metadata": {
        "id": "haPC5Mr95Tpu",
        "colab_type": "code",
        "colab": {}
      },
      "source": [
        "# DataFrame을 csv로 저장할건데, 경로를 먼저 지정합니다. \n",
        "train_csv_path = '/content/drive/My Drive/[AOP:딥러닝 인공지능]/TEST/1. [Tensorflow 2.0 과 Pytorch]/3. 이미지 분석으로 배우는 tensorflow 2.0과 Pytorch/3. dataset/train_dataset.csv'\n",
        "test_csv_path = '/content/drive/My Drive/[AOP:딥러닝 인공지능]/TEST/1. [Tensorflow 2.0 과 Pytorch]/3. 이미지 분석으로 배우는 tensorflow 2.0과 Pytorch/3. dataset/test_dataset.csv'\n"
      ],
      "execution_count": 34,
      "outputs": []
    },
    {
      "cell_type": "code",
      "metadata": {
        "id": "wseDItue5UGJ",
        "colab_type": "code",
        "colab": {}
      },
      "source": [
        "# 지정한 경로로 데이터를 저장하고, 인덱스 값은 False로 해둡니다. True로 지정하는 경우 인덱스에 0,1,2,3 과 같이 넘버링이 됩니다.\n",
        "train_df.to_csv(train_csv_path, index=False)\n",
        "test_df.to_csv(test_csv_path, index=False)\n"
      ],
      "execution_count": 35,
      "outputs": []
    },
    {
      "cell_type": "markdown",
      "metadata": {
        "id": "hWwlKegGy7K4",
        "colab_type": "text"
      },
      "source": [
        "## Hyperparameter Tunning"
      ]
    },
    {
      "cell_type": "code",
      "metadata": {
        "id": "pRiP8ULpy7K6",
        "colab_type": "code",
        "colab": {}
      },
      "source": [
        "num_epochs = 10\n",
        "batch_size = 32\n",
        "\n",
        "learning_rate = 0.001\n",
        "\n",
        "dropout_rate = 0.7\n",
        "\n",
        "input_shape = (32, 32, 3)\n",
        "num_classes = 10"
      ],
      "execution_count": 2,
      "outputs": []
    },
    {
      "cell_type": "markdown",
      "metadata": {
        "id": "u8gX6G7ay7K-",
        "colab_type": "text"
      },
      "source": [
        "## Preprocess"
      ]
    },
    {
      "cell_type": "code",
      "metadata": {
        "id": "2AzDR3FUy7K-",
        "colab_type": "code",
        "colab": {}
      },
      "source": [
        "import pandas as pd"
      ],
      "execution_count": 4,
      "outputs": []
    },
    {
      "cell_type": "code",
      "metadata": {
        "id": "Xsi8LFO0y7LC",
        "colab_type": "code",
        "colab": {}
      },
      "source": [
        "# 저장한 csv를 불러옵니다.\n",
        "train_df = pd.read_csv('/content/drive/My Drive/[AOP:딥러닝 인공지능]/TEST/1. [Tensorflow 2.0 과 Pytorch]/3. 이미지 분석으로 배우는 tensorflow 2.0과 Pytorch/3. dataset/train_dataset.csv')\n",
        "test_df = pd.read_csv('/content/drive/My Drive/[AOP:딥러닝 인공지능]/TEST/1. [Tensorflow 2.0 과 Pytorch]/3. 이미지 분석으로 배우는 tensorflow 2.0과 Pytorch/3. dataset/test_dataset.csv')"
      ],
      "execution_count": 36,
      "outputs": []
    },
    {
      "cell_type": "code",
      "metadata": {
        "id": "fxTN_oL6y7LF",
        "colab_type": "code",
        "colab": {
          "base_uri": "https://localhost:8080/",
          "height": 204
        },
        "outputId": "81d3ec10-06f8-42a4-f039-8ae7e629cfe1"
      },
      "source": [
        "train_df.head()"
      ],
      "execution_count": 37,
      "outputs": [
        {
          "output_type": "execute_result",
          "data": {
            "text/html": [
              "<div>\n",
              "<style scoped>\n",
              "    .dataframe tbody tr th:only-of-type {\n",
              "        vertical-align: middle;\n",
              "    }\n",
              "\n",
              "    .dataframe tbody tr th {\n",
              "        vertical-align: top;\n",
              "    }\n",
              "\n",
              "    .dataframe thead th {\n",
              "        text-align: right;\n",
              "    }\n",
              "</style>\n",
              "<table border=\"1\" class=\"dataframe\">\n",
              "  <thead>\n",
              "    <tr style=\"text-align: right;\">\n",
              "      <th></th>\n",
              "      <th>name</th>\n",
              "      <th>class</th>\n",
              "    </tr>\n",
              "  </thead>\n",
              "  <tbody>\n",
              "    <tr>\n",
              "      <th>0</th>\n",
              "      <td>/content/cifar/train/0_frog.png</td>\n",
              "      <td>frog</td>\n",
              "    </tr>\n",
              "    <tr>\n",
              "      <th>1</th>\n",
              "      <td>/content/cifar/train/10000_automobile.png</td>\n",
              "      <td>automobile</td>\n",
              "    </tr>\n",
              "    <tr>\n",
              "      <th>2</th>\n",
              "      <td>/content/cifar/train/10001_frog.png</td>\n",
              "      <td>frog</td>\n",
              "    </tr>\n",
              "    <tr>\n",
              "      <th>3</th>\n",
              "      <td>/content/cifar/train/10002_frog.png</td>\n",
              "      <td>frog</td>\n",
              "    </tr>\n",
              "    <tr>\n",
              "      <th>4</th>\n",
              "      <td>/content/cifar/train/10003_ship.png</td>\n",
              "      <td>ship</td>\n",
              "    </tr>\n",
              "  </tbody>\n",
              "</table>\n",
              "</div>"
            ],
            "text/plain": [
              "                                        name       class\n",
              "0            /content/cifar/train/0_frog.png        frog\n",
              "1  /content/cifar/train/10000_automobile.png  automobile\n",
              "2        /content/cifar/train/10001_frog.png        frog\n",
              "3        /content/cifar/train/10002_frog.png        frog\n",
              "4        /content/cifar/train/10003_ship.png        ship"
            ]
          },
          "metadata": {
            "tags": []
          },
          "execution_count": 37
        }
      ]
    },
    {
      "cell_type": "code",
      "metadata": {
        "id": "YgibjnFEy7LH",
        "colab_type": "code",
        "colab": {
          "base_uri": "https://localhost:8080/",
          "height": 204
        },
        "outputId": "417e882c-f223-482f-f4cf-68e7490f737f"
      },
      "source": [
        "test_df.head()"
      ],
      "execution_count": 38,
      "outputs": [
        {
          "output_type": "execute_result",
          "data": {
            "text/html": [
              "<div>\n",
              "<style scoped>\n",
              "    .dataframe tbody tr th:only-of-type {\n",
              "        vertical-align: middle;\n",
              "    }\n",
              "\n",
              "    .dataframe tbody tr th {\n",
              "        vertical-align: top;\n",
              "    }\n",
              "\n",
              "    .dataframe thead th {\n",
              "        text-align: right;\n",
              "    }\n",
              "</style>\n",
              "<table border=\"1\" class=\"dataframe\">\n",
              "  <thead>\n",
              "    <tr style=\"text-align: right;\">\n",
              "      <th></th>\n",
              "      <th>name</th>\n",
              "      <th>class</th>\n",
              "    </tr>\n",
              "  </thead>\n",
              "  <tbody>\n",
              "    <tr>\n",
              "      <th>0</th>\n",
              "      <td>/content/cifar/test/0_cat.png</td>\n",
              "      <td>cat</td>\n",
              "    </tr>\n",
              "    <tr>\n",
              "      <th>1</th>\n",
              "      <td>/content/cifar/test/1000_dog.png</td>\n",
              "      <td>dog</td>\n",
              "    </tr>\n",
              "    <tr>\n",
              "      <th>2</th>\n",
              "      <td>/content/cifar/test/1001_airplane.png</td>\n",
              "      <td>airplane</td>\n",
              "    </tr>\n",
              "    <tr>\n",
              "      <th>3</th>\n",
              "      <td>/content/cifar/test/1002_ship.png</td>\n",
              "      <td>ship</td>\n",
              "    </tr>\n",
              "    <tr>\n",
              "      <th>4</th>\n",
              "      <td>/content/cifar/test/1003_deer.png</td>\n",
              "      <td>deer</td>\n",
              "    </tr>\n",
              "  </tbody>\n",
              "</table>\n",
              "</div>"
            ],
            "text/plain": [
              "                                    name     class\n",
              "0          /content/cifar/test/0_cat.png       cat\n",
              "1       /content/cifar/test/1000_dog.png       dog\n",
              "2  /content/cifar/test/1001_airplane.png  airplane\n",
              "3      /content/cifar/test/1002_ship.png      ship\n",
              "4      /content/cifar/test/1003_deer.png      deer"
            ]
          },
          "metadata": {
            "tags": []
          },
          "execution_count": 38
        }
      ]
    },
    {
      "cell_type": "code",
      "metadata": {
        "id": "Ffnf5iVRy7LJ",
        "colab_type": "code",
        "colab": {}
      },
      "source": [
        "train_datagen = ImageDataGenerator(\n",
        "    rescale=1./255.,\n",
        "    width_shift_range=0.3,\n",
        "    zoom_range=0.2,\n",
        "    horizontal_flip=True\n",
        ")\n",
        "\n",
        "test_datagen = ImageDataGenerator(\n",
        "    rescale=1./255.,\n",
        ")"
      ],
      "execution_count": 39,
      "outputs": []
    },
    {
      "cell_type": "code",
      "metadata": {
        "id": "TG-VlS0vy7LK",
        "colab_type": "code",
        "colab": {
          "base_uri": "https://localhost:8080/",
          "height": 51
        },
        "outputId": "6bc521e9-a187-4f73-f8b1-58673a86aaf4"
      },
      "source": [
        "train_generator = train_datagen.flow_from_dataframe(\n",
        "    train_df,\n",
        "    x_col='name',\n",
        "    y_col='class',\n",
        "    target_size=input_shape[:2],\n",
        "    batch_size=batch_size\n",
        ")\n",
        "\n",
        "test_generator = test_datagen.flow_from_dataframe(\n",
        "    test_df,\n",
        "    x_col='name',\n",
        "    y_col='class',\n",
        "    target_size=input_shape[:2],\n",
        "    batch_size=batch_size\n",
        ")\n",
        "\n"
      ],
      "execution_count": 40,
      "outputs": [
        {
          "output_type": "stream",
          "text": [
            "Found 50000 validated image filenames belonging to 10 classes.\n",
            "Found 10000 validated image filenames belonging to 10 classes.\n"
          ],
          "name": "stdout"
        }
      ]
    },
    {
      "cell_type": "markdown",
      "metadata": {
        "id": "zX6hcwX_y7LM",
        "colab_type": "text"
      },
      "source": [
        "## Build Model"
      ]
    },
    {
      "cell_type": "code",
      "metadata": {
        "id": "mSiG8wWNy7LM",
        "colab_type": "code",
        "colab": {}
      },
      "source": [
        "inputs = layers.Input(input_shape)\n",
        "net = layers.Conv2D(32, (3, 3), padding='SAME')(inputs)\n",
        "net = layers.Activation('relu')(net)\n",
        "net = layers.Conv2D(32, (3, 3), padding='SAME')(net)\n",
        "net = layers.Activation('relu')(net)\n",
        "net = layers.MaxPooling2D(pool_size=(2, 2))(net)\n",
        "net = layers.Dropout(dropout_rate)(net)\n",
        "\n",
        "net = layers.Conv2D(64, (3, 3), padding='SAME')(net)\n",
        "net = layers.Activation('relu')(net)\n",
        "net = layers.Conv2D(64, (3, 3), padding='SAME')(net)\n",
        "net = layers.Activation('relu')(net)\n",
        "net = layers.MaxPooling2D(pool_size=(2, 2))(net)\n",
        "net = layers.Dropout(dropout_rate)(net)\n",
        "\n",
        "net = layers.Flatten()(net)\n",
        "net = layers.Dense(512)(net)\n",
        "net = layers.Activation('relu')(net)\n",
        "net = layers.Dropout(dropout_rate)(net)\n",
        "net = layers.Dense(num_classes)(net)\n",
        "net = layers.Activation('softmax')(net)\n",
        "\n",
        "model = tf.keras.Model(inputs=inputs, outputs=net, name='Basic_CNN')"
      ],
      "execution_count": 41,
      "outputs": []
    },
    {
      "cell_type": "code",
      "metadata": {
        "id": "zToxOFYuy7LO",
        "colab_type": "code",
        "colab": {}
      },
      "source": [
        "model.compile(optimizer=tf.keras.optimizers.Adam(learning_rate),  # Optimization\n",
        "              loss='categorical_crossentropy',  # Loss Function \n",
        "              metrics=['accuracy'])  # Metrics / Accuracy"
      ],
      "execution_count": 42,
      "outputs": []
    },
    {
      "cell_type": "markdown",
      "metadata": {
        "id": "ulRp2Tjry7LQ",
        "colab_type": "text"
      },
      "source": [
        "## Training"
      ]
    },
    {
      "cell_type": "code",
      "metadata": {
        "id": "uFdQcFYm9b8x",
        "colab_type": "code",
        "colab": {
          "base_uri": "https://localhost:8080/",
          "height": 34
        },
        "outputId": "f01737f9-bbf3-4e71-bede-3d9fa9ef9e9d"
      },
      "source": [
        "#모델 돌리기 전에 데이터 개수 확인해보자!\n",
        "batch_size, len(train_df) // 32, len(train_generator)"
      ],
      "execution_count": 44,
      "outputs": [
        {
          "output_type": "execute_result",
          "data": {
            "text/plain": [
              "(32, 1562, 1563)"
            ]
          },
          "metadata": {
            "tags": []
          },
          "execution_count": 44
        }
      ]
    },
    {
      "cell_type": "code",
      "metadata": {
        "scrolled": false,
        "id": "ZwXqWVvDy7LQ",
        "colab_type": "code",
        "colab": {}
      },
      "source": [
        "model.fit_generator(\n",
        "    train_generator,\n",
        "    steps_per_epoch=len(train_generator),\n",
        "    epochs=num_epochs,\n",
        "    validation_data=test_generator,\n",
        "    validation_steps=len(test_generator)\n",
        ")"
      ],
      "execution_count": null,
      "outputs": []
    },
    {
      "cell_type": "code",
      "metadata": {
        "id": "myNNRtbfy7LS",
        "colab_type": "code",
        "colab": {}
      },
      "source": [
        ""
      ],
      "execution_count": null,
      "outputs": []
    },
    {
      "cell_type": "code",
      "metadata": {
        "id": "GKcfil290MbJ",
        "colab_type": "code",
        "colab": {}
      },
      "source": [
        ""
      ],
      "execution_count": null,
      "outputs": []
    },
    {
      "cell_type": "code",
      "metadata": {
        "id": "ccDWSvox0M5v",
        "colab_type": "code",
        "colab": {}
      },
      "source": [
        ""
      ],
      "execution_count": null,
      "outputs": []
    }
  ]
}