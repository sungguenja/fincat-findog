{
  "nbformat": 4,
  "nbformat_minor": 0,
  "metadata": {
    "kernelspec": {
      "display_name": "Python 3",
      "language": "python",
      "name": "python3"
    },
    "language_info": {
      "codemirror_mode": {
        "name": "ipython",
        "version": 3
      },
      "file_extension": ".py",
      "mimetype": "text/x-python",
      "name": "python",
      "nbconvert_exporter": "python",
      "pygments_lexer": "ipython3",
      "version": "3.7.3"
    },
    "colab": {
      "name": "[검수완료]16. callbacks - model checkpoint.ipynb",
      "provenance": [],
      "toc_visible": true
    }
  },
  "cells": [
    {
      "cell_type": "markdown",
      "metadata": {
        "id": "ubZ8AyeuqIut",
        "colab_type": "text"
      },
      "source": [
        "# TensorFlow 2.0"
      ]
    },
    {
      "cell_type": "code",
      "metadata": {
        "id": "aVgrWbywqIuu",
        "colab_type": "code",
        "colab": {}
      },
      "source": [
        "import os\n",
        "from glob import glob\n",
        "from datetime import datetime\n",
        "\n",
        "import numpy as np\n",
        "\n",
        "import tensorflow as tf\n",
        "from tensorflow.keras import layers\n",
        "\n",
        "from tensorflow.keras import datasets \n",
        "\n",
        "import matplotlib.pyplot as plt\n",
        "\n",
        "%matplotlib inline"
      ],
      "execution_count": null,
      "outputs": []
    },
    {
      "cell_type": "markdown",
      "metadata": {
        "id": "k5132cL7qIu0",
        "colab_type": "text"
      },
      "source": [
        "## Hyperparameter Tunning"
      ]
    },
    {
      "cell_type": "code",
      "metadata": {
        "id": "MWioCEJ4qIu2",
        "colab_type": "code",
        "colab": {}
      },
      "source": [
        "num_epochs = 20\n",
        "batch_size = 32\n",
        "\n",
        "learning_rate = 0.001\n",
        "\n",
        "dropout_rate = 0.5\n",
        "\n",
        "input_shape = (32, 32, 3)\n",
        "num_classes = 10"
      ],
      "execution_count": null,
      "outputs": []
    },
    {
      "cell_type": "markdown",
      "metadata": {
        "id": "cidQRVTgqIu7",
        "colab_type": "text"
      },
      "source": [
        "## Build Model"
      ]
    },
    {
      "cell_type": "code",
      "metadata": {
        "id": "5R-jsYpxqIu8",
        "colab_type": "code",
        "colab": {}
      },
      "source": [
        "inputs = layers.Input(input_shape)\n",
        "\n",
        "net = layers.Conv2D(32, (3, 3), padding='SAME')(inputs)\n",
        "net = layers.Activation('relu')(net)\n",
        "net = layers.Conv2D(32, (3, 3), padding='SAME')(net)\n",
        "net = layers.Activation('relu')(net)\n",
        "net = layers.MaxPooling2D(pool_size=(2, 2))(net)\n",
        "net = layers.Dropout(dropout_rate)(net)\n",
        "\n",
        "net = layers.Conv2D(64, (3, 3), padding='SAME')(net)\n",
        "net = layers.Activation('relu')(net)\n",
        "net = layers.Conv2D(64, (3, 3), padding='SAME')(net)\n",
        "net = layers.Activation('relu')(net)\n",
        "net = layers.MaxPooling2D(pool_size=(2, 2))(net)\n",
        "net = layers.Dropout(dropout_rate)(net)\n",
        "\n",
        "net = layers.Flatten()(net)\n",
        "net = layers.Dense(512)(net)\n",
        "net = layers.Activation('relu')(net)\n",
        "net = layers.Dropout(dropout_rate)(net)\n",
        "net = layers.Dense(num_classes)(net)\n",
        "net = layers.Activation('softmax')(net)\n",
        "\n",
        "model = tf.keras.Model(inputs=inputs, outputs=net, name='Basic_CNN')"
      ],
      "execution_count": null,
      "outputs": []
    },
    {
      "cell_type": "code",
      "metadata": {
        "id": "vbGnsnGkqIu_",
        "colab_type": "code",
        "colab": {}
      },
      "source": [
        "# Model is the full model w/o custom layers\n",
        "model.compile(optimizer=tf.keras.optimizers.Adam(learning_rate),  # Optimization\n",
        "              loss='sparse_categorical_crossentropy',  # Loss Function \n",
        "              metrics=['accuracy'])  # Metrics / Accuracy"
      ],
      "execution_count": null,
      "outputs": []
    },
    {
      "cell_type": "markdown",
      "metadata": {
        "id": "OqjEpra5qIvB",
        "colab_type": "text"
      },
      "source": [
        "# Data Preprocess"
      ]
    },
    {
      "cell_type": "code",
      "metadata": {
        "id": "lyNPyLBZqLrE",
        "colab_type": "code",
        "colab": {
          "base_uri": "https://localhost:8080/",
          "height": 122
        },
        "outputId": "86cd3076-52ee-45c7-bcaf-614d75fe66b8"
      },
      "source": [
        "from google.colab import drive\n",
        "drive.mount('/content/drive')"
      ],
      "execution_count": null,
      "outputs": [
        {
          "output_type": "stream",
          "text": [
            "Go to this URL in a browser: https://accounts.google.com/o/oauth2/auth?client_id=947318989803-6bn6qk8qdgf4n4g3pfee6491hc0brc4i.apps.googleusercontent.com&redirect_uri=urn%3aietf%3awg%3aoauth%3a2.0%3aoob&scope=email%20https%3a%2f%2fwww.googleapis.com%2fauth%2fdocs.test%20https%3a%2f%2fwww.googleapis.com%2fauth%2fdrive%20https%3a%2f%2fwww.googleapis.com%2fauth%2fdrive.photos.readonly%20https%3a%2f%2fwww.googleapis.com%2fauth%2fpeopleapi.readonly&response_type=code\n",
            "\n",
            "Enter your authorization code:\n",
            "··········\n",
            "Mounted at /content/drive\n"
          ],
          "name": "stdout"
        }
      ]
    },
    {
      "cell_type": "code",
      "metadata": {
        "id": "5Nw3RaapqLme",
        "colab_type": "code",
        "colab": {}
      },
      "source": [
        "# 압축 풀기\n",
        "!unzip -qq /content/drive/\"My Drive\"/\"[AOP:딥러닝 인공지능]\"/TEST/\"1. [Tensorflow 2.0 과 Pytorch]\"/\"3. 이미지 분석으로 배우는 tensorflow 2.0과 Pytorch\"/\"3. dataset\"/cifar.zip\n"
      ],
      "execution_count": null,
      "outputs": []
    },
    {
      "cell_type": "code",
      "metadata": {
        "id": "j94RdvZDqUGS",
        "colab_type": "code",
        "colab": {
          "base_uri": "https://localhost:8080/",
          "height": 34
        },
        "outputId": "cc47cf1b-d100-4e35-ba68-323737a26135"
      },
      "source": [
        "os.listdir('/content/cifar/')"
      ],
      "execution_count": null,
      "outputs": [
        {
          "output_type": "execute_result",
          "data": {
            "text/plain": [
              "['labels.txt', 'test', 'train']"
            ]
          },
          "metadata": {
            "tags": []
          },
          "execution_count": 7
        }
      ]
    },
    {
      "cell_type": "code",
      "metadata": {
        "id": "J_MWyO5PqIvB",
        "colab_type": "code",
        "colab": {}
      },
      "source": [
        "train_paths = glob('/content/cifar/train/*.png')[:1000]\n",
        "test_paths = glob('/content/cifar/test/*.png')[:1000]"
      ],
      "execution_count": null,
      "outputs": []
    },
    {
      "cell_type": "code",
      "metadata": {
        "id": "ykpoB0JNqIvD",
        "colab_type": "code",
        "colab": {
          "base_uri": "https://localhost:8080/",
          "height": 34
        },
        "outputId": "c725e340-2c6d-4fc8-c824-fe95c5d08af9"
      },
      "source": [
        "len(train_paths)"
      ],
      "execution_count": null,
      "outputs": [
        {
          "output_type": "execute_result",
          "data": {
            "text/plain": [
              "1000"
            ]
          },
          "metadata": {
            "tags": []
          },
          "execution_count": 9
        }
      ]
    },
    {
      "cell_type": "code",
      "metadata": {
        "id": "t6Kv_FTHqIvE",
        "colab_type": "code",
        "colab": {}
      },
      "source": [
        "def get_class_name(path):\n",
        "    return path.split('_')[-1].replace('.png', '')"
      ],
      "execution_count": null,
      "outputs": []
    },
    {
      "cell_type": "code",
      "metadata": {
        "id": "tn49mHRWqIvG",
        "colab_type": "code",
        "colab": {}
      },
      "source": [
        "train_labels = [get_class_name(path) for path in train_paths]\n",
        "class_names = np.unique(train_labels)"
      ],
      "execution_count": null,
      "outputs": []
    },
    {
      "cell_type": "code",
      "metadata": {
        "id": "d08-iAb_qIvH",
        "colab_type": "code",
        "colab": {}
      },
      "source": [
        "def get_label(path):\n",
        "    fname = tf.strings.split(path, '_')[-1]\n",
        "    lbl_name = tf.strings.regex_replace(fname, '.png', '')\n",
        "    onehot = tf.cast(lbl_name == class_names, tf.uint8)\n",
        "    return tf.argmax(onehot)  # 이번에는 onehot이 아닌 label 번호로"
      ],
      "execution_count": null,
      "outputs": []
    },
    {
      "cell_type": "code",
      "metadata": {
        "id": "CqyFxOt-qIvK",
        "colab_type": "code",
        "colab": {}
      },
      "source": [
        "def load_image_label(path):\n",
        "    gfile = tf.io.read_file(path)\n",
        "    image = tf.io.decode_image(gfile)\n",
        "    image = tf.cast(image, tf.float32) / 255.  # rescale\n",
        "    \n",
        "    label = get_label(path)\n",
        "    return image, label"
      ],
      "execution_count": null,
      "outputs": []
    },
    {
      "cell_type": "code",
      "metadata": {
        "id": "JHdZENw9qIvM",
        "colab_type": "code",
        "colab": {}
      },
      "source": [
        "def image_preprocess(image, label):\n",
        "    image = tf.image.random_flip_up_down(image)\n",
        "    image = tf.image.random_flip_left_right(image)\n",
        "    return image, label"
      ],
      "execution_count": null,
      "outputs": []
    },
    {
      "cell_type": "code",
      "metadata": {
        "id": "qqZussWKqIvN",
        "colab_type": "code",
        "colab": {}
      },
      "source": [
        "AUTOTUNE = tf.data.experimental.AUTOTUNE"
      ],
      "execution_count": null,
      "outputs": []
    },
    {
      "cell_type": "code",
      "metadata": {
        "scrolled": false,
        "id": "LYGacOkRqIvO",
        "colab_type": "code",
        "colab": {}
      },
      "source": [
        "train_dataset = tf.data.Dataset.from_tensor_slices(train_paths)\n",
        "train_dataset = train_dataset.map(load_image_label, num_parallel_calls=AUTOTUNE)\n",
        "train_dataset = train_dataset.map(image_preprocess, num_parallel_calls=AUTOTUNE)\n",
        "train_dataset = train_dataset.batch(batch_size)\n",
        "train_dataset = train_dataset.shuffle(buffer_size=len(train_paths))\n",
        "train_dataset = train_dataset.repeat()"
      ],
      "execution_count": null,
      "outputs": []
    },
    {
      "cell_type": "code",
      "metadata": {
        "id": "v5lqrpjmqIvQ",
        "colab_type": "code",
        "colab": {}
      },
      "source": [
        "test_dataset = tf.data.Dataset.from_tensor_slices(test_paths)\n",
        "test_dataset = test_dataset.map(load_image_label, num_parallel_calls=AUTOTUNE)\n",
        "test_dataset = test_dataset.batch(batch_size)\n",
        "test_dataset = test_dataset.repeat()"
      ],
      "execution_count": null,
      "outputs": []
    },
    {
      "cell_type": "markdown",
      "metadata": {
        "id": "_cNYuN1DqIvR",
        "colab_type": "text"
      },
      "source": [
        "# Checkpoint"
      ]
    },
    {
      "cell_type": "code",
      "metadata": {
        "id": "dg5xykDuqIvS",
        "colab_type": "code",
        "colab": {}
      },
      "source": [
        "save_path = 'checkpoints'"
      ],
      "execution_count": null,
      "outputs": []
    },
    {
      "cell_type": "code",
      "metadata": {
        "id": "xpKyESuAqIvT",
        "colab_type": "code",
        "colab": {}
      },
      "source": [
        "checkpoint = tf.keras.callbacks.ModelCheckpoint(save_path,monitor='val_accuracy',verbose=1,save_best_only=True) #accuracy가 올라갈때만 저장해라(save_best_only)"
      ],
      "execution_count": null,
      "outputs": []
    },
    {
      "cell_type": "markdown",
      "metadata": {
        "id": "tL1MEw1-qIvU",
        "colab_type": "text"
      },
      "source": [
        "## Training"
      ]
    },
    {
      "cell_type": "code",
      "metadata": {
        "id": "HlJm2jxQqIvU",
        "colab_type": "code",
        "colab": {
          "base_uri": "https://localhost:8080/",
          "height": 1000
        },
        "outputId": "4d2f4801-038e-4f69-a5d0-38944e2f0377"
      },
      "source": [
        "steps_per_epoch = len(train_paths) // batch_size\n",
        "validation_steps = len(test_paths) // batch_size\n",
        "\n",
        "model.fit_generator(\n",
        "    train_dataset,\n",
        "    steps_per_epoch=steps_per_epoch,\n",
        "    validation_data=test_dataset,\n",
        "    validation_steps=validation_steps,\n",
        "    epochs=num_epochs,\n",
        "    callbacks=[checkpoint]\n",
        ")"
      ],
      "execution_count": null,
      "outputs": [
        {
          "output_type": "stream",
          "text": [
            "WARNING:tensorflow:From <ipython-input-21-3fd87bc18fd4>:10: Model.fit_generator (from tensorflow.python.keras.engine.training) is deprecated and will be removed in a future version.\n",
            "Instructions for updating:\n",
            "Please use Model.fit, which supports generators.\n",
            "Epoch 1/20\n",
            "31/31 [==============================] - ETA: 0s - loss: 2.3133 - accuracy: 0.0961\n",
            "Epoch 00001: val_accuracy improved from -inf to 0.13911, saving model to checkpoints\n",
            "WARNING:tensorflow:From /usr/local/lib/python3.6/dist-packages/tensorflow/python/training/tracking/tracking.py:111: Model.state_updates (from tensorflow.python.keras.engine.training) is deprecated and will be removed in a future version.\n",
            "Instructions for updating:\n",
            "This property should not be used in TensorFlow 2.0, as updates are applied automatically.\n",
            "WARNING:tensorflow:From /usr/local/lib/python3.6/dist-packages/tensorflow/python/training/tracking/tracking.py:111: Layer.updates (from tensorflow.python.keras.engine.base_layer) is deprecated and will be removed in a future version.\n",
            "Instructions for updating:\n",
            "This property should not be used in TensorFlow 2.0, as updates are applied automatically.\n",
            "INFO:tensorflow:Assets written to: checkpoints/assets\n",
            "31/31 [==============================] - 9s 302ms/step - loss: 2.3133 - accuracy: 0.0961 - val_loss: 2.2836 - val_accuracy: 0.1391\n",
            "Epoch 2/20\n",
            "31/31 [==============================] - ETA: 0s - loss: 2.2163 - accuracy: 0.1725\n",
            "Epoch 00002: val_accuracy improved from 0.13911 to 0.16129, saving model to checkpoints\n",
            "INFO:tensorflow:Assets written to: checkpoints/assets\n",
            "31/31 [==============================] - 9s 293ms/step - loss: 2.2163 - accuracy: 0.1725 - val_loss: 2.1358 - val_accuracy: 0.1613\n",
            "Epoch 3/20\n",
            "31/31 [==============================] - ETA: 0s - loss: 2.1346 - accuracy: 0.1777\n",
            "Epoch 00003: val_accuracy improved from 0.16129 to 0.20363, saving model to checkpoints\n",
            "INFO:tensorflow:Assets written to: checkpoints/assets\n",
            "31/31 [==============================] - 9s 289ms/step - loss: 2.1346 - accuracy: 0.1777 - val_loss: 2.0508 - val_accuracy: 0.2036\n",
            "Epoch 4/20\n",
            "31/31 [==============================] - ETA: 0s - loss: 2.0908 - accuracy: 0.2169\n",
            "Epoch 00004: val_accuracy improved from 0.20363 to 0.21169, saving model to checkpoints\n",
            "INFO:tensorflow:Assets written to: checkpoints/assets\n",
            "31/31 [==============================] - 9s 296ms/step - loss: 2.0908 - accuracy: 0.2169 - val_loss: 2.0963 - val_accuracy: 0.2117\n",
            "Epoch 5/20\n",
            "31/31 [==============================] - ETA: 0s - loss: 2.0420 - accuracy: 0.1996\n",
            "Epoch 00005: val_accuracy improved from 0.21169 to 0.23992, saving model to checkpoints\n",
            "INFO:tensorflow:Assets written to: checkpoints/assets\n",
            "31/31 [==============================] - 9s 290ms/step - loss: 2.0420 - accuracy: 0.1996 - val_loss: 1.9878 - val_accuracy: 0.2399\n",
            "Epoch 6/20\n",
            "31/31 [==============================] - ETA: 0s - loss: 1.9813 - accuracy: 0.2288\n",
            "Epoch 00006: val_accuracy did not improve from 0.23992\n",
            "31/31 [==============================] - 7s 236ms/step - loss: 1.9813 - accuracy: 0.2288 - val_loss: 1.9939 - val_accuracy: 0.2268\n",
            "Epoch 7/20\n",
            "31/31 [==============================] - ETA: 0s - loss: 1.9861 - accuracy: 0.2293\n",
            "Epoch 00007: val_accuracy did not improve from 0.23992\n",
            "31/31 [==============================] - 7s 241ms/step - loss: 1.9861 - accuracy: 0.2293 - val_loss: 2.0648 - val_accuracy: 0.1956\n",
            "Epoch 8/20\n",
            "31/31 [==============================] - ETA: 0s - loss: 1.9664 - accuracy: 0.2779\n",
            "Epoch 00008: val_accuracy did not improve from 0.23992\n",
            "31/31 [==============================] - 7s 240ms/step - loss: 1.9664 - accuracy: 0.2779 - val_loss: 2.0440 - val_accuracy: 0.2228\n",
            "Epoch 9/20\n",
            "31/31 [==============================] - ETA: 0s - loss: 1.9058 - accuracy: 0.2831\n",
            "Epoch 00009: val_accuracy improved from 0.23992 to 0.28125, saving model to checkpoints\n",
            "INFO:tensorflow:Assets written to: checkpoints/assets\n",
            "31/31 [==============================] - 9s 292ms/step - loss: 1.9058 - accuracy: 0.2831 - val_loss: 1.8802 - val_accuracy: 0.2812\n",
            "Epoch 10/20\n",
            "31/31 [==============================] - ETA: 0s - loss: 1.8908 - accuracy: 0.2841\n",
            "Epoch 00010: val_accuracy did not improve from 0.28125\n",
            "31/31 [==============================] - 7s 241ms/step - loss: 1.8908 - accuracy: 0.2841 - val_loss: 1.9114 - val_accuracy: 0.2762\n",
            "Epoch 11/20\n",
            "31/31 [==============================] - ETA: 0s - loss: 1.8441 - accuracy: 0.3079\n",
            "Epoch 00011: val_accuracy improved from 0.28125 to 0.32560, saving model to checkpoints\n",
            "INFO:tensorflow:Assets written to: checkpoints/assets\n",
            "31/31 [==============================] - 9s 287ms/step - loss: 1.8441 - accuracy: 0.3079 - val_loss: 1.8428 - val_accuracy: 0.3256\n",
            "Epoch 12/20\n",
            "31/31 [==============================] - ETA: 0s - loss: 1.8167 - accuracy: 0.3196\n",
            "Epoch 00012: val_accuracy did not improve from 0.32560\n",
            "31/31 [==============================] - 8s 242ms/step - loss: 1.8167 - accuracy: 0.3196 - val_loss: 1.8501 - val_accuracy: 0.3145\n",
            "Epoch 13/20\n",
            "31/31 [==============================] - ETA: 0s - loss: 1.8105 - accuracy: 0.3231\n",
            "Epoch 00013: val_accuracy improved from 0.32560 to 0.32762, saving model to checkpoints\n",
            "INFO:tensorflow:Assets written to: checkpoints/assets\n",
            "31/31 [==============================] - 9s 281ms/step - loss: 1.8105 - accuracy: 0.3231 - val_loss: 1.7735 - val_accuracy: 0.3276\n",
            "Epoch 14/20\n",
            "31/31 [==============================] - ETA: 0s - loss: 1.7421 - accuracy: 0.3554\n",
            "Epoch 00014: val_accuracy improved from 0.32762 to 0.35181, saving model to checkpoints\n",
            "INFO:tensorflow:Assets written to: checkpoints/assets\n",
            "31/31 [==============================] - 9s 294ms/step - loss: 1.7421 - accuracy: 0.3554 - val_loss: 1.7638 - val_accuracy: 0.3518\n",
            "Epoch 15/20\n",
            "31/31 [==============================] - ETA: 0s - loss: 1.7952 - accuracy: 0.3246\n",
            "Epoch 00015: val_accuracy improved from 0.35181 to 0.35282, saving model to checkpoints\n",
            "INFO:tensorflow:Assets written to: checkpoints/assets\n",
            "31/31 [==============================] - 9s 290ms/step - loss: 1.7952 - accuracy: 0.3246 - val_loss: 1.7439 - val_accuracy: 0.3528\n",
            "Epoch 16/20\n",
            "31/31 [==============================] - ETA: 0s - loss: 1.7119 - accuracy: 0.3512\n",
            "Epoch 00016: val_accuracy did not improve from 0.35282\n",
            "31/31 [==============================] - 7s 238ms/step - loss: 1.7119 - accuracy: 0.3512 - val_loss: 1.7464 - val_accuracy: 0.3397\n",
            "Epoch 17/20\n",
            "31/31 [==============================] - ETA: 0s - loss: 1.7450 - accuracy: 0.3411\n",
            "Epoch 00017: val_accuracy improved from 0.35282 to 0.36794, saving model to checkpoints\n",
            "INFO:tensorflow:Assets written to: checkpoints/assets\n",
            "31/31 [==============================] - 9s 288ms/step - loss: 1.7450 - accuracy: 0.3411 - val_loss: 1.7351 - val_accuracy: 0.3679\n",
            "Epoch 18/20\n",
            "31/31 [==============================] - ETA: 0s - loss: 1.6651 - accuracy: 0.3881\n",
            "Epoch 00018: val_accuracy did not improve from 0.36794\n",
            "31/31 [==============================] - 8s 243ms/step - loss: 1.6651 - accuracy: 0.3881 - val_loss: 1.7632 - val_accuracy: 0.3599\n",
            "Epoch 19/20\n",
            "31/31 [==============================] - ETA: 0s - loss: 1.6190 - accuracy: 0.3812\n",
            "Epoch 00019: val_accuracy did not improve from 0.36794\n",
            "31/31 [==============================] - 7s 239ms/step - loss: 1.6190 - accuracy: 0.3812 - val_loss: 1.7453 - val_accuracy: 0.3589\n",
            "Epoch 20/20\n",
            "31/31 [==============================] - ETA: 0s - loss: 1.6357 - accuracy: 0.3936\n",
            "Epoch 00020: val_accuracy improved from 0.36794 to 0.38105, saving model to checkpoints\n",
            "INFO:tensorflow:Assets written to: checkpoints/assets\n",
            "31/31 [==============================] - 9s 287ms/step - loss: 1.6357 - accuracy: 0.3936 - val_loss: 1.7128 - val_accuracy: 0.3810\n"
          ],
          "name": "stdout"
        },
        {
          "output_type": "execute_result",
          "data": {
            "text/plain": [
              "<tensorflow.python.keras.callbacks.History at 0x7f207cbada20>"
            ]
          },
          "metadata": {
            "tags": []
          },
          "execution_count": 21
        }
      ]
    },
    {
      "cell_type": "markdown",
      "metadata": {
        "id": "tMBWkoidqIvV",
        "colab_type": "text"
      },
      "source": [
        "https://www.tensorflow.org/tensorboard/r2/image_summaries#setup"
      ]
    }
  ]
}